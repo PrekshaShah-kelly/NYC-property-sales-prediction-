{
 "cells": [
  {
   "cell_type": "code",
   "execution_count": 1,
   "metadata": {},
   "outputs": [],
   "source": [
    "#Importing Libraries\n",
    "import pandas as pd\n",
    "import numpy as np\n",
    "import matplotlib.pyplot as plt\n",
    "%matplotlib inline\n",
    "import seaborn as sns\n",
    "import warnings\n",
    "warnings.filterwarnings('ignore')\n",
    "\n",
    "from sklearn import metrics\n",
    "from sklearn.metrics import mean_squared_error, r2_score\n",
    "from sklearn.model_selection import cross_val_score"
   ]
  },
  {
   "cell_type": "code",
   "execution_count": 2,
   "metadata": {},
   "outputs": [],
   "source": [
    "# Loading the dataset\n",
    "df = pd.read_csv('nyc-rolling-sales.csv')"
   ]
  },
  {
   "cell_type": "code",
   "execution_count": 3,
   "metadata": {},
   "outputs": [
    {
     "output_type": "execute_result",
     "data": {
      "text/plain": [
       "   Unnamed: 0  BOROUGH   NEIGHBORHOOD  \\\n",
       "0           4        1  ALPHABET CITY   \n",
       "1           5        1  ALPHABET CITY   \n",
       "\n",
       "                       BUILDING CLASS CATEGORY TAX CLASS AT PRESENT  BLOCK  \\\n",
       "0  07 RENTALS - WALKUP APARTMENTS                                2A    392   \n",
       "1  07 RENTALS - WALKUP APARTMENTS                                 2    399   \n",
       "\n",
       "   LOT EASE-MENT BUILDING CLASS AT PRESENT                ADDRESS  ...  \\\n",
       "0    6                                  C2           153 AVENUE B  ...   \n",
       "1   26                                  C7  234 EAST 4TH   STREET  ...   \n",
       "\n",
       "  RESIDENTIAL UNITS  COMMERCIAL UNITS  TOTAL UNITS  LAND SQUARE FEET  \\\n",
       "0                 5                 0            5              1633   \n",
       "1                28                 3           31              4616   \n",
       "\n",
       "   GROSS SQUARE FEET YEAR BUILT TAX CLASS AT TIME OF SALE  \\\n",
       "0               6440       1900                         2   \n",
       "1              18690       1900                         2   \n",
       "\n",
       "   BUILDING CLASS AT TIME OF SALE  SALE PRICE            SALE DATE  \n",
       "0                              C2     6625000  2017-07-19 00:00:00  \n",
       "1                              C7         -    2016-12-14 00:00:00  \n",
       "\n",
       "[2 rows x 22 columns]"
      ],
      "text/html": "<div>\n<style scoped>\n    .dataframe tbody tr th:only-of-type {\n        vertical-align: middle;\n    }\n\n    .dataframe tbody tr th {\n        vertical-align: top;\n    }\n\n    .dataframe thead th {\n        text-align: right;\n    }\n</style>\n<table border=\"1\" class=\"dataframe\">\n  <thead>\n    <tr style=\"text-align: right;\">\n      <th></th>\n      <th>Unnamed: 0</th>\n      <th>BOROUGH</th>\n      <th>NEIGHBORHOOD</th>\n      <th>BUILDING CLASS CATEGORY</th>\n      <th>TAX CLASS AT PRESENT</th>\n      <th>BLOCK</th>\n      <th>LOT</th>\n      <th>EASE-MENT</th>\n      <th>BUILDING CLASS AT PRESENT</th>\n      <th>ADDRESS</th>\n      <th>...</th>\n      <th>RESIDENTIAL UNITS</th>\n      <th>COMMERCIAL UNITS</th>\n      <th>TOTAL UNITS</th>\n      <th>LAND SQUARE FEET</th>\n      <th>GROSS SQUARE FEET</th>\n      <th>YEAR BUILT</th>\n      <th>TAX CLASS AT TIME OF SALE</th>\n      <th>BUILDING CLASS AT TIME OF SALE</th>\n      <th>SALE PRICE</th>\n      <th>SALE DATE</th>\n    </tr>\n  </thead>\n  <tbody>\n    <tr>\n      <th>0</th>\n      <td>4</td>\n      <td>1</td>\n      <td>ALPHABET CITY</td>\n      <td>07 RENTALS - WALKUP APARTMENTS</td>\n      <td>2A</td>\n      <td>392</td>\n      <td>6</td>\n      <td></td>\n      <td>C2</td>\n      <td>153 AVENUE B</td>\n      <td>...</td>\n      <td>5</td>\n      <td>0</td>\n      <td>5</td>\n      <td>1633</td>\n      <td>6440</td>\n      <td>1900</td>\n      <td>2</td>\n      <td>C2</td>\n      <td>6625000</td>\n      <td>2017-07-19 00:00:00</td>\n    </tr>\n    <tr>\n      <th>1</th>\n      <td>5</td>\n      <td>1</td>\n      <td>ALPHABET CITY</td>\n      <td>07 RENTALS - WALKUP APARTMENTS</td>\n      <td>2</td>\n      <td>399</td>\n      <td>26</td>\n      <td></td>\n      <td>C7</td>\n      <td>234 EAST 4TH   STREET</td>\n      <td>...</td>\n      <td>28</td>\n      <td>3</td>\n      <td>31</td>\n      <td>4616</td>\n      <td>18690</td>\n      <td>1900</td>\n      <td>2</td>\n      <td>C7</td>\n      <td>-</td>\n      <td>2016-12-14 00:00:00</td>\n    </tr>\n  </tbody>\n</table>\n<p>2 rows × 22 columns</p>\n</div>"
     },
     "metadata": {},
     "execution_count": 3
    }
   ],
   "source": [
    "df.head(2)"
   ]
  },
  {
   "cell_type": "code",
   "execution_count": 4,
   "metadata": {},
   "outputs": [
    {
     "output_type": "stream",
     "name": "stdout",
     "text": [
      "(84548, 22)\n"
     ]
    }
   ],
   "source": [
    "# Printing the shape\n",
    "print(df.shape)"
   ]
  },
  {
   "cell_type": "code",
   "execution_count": 5,
   "metadata": {},
   "outputs": [],
   "source": [
    "# Dropping Unnecessary columns\n",
    "del df['EASE-MENT']\n",
    "del df['Unnamed: 0']\n",
    "del df['SALE DATE']\n",
    "\n"
   ]
  },
  {
   "cell_type": "code",
   "execution_count": 6,
   "metadata": {},
   "outputs": [
    {
     "output_type": "execute_result",
     "data": {
      "text/plain": [
       "   BOROUGH   NEIGHBORHOOD                      BUILDING CLASS CATEGORY  \\\n",
       "0        1  ALPHABET CITY  07 RENTALS - WALKUP APARTMENTS                \n",
       "1        1  ALPHABET CITY  07 RENTALS - WALKUP APARTMENTS                \n",
       "\n",
       "  TAX CLASS AT PRESENT  BLOCK  LOT BUILDING CLASS AT PRESENT  \\\n",
       "0                   2A    392    6                        C2   \n",
       "1                    2    399   26                        C7   \n",
       "\n",
       "                 ADDRESS APARTMENT NUMBER  ZIP CODE  RESIDENTIAL UNITS  \\\n",
       "0           153 AVENUE B                      10009                  5   \n",
       "1  234 EAST 4TH   STREET                      10009                 28   \n",
       "\n",
       "   COMMERCIAL UNITS  TOTAL UNITS LAND SQUARE FEET GROSS SQUARE FEET  \\\n",
       "0                 0            5             1633              6440   \n",
       "1                 3           31             4616             18690   \n",
       "\n",
       "   YEAR BUILT  TAX CLASS AT TIME OF SALE BUILDING CLASS AT TIME OF SALE  \\\n",
       "0        1900                          2                             C2   \n",
       "1        1900                          2                             C7   \n",
       "\n",
       "  SALE PRICE  \n",
       "0    6625000  \n",
       "1        -    "
      ],
      "text/html": "<div>\n<style scoped>\n    .dataframe tbody tr th:only-of-type {\n        vertical-align: middle;\n    }\n\n    .dataframe tbody tr th {\n        vertical-align: top;\n    }\n\n    .dataframe thead th {\n        text-align: right;\n    }\n</style>\n<table border=\"1\" class=\"dataframe\">\n  <thead>\n    <tr style=\"text-align: right;\">\n      <th></th>\n      <th>BOROUGH</th>\n      <th>NEIGHBORHOOD</th>\n      <th>BUILDING CLASS CATEGORY</th>\n      <th>TAX CLASS AT PRESENT</th>\n      <th>BLOCK</th>\n      <th>LOT</th>\n      <th>BUILDING CLASS AT PRESENT</th>\n      <th>ADDRESS</th>\n      <th>APARTMENT NUMBER</th>\n      <th>ZIP CODE</th>\n      <th>RESIDENTIAL UNITS</th>\n      <th>COMMERCIAL UNITS</th>\n      <th>TOTAL UNITS</th>\n      <th>LAND SQUARE FEET</th>\n      <th>GROSS SQUARE FEET</th>\n      <th>YEAR BUILT</th>\n      <th>TAX CLASS AT TIME OF SALE</th>\n      <th>BUILDING CLASS AT TIME OF SALE</th>\n      <th>SALE PRICE</th>\n    </tr>\n  </thead>\n  <tbody>\n    <tr>\n      <th>0</th>\n      <td>1</td>\n      <td>ALPHABET CITY</td>\n      <td>07 RENTALS - WALKUP APARTMENTS</td>\n      <td>2A</td>\n      <td>392</td>\n      <td>6</td>\n      <td>C2</td>\n      <td>153 AVENUE B</td>\n      <td></td>\n      <td>10009</td>\n      <td>5</td>\n      <td>0</td>\n      <td>5</td>\n      <td>1633</td>\n      <td>6440</td>\n      <td>1900</td>\n      <td>2</td>\n      <td>C2</td>\n      <td>6625000</td>\n    </tr>\n    <tr>\n      <th>1</th>\n      <td>1</td>\n      <td>ALPHABET CITY</td>\n      <td>07 RENTALS - WALKUP APARTMENTS</td>\n      <td>2</td>\n      <td>399</td>\n      <td>26</td>\n      <td>C7</td>\n      <td>234 EAST 4TH   STREET</td>\n      <td></td>\n      <td>10009</td>\n      <td>28</td>\n      <td>3</td>\n      <td>31</td>\n      <td>4616</td>\n      <td>18690</td>\n      <td>1900</td>\n      <td>2</td>\n      <td>C7</td>\n      <td>-</td>\n    </tr>\n  </tbody>\n</table>\n</div>"
     },
     "metadata": {},
     "execution_count": 6
    }
   ],
   "source": [
    "df.head(2)"
   ]
  },
  {
   "cell_type": "code",
   "execution_count": 7,
   "metadata": {},
   "outputs": [
    {
     "output_type": "execute_result",
     "data": {
      "text/plain": [
       "0"
      ]
     },
     "metadata": {},
     "execution_count": 7
    }
   ],
   "source": [
    "# Deleting the Duplicates\n",
    "df = df.drop_duplicates(df.columns, keep='last')\n",
    "sum(df.duplicated(df.columns))"
   ]
  },
  {
   "cell_type": "code",
   "execution_count": 8,
   "metadata": {},
   "outputs": [
    {
     "output_type": "execute_result",
     "data": {
      "text/plain": [
       "(83190, 19)"
      ]
     },
     "metadata": {},
     "execution_count": 8
    }
   ],
   "source": [
    "df.shape"
   ]
  },
  {
   "cell_type": "code",
   "execution_count": 9,
   "metadata": {},
   "outputs": [],
   "source": [
    "# Converting some columns to appropriate datatype\n",
    "df['TAX CLASS AT TIME OF SALE'] = df['TAX CLASS AT TIME OF SALE'].astype('category')\n",
    "df['TAX CLASS AT PRESENT'] = df['TAX CLASS AT PRESENT'].astype('category')\n",
    "df['LAND SQUARE FEET'] = pd.to_numeric(df['LAND SQUARE FEET'], errors='coerce')\n",
    "df['GROSS SQUARE FEET']= pd.to_numeric(df['GROSS SQUARE FEET'], errors='coerce')\n",
    "df['SALE PRICE'] = pd.to_numeric(df['SALE PRICE'], errors='coerce')\n",
    "df['BOROUGH'] = df['BOROUGH'].astype('category')"
   ]
  },
  {
   "cell_type": "code",
   "execution_count": 10,
   "metadata": {},
   "outputs": [
    {
     "output_type": "execute_result",
     "data": {
      "text/plain": [
       "Index(['LAND SQUARE FEET', 'GROSS SQUARE FEET', 'SALE PRICE'], dtype='object')"
      ]
     },
     "metadata": {},
     "execution_count": 10
    }
   ],
   "source": [
    "# Checking missing values\n",
    "\n",
    "df.columns[df.isnull().any()]"
   ]
  },
  {
   "cell_type": "code",
   "execution_count": 11,
   "metadata": {},
   "outputs": [],
   "source": [
    "# Fill missing values with mean values.\n",
    "\n",
    "df['LAND SQUARE FEET']=df['LAND SQUARE FEET'].fillna(df['LAND SQUARE FEET'].mean())\n",
    "df['GROSS SQUARE FEET']=df['GROSS SQUARE FEET'].fillna(df['GROSS SQUARE FEET'].mean())"
   ]
  },
  {
   "cell_type": "code",
   "execution_count": 14,
   "metadata": {},
   "outputs": [
    {
     "data": {
      "text/plain": [
       "Index(['SALE PRICE'], dtype='object')"
      ]
     },
     "execution_count": 14,
     "metadata": {},
     "output_type": "execute_result"
    }
   ],
   "source": [
    "df.columns[df.isnull().any()]"
   ]
  },
  {
   "cell_type": "code",
   "execution_count": 12,
   "metadata": {},
   "outputs": [],
   "source": [
    "# Splitting dataset based on missing values \n",
    "test = df[df['SALE PRICE'].isna()]\n",
    "df = df[~df['SALE PRICE'].isna()]"
   ]
  },
  {
   "cell_type": "code",
   "execution_count": 13,
   "metadata": {},
   "outputs": [
    {
     "output_type": "stream",
     "name": "stdout",
     "text": [
      "(13909, 19)\n"
     ]
    }
   ],
   "source": [
    "print(test.shape)"
   ]
  },
  {
   "cell_type": "code",
   "execution_count": 14,
   "metadata": {},
   "outputs": [
    {
     "output_type": "stream",
     "name": "stdout",
     "text": [
      "<class 'pandas.core.frame.DataFrame'>\nInt64Index: 69281 entries, 0 to 84547\nData columns (total 19 columns):\n #   Column                          Non-Null Count  Dtype   \n---  ------                          --------------  -----   \n 0   BOROUGH                         69281 non-null  category\n 1   NEIGHBORHOOD                    69281 non-null  object  \n 2   BUILDING CLASS CATEGORY         69281 non-null  object  \n 3   TAX CLASS AT PRESENT            69281 non-null  category\n 4   BLOCK                           69281 non-null  int64   \n 5   LOT                             69281 non-null  int64   \n 6   BUILDING CLASS AT PRESENT       69281 non-null  object  \n 7   ADDRESS                         69281 non-null  object  \n 8   APARTMENT NUMBER                69281 non-null  object  \n 9   ZIP CODE                        69281 non-null  int64   \n 10  RESIDENTIAL UNITS               69281 non-null  int64   \n 11  COMMERCIAL UNITS                69281 non-null  int64   \n 12  TOTAL UNITS                     69281 non-null  int64   \n 13  LAND SQUARE FEET                69281 non-null  float64 \n 14  GROSS SQUARE FEET               69281 non-null  float64 \n 15  YEAR BUILT                      69281 non-null  int64   \n 16  TAX CLASS AT TIME OF SALE       69281 non-null  category\n 17  BUILDING CLASS AT TIME OF SALE  69281 non-null  object  \n 18  SALE PRICE                      69281 non-null  float64 \ndtypes: category(3), float64(3), int64(7), object(6)\nmemory usage: 9.2+ MB\n"
     ]
    }
   ],
   "source": [
    "df.info()"
   ]
  },
  {
   "cell_type": "code",
   "execution_count": 16,
   "metadata": {
    "scrolled": true
   },
   "outputs": [
    {
     "output_type": "execute_result",
     "data": {
      "text/plain": [
       "  BOROUGH   NEIGHBORHOOD                      BUILDING CLASS CATEGORY  \\\n",
       "0       1  ALPHABET CITY  07 RENTALS - WALKUP APARTMENTS                \n",
       "3       1  ALPHABET CITY  07 RENTALS - WALKUP APARTMENTS                \n",
       "\n",
       "  TAX CLASS AT PRESENT  BLOCK  LOT BUILDING CLASS AT PRESENT  \\\n",
       "0                   2A    392    6                        C2   \n",
       "3                   2B    402   21                        C4   \n",
       "\n",
       "               ADDRESS APARTMENT NUMBER  ZIP CODE  RESIDENTIAL UNITS  \\\n",
       "0         153 AVENUE B                      10009                  5   \n",
       "3  154 EAST 7TH STREET                      10009                 10   \n",
       "\n",
       "   COMMERCIAL UNITS  TOTAL UNITS  LAND SQUARE FEET  GROSS SQUARE FEET  \\\n",
       "0                 0            5            1633.0             6440.0   \n",
       "3                 0           10            2272.0             6794.0   \n",
       "\n",
       "   YEAR BUILT TAX CLASS AT TIME OF SALE BUILDING CLASS AT TIME OF SALE  \\\n",
       "0        1900                         2                             C2   \n",
       "3        1913                         2                             C4   \n",
       "\n",
       "   SALE PRICE  \n",
       "0   6625000.0  \n",
       "3   3936272.0  "
      ],
      "text/html": "<div>\n<style scoped>\n    .dataframe tbody tr th:only-of-type {\n        vertical-align: middle;\n    }\n\n    .dataframe tbody tr th {\n        vertical-align: top;\n    }\n\n    .dataframe thead th {\n        text-align: right;\n    }\n</style>\n<table border=\"1\" class=\"dataframe\">\n  <thead>\n    <tr style=\"text-align: right;\">\n      <th></th>\n      <th>BOROUGH</th>\n      <th>NEIGHBORHOOD</th>\n      <th>BUILDING CLASS CATEGORY</th>\n      <th>TAX CLASS AT PRESENT</th>\n      <th>BLOCK</th>\n      <th>LOT</th>\n      <th>BUILDING CLASS AT PRESENT</th>\n      <th>ADDRESS</th>\n      <th>APARTMENT NUMBER</th>\n      <th>ZIP CODE</th>\n      <th>RESIDENTIAL UNITS</th>\n      <th>COMMERCIAL UNITS</th>\n      <th>TOTAL UNITS</th>\n      <th>LAND SQUARE FEET</th>\n      <th>GROSS SQUARE FEET</th>\n      <th>YEAR BUILT</th>\n      <th>TAX CLASS AT TIME OF SALE</th>\n      <th>BUILDING CLASS AT TIME OF SALE</th>\n      <th>SALE PRICE</th>\n    </tr>\n  </thead>\n  <tbody>\n    <tr>\n      <th>0</th>\n      <td>1</td>\n      <td>ALPHABET CITY</td>\n      <td>07 RENTALS - WALKUP APARTMENTS</td>\n      <td>2A</td>\n      <td>392</td>\n      <td>6</td>\n      <td>C2</td>\n      <td>153 AVENUE B</td>\n      <td></td>\n      <td>10009</td>\n      <td>5</td>\n      <td>0</td>\n      <td>5</td>\n      <td>1633.0</td>\n      <td>6440.0</td>\n      <td>1900</td>\n      <td>2</td>\n      <td>C2</td>\n      <td>6625000.0</td>\n    </tr>\n    <tr>\n      <th>3</th>\n      <td>1</td>\n      <td>ALPHABET CITY</td>\n      <td>07 RENTALS - WALKUP APARTMENTS</td>\n      <td>2B</td>\n      <td>402</td>\n      <td>21</td>\n      <td>C4</td>\n      <td>154 EAST 7TH STREET</td>\n      <td></td>\n      <td>10009</td>\n      <td>10</td>\n      <td>0</td>\n      <td>10</td>\n      <td>2272.0</td>\n      <td>6794.0</td>\n      <td>1913</td>\n      <td>2</td>\n      <td>C4</td>\n      <td>3936272.0</td>\n    </tr>\n  </tbody>\n</table>\n</div>"
     },
     "metadata": {},
     "execution_count": 16
    }
   ],
   "source": [
    "df.head(2)"
   ]
  },
  {
   "cell_type": "code",
   "execution_count": 15,
   "metadata": {},
   "outputs": [
    {
     "output_type": "execute_result",
     "data": {
      "text/plain": [
       "<AxesSubplot:>"
      ]
     },
     "metadata": {},
     "execution_count": 15
    },
    {
     "output_type": "display_data",
     "data": {
      "text/plain": "<Figure size 432x288 with 2 Axes>",
      "image/svg+xml": "<?xml version=\"1.0\" encoding=\"utf-8\" standalone=\"no\"?>\r\n<!DOCTYPE svg PUBLIC \"-//W3C//DTD SVG 1.1//EN\"\r\n  \"http://www.w3.org/Graphics/SVG/1.1/DTD/svg11.dtd\">\r\n<!-- Created with matplotlib (https://matplotlib.org/) -->\r\n<svg height=\"350.404844pt\" version=\"1.1\" viewBox=\"0 0 455.900437 350.404844\" width=\"455.900437pt\" xmlns=\"http://www.w3.org/2000/svg\" xmlns:xlink=\"http://www.w3.org/1999/xlink\">\r\n <metadata>\r\n  <rdf:RDF xmlns:cc=\"http://creativecommons.org/ns#\" xmlns:dc=\"http://purl.org/dc/elements/1.1/\" xmlns:rdf=\"http://www.w3.org/1999/02/22-rdf-syntax-ns#\">\r\n   <cc:Work>\r\n    <dc:type rdf:resource=\"http://purl.org/dc/dcmitype/StillImage\"/>\r\n    <dc:date>2021-01-17T18:00:00.616724</dc:date>\r\n    <dc:format>image/svg+xml</dc:format>\r\n    <dc:creator>\r\n     <cc:Agent>\r\n      <dc:title>Matplotlib v3.3.2, https://matplotlib.org/</dc:title>\r\n     </cc:Agent>\r\n    </dc:creator>\r\n   </cc:Work>\r\n  </rdf:RDF>\r\n </metadata>\r\n <defs>\r\n  <style type=\"text/css\">*{stroke-linecap:butt;stroke-linejoin:round;}</style>\r\n </defs>\r\n <g id=\"figure_1\">\r\n  <g id=\"patch_1\">\r\n   <path d=\"M 0 350.404844 \r\nL 455.900437 350.404844 \r\nL 455.900437 0 \r\nL 0 0 \r\nz\r\n\" style=\"fill:none;\"/>\r\n  </g>\r\n  <g id=\"axes_1\">\r\n   <g id=\"patch_2\">\r\n    <path d=\"M 121.965625 228.439219 \r\nL 389.805625 228.439219 \r\nL 389.805625 10.999219 \r\nL 121.965625 10.999219 \r\nz\r\n\" style=\"fill:#ffffff;\"/>\r\n   </g>\r\n   <g id=\"QuadMesh_1\">\r\n    <path clip-path=\"url(#pb6e5e131ea)\" d=\"M 121.965625 10.999219 \r\nL 148.749625 10.999219 \r\nL 148.749625 32.743219 \r\nL 121.965625 32.743219 \r\nL 121.965625 10.999219 \r\n\" style=\"fill:#faebdd;\"/>\r\n    <path clip-path=\"url(#pb6e5e131ea)\" d=\"M 148.749625 10.999219 \r\nL 175.533625 10.999219 \r\nL 175.533625 32.743219 \r\nL 148.749625 32.743219 \r\nL 148.749625 10.999219 \r\n\" style=\"fill:#180f29;\"/>\r\n    <path clip-path=\"url(#pb6e5e131ea)\" d=\"M 175.533625 10.999219 \r\nL 202.317625 10.999219 \r\nL 202.317625 32.743219 \r\nL 175.533625 32.743219 \r\nL 175.533625 10.999219 \r\n\" style=\"fill:#a4195b;\"/>\r\n    <path clip-path=\"url(#pb6e5e131ea)\" d=\"M 202.317625 10.999219 \r\nL 229.101625 10.999219 \r\nL 229.101625 32.743219 \r\nL 202.317625 32.743219 \r\nL 202.317625 10.999219 \r\n\" style=\"fill:#561e4f;\"/>\r\n    <path clip-path=\"url(#pb6e5e131ea)\" d=\"M 229.101625 10.999219 \r\nL 255.885625 10.999219 \r\nL 255.885625 32.743219 \r\nL 229.101625 32.743219 \r\nL 229.101625 10.999219 \r\n\" style=\"fill:#5b1e51;\"/>\r\n    <path clip-path=\"url(#pb6e5e131ea)\" d=\"M 255.885625 10.999219 \r\nL 282.669625 10.999219 \r\nL 282.669625 32.743219 \r\nL 255.885625 32.743219 \r\nL 255.885625 10.999219 \r\n\" style=\"fill:#581e4f;\"/>\r\n    <path clip-path=\"url(#pb6e5e131ea)\" d=\"M 282.669625 10.999219 \r\nL 309.453625 10.999219 \r\nL 309.453625 32.743219 \r\nL 282.669625 32.743219 \r\nL 282.669625 10.999219 \r\n\" style=\"fill:#591e50;\"/>\r\n    <path clip-path=\"url(#pb6e5e131ea)\" d=\"M 309.453625 10.999219 \r\nL 336.237625 10.999219 \r\nL 336.237625 32.743219 \r\nL 309.453625 32.743219 \r\nL 309.453625 10.999219 \r\n\" style=\"fill:#4e1d4b;\"/>\r\n    <path clip-path=\"url(#pb6e5e131ea)\" d=\"M 336.237625 10.999219 \r\nL 363.021625 10.999219 \r\nL 363.021625 32.743219 \r\nL 336.237625 32.743219 \r\nL 336.237625 10.999219 \r\n\" style=\"fill:#731f58;\"/>\r\n    <path clip-path=\"url(#pb6e5e131ea)\" d=\"M 363.021625 10.999219 \r\nL 389.805625 10.999219 \r\nL 389.805625 32.743219 \r\nL 363.021625 32.743219 \r\nL 363.021625 10.999219 \r\n\" style=\"fill:#481c48;\"/>\r\n    <path clip-path=\"url(#pb6e5e131ea)\" d=\"M 121.965625 32.743219 \r\nL 148.749625 32.743219 \r\nL 148.749625 54.487219 \r\nL 121.965625 54.487219 \r\nL 121.965625 32.743219 \r\n\" style=\"fill:#180f29;\"/>\r\n    <path clip-path=\"url(#pb6e5e131ea)\" d=\"M 148.749625 32.743219 \r\nL 175.533625 32.743219 \r\nL 175.533625 54.487219 \r\nL 148.749625 54.487219 \r\nL 148.749625 32.743219 \r\n\" style=\"fill:#faebdd;\"/>\r\n    <path clip-path=\"url(#pb6e5e131ea)\" d=\"M 175.533625 32.743219 \r\nL 202.317625 32.743219 \r\nL 202.317625 54.487219 \r\nL 175.533625 54.487219 \r\nL 175.533625 32.743219 \r\n\" style=\"fill:#2e1739;\"/>\r\n    <path clip-path=\"url(#pb6e5e131ea)\" d=\"M 202.317625 32.743219 \r\nL 229.101625 32.743219 \r\nL 229.101625 54.487219 \r\nL 202.317625 54.487219 \r\nL 202.317625 32.743219 \r\n\" style=\"fill:#501d4c;\"/>\r\n    <path clip-path=\"url(#pb6e5e131ea)\" d=\"M 229.101625 32.743219 \r\nL 255.885625 32.743219 \r\nL 255.885625 54.487219 \r\nL 229.101625 54.487219 \r\nL 229.101625 32.743219 \r\n\" style=\"fill:#581e4f;\"/>\r\n    <path clip-path=\"url(#pb6e5e131ea)\" d=\"M 255.885625 32.743219 \r\nL 282.669625 32.743219 \r\nL 282.669625 54.487219 \r\nL 255.885625 54.487219 \r\nL 255.885625 32.743219 \r\n\" style=\"fill:#501d4c;\"/>\r\n    <path clip-path=\"url(#pb6e5e131ea)\" d=\"M 282.669625 32.743219 \r\nL 309.453625 32.743219 \r\nL 309.453625 54.487219 \r\nL 282.669625 54.487219 \r\nL 282.669625 32.743219 \r\n\" style=\"fill:#541e4e;\"/>\r\n    <path clip-path=\"url(#pb6e5e131ea)\" d=\"M 309.453625 32.743219 \r\nL 336.237625 32.743219 \r\nL 336.237625 54.487219 \r\nL 309.453625 54.487219 \r\nL 309.453625 32.743219 \r\n\" style=\"fill:#531e4d;\"/>\r\n    <path clip-path=\"url(#pb6e5e131ea)\" d=\"M 336.237625 32.743219 \r\nL 363.021625 32.743219 \r\nL 363.021625 54.487219 \r\nL 336.237625 54.487219 \r\nL 336.237625 32.743219 \r\n\" style=\"fill:#03051a;\"/>\r\n    <path clip-path=\"url(#pb6e5e131ea)\" d=\"M 363.021625 32.743219 \r\nL 389.805625 32.743219 \r\nL 389.805625 54.487219 \r\nL 363.021625 54.487219 \r\nL 363.021625 32.743219 \r\n\" style=\"fill:#5e1f52;\"/>\r\n    <path clip-path=\"url(#pb6e5e131ea)\" d=\"M 121.965625 54.487219 \r\nL 148.749625 54.487219 \r\nL 148.749625 76.231219 \r\nL 121.965625 76.231219 \r\nL 121.965625 54.487219 \r\n\" style=\"fill:#a4195b;\"/>\r\n    <path clip-path=\"url(#pb6e5e131ea)\" d=\"M 148.749625 54.487219 \r\nL 175.533625 54.487219 \r\nL 175.533625 76.231219 \r\nL 148.749625 76.231219 \r\nL 148.749625 54.487219 \r\n\" style=\"fill:#2e1739;\"/>\r\n    <path clip-path=\"url(#pb6e5e131ea)\" d=\"M 175.533625 54.487219 \r\nL 202.317625 54.487219 \r\nL 202.317625 76.231219 \r\nL 175.533625 76.231219 \r\nL 175.533625 54.487219 \r\n\" style=\"fill:#faebdd;\"/>\r\n    <path clip-path=\"url(#pb6e5e131ea)\" d=\"M 202.317625 54.487219 \r\nL 229.101625 54.487219 \r\nL 229.101625 76.231219 \r\nL 202.317625 76.231219 \r\nL 202.317625 54.487219 \r\n\" style=\"fill:#5c1e51;\"/>\r\n    <path clip-path=\"url(#pb6e5e131ea)\" d=\"M 229.101625 54.487219 \r\nL 255.885625 54.487219 \r\nL 255.885625 76.231219 \r\nL 229.101625 76.231219 \r\nL 229.101625 54.487219 \r\n\" style=\"fill:#5b1e51;\"/>\r\n    <path clip-path=\"url(#pb6e5e131ea)\" d=\"M 255.885625 54.487219 \r\nL 282.669625 54.487219 \r\nL 282.669625 76.231219 \r\nL 255.885625 76.231219 \r\nL 255.885625 54.487219 \r\n\" style=\"fill:#5c1e51;\"/>\r\n    <path clip-path=\"url(#pb6e5e131ea)\" d=\"M 282.669625 54.487219 \r\nL 309.453625 54.487219 \r\nL 309.453625 76.231219 \r\nL 282.669625 76.231219 \r\nL 282.669625 54.487219 \r\n\" style=\"fill:#501d4c;\"/>\r\n    <path clip-path=\"url(#pb6e5e131ea)\" d=\"M 309.453625 54.487219 \r\nL 336.237625 54.487219 \r\nL 336.237625 76.231219 \r\nL 309.453625 76.231219 \r\nL 309.453625 54.487219 \r\n\" style=\"fill:#561e4f;\"/>\r\n    <path clip-path=\"url(#pb6e5e131ea)\" d=\"M 336.237625 54.487219 \r\nL 363.021625 54.487219 \r\nL 363.021625 76.231219 \r\nL 336.237625 76.231219 \r\nL 336.237625 54.487219 \r\n\" style=\"fill:#c51852;\"/>\r\n    <path clip-path=\"url(#pb6e5e131ea)\" d=\"M 363.021625 54.487219 \r\nL 389.805625 54.487219 \r\nL 389.805625 76.231219 \r\nL 363.021625 76.231219 \r\nL 363.021625 54.487219 \r\n\" style=\"fill:#501d4c;\"/>\r\n    <path clip-path=\"url(#pb6e5e131ea)\" d=\"M 121.965625 76.231219 \r\nL 148.749625 76.231219 \r\nL 148.749625 97.975219 \r\nL 121.965625 97.975219 \r\nL 121.965625 76.231219 \r\n\" style=\"fill:#561e4f;\"/>\r\n    <path clip-path=\"url(#pb6e5e131ea)\" d=\"M 148.749625 76.231219 \r\nL 175.533625 76.231219 \r\nL 175.533625 97.975219 \r\nL 148.749625 97.975219 \r\nL 148.749625 76.231219 \r\n\" style=\"fill:#501d4c;\"/>\r\n    <path clip-path=\"url(#pb6e5e131ea)\" d=\"M 175.533625 76.231219 \r\nL 202.317625 76.231219 \r\nL 202.317625 97.975219 \r\nL 175.533625 97.975219 \r\nL 175.533625 76.231219 \r\n\" style=\"fill:#5c1e51;\"/>\r\n    <path clip-path=\"url(#pb6e5e131ea)\" d=\"M 202.317625 76.231219 \r\nL 229.101625 76.231219 \r\nL 229.101625 97.975219 \r\nL 202.317625 97.975219 \r\nL 202.317625 76.231219 \r\n\" style=\"fill:#faebdd;\"/>\r\n    <path clip-path=\"url(#pb6e5e131ea)\" d=\"M 229.101625 76.231219 \r\nL 255.885625 76.231219 \r\nL 255.885625 97.975219 \r\nL 229.101625 97.975219 \r\nL 229.101625 76.231219 \r\n\" style=\"fill:#5e1f52;\"/>\r\n    <path clip-path=\"url(#pb6e5e131ea)\" d=\"M 255.885625 76.231219 \r\nL 282.669625 76.231219 \r\nL 282.669625 97.975219 \r\nL 255.885625 97.975219 \r\nL 255.885625 76.231219 \r\n\" style=\"fill:#f6bf9d;\"/>\r\n    <path clip-path=\"url(#pb6e5e131ea)\" d=\"M 282.669625 76.231219 \r\nL 309.453625 76.231219 \r\nL 309.453625 97.975219 \r\nL 282.669625 97.975219 \r\nL 282.669625 76.231219 \r\n\" style=\"fill:#c11754;\"/>\r\n    <path clip-path=\"url(#pb6e5e131ea)\" d=\"M 309.453625 76.231219 \r\nL 336.237625 76.231219 \r\nL 336.237625 97.975219 \r\nL 309.453625 97.975219 \r\nL 309.453625 76.231219 \r\n\" style=\"fill:#f37651;\"/>\r\n    <path clip-path=\"url(#pb6e5e131ea)\" d=\"M 336.237625 76.231219 \r\nL 363.021625 76.231219 \r\nL 363.021625 97.975219 \r\nL 336.237625 97.975219 \r\nL 336.237625 76.231219 \r\n\" style=\"fill:#611f53;\"/>\r\n    <path clip-path=\"url(#pb6e5e131ea)\" d=\"M 363.021625 76.231219 \r\nL 389.805625 76.231219 \r\nL 389.805625 97.975219 \r\nL 363.021625 97.975219 \r\nL 363.021625 76.231219 \r\n\" style=\"fill:#821e5a;\"/>\r\n    <path clip-path=\"url(#pb6e5e131ea)\" d=\"M 121.965625 97.975219 \r\nL 148.749625 97.975219 \r\nL 148.749625 119.719219 \r\nL 121.965625 119.719219 \r\nL 121.965625 97.975219 \r\n\" style=\"fill:#5b1e51;\"/>\r\n    <path clip-path=\"url(#pb6e5e131ea)\" d=\"M 148.749625 97.975219 \r\nL 175.533625 97.975219 \r\nL 175.533625 119.719219 \r\nL 148.749625 119.719219 \r\nL 148.749625 97.975219 \r\n\" style=\"fill:#581e4f;\"/>\r\n    <path clip-path=\"url(#pb6e5e131ea)\" d=\"M 175.533625 97.975219 \r\nL 202.317625 97.975219 \r\nL 202.317625 119.719219 \r\nL 175.533625 119.719219 \r\nL 175.533625 97.975219 \r\n\" style=\"fill:#5b1e51;\"/>\r\n    <path clip-path=\"url(#pb6e5e131ea)\" d=\"M 202.317625 97.975219 \r\nL 229.101625 97.975219 \r\nL 229.101625 119.719219 \r\nL 202.317625 119.719219 \r\nL 202.317625 97.975219 \r\n\" style=\"fill:#5e1f52;\"/>\r\n    <path clip-path=\"url(#pb6e5e131ea)\" d=\"M 229.101625 97.975219 \r\nL 255.885625 97.975219 \r\nL 255.885625 119.719219 \r\nL 229.101625 119.719219 \r\nL 229.101625 97.975219 \r\n\" style=\"fill:#faebdd;\"/>\r\n    <path clip-path=\"url(#pb6e5e131ea)\" d=\"M 255.885625 97.975219 \r\nL 282.669625 97.975219 \r\nL 282.669625 119.719219 \r\nL 255.885625 119.719219 \r\nL 255.885625 97.975219 \r\n\" style=\"fill:#ef5840;\"/>\r\n    <path clip-path=\"url(#pb6e5e131ea)\" d=\"M 282.669625 97.975219 \r\nL 309.453625 97.975219 \r\nL 309.453625 119.719219 \r\nL 282.669625 119.719219 \r\nL 282.669625 97.975219 \r\n\" style=\"fill:#661f54;\"/>\r\n    <path clip-path=\"url(#pb6e5e131ea)\" d=\"M 309.453625 97.975219 \r\nL 336.237625 97.975219 \r\nL 336.237625 119.719219 \r\nL 309.453625 119.719219 \r\nL 309.453625 97.975219 \r\n\" style=\"fill:#6e1f57;\"/>\r\n    <path clip-path=\"url(#pb6e5e131ea)\" d=\"M 336.237625 97.975219 \r\nL 363.021625 97.975219 \r\nL 363.021625 119.719219 \r\nL 336.237625 119.719219 \r\nL 336.237625 97.975219 \r\n\" style=\"fill:#5b1e51;\"/>\r\n    <path clip-path=\"url(#pb6e5e131ea)\" d=\"M 363.021625 97.975219 \r\nL 389.805625 97.975219 \r\nL 389.805625 119.719219 \r\nL 363.021625 119.719219 \r\nL 363.021625 97.975219 \r\n\" style=\"fill:#681f55;\"/>\r\n    <path clip-path=\"url(#pb6e5e131ea)\" d=\"M 121.965625 119.719219 \r\nL 148.749625 119.719219 \r\nL 148.749625 141.463219 \r\nL 121.965625 141.463219 \r\nL 121.965625 119.719219 \r\n\" style=\"fill:#581e4f;\"/>\r\n    <path clip-path=\"url(#pb6e5e131ea)\" d=\"M 148.749625 119.719219 \r\nL 175.533625 119.719219 \r\nL 175.533625 141.463219 \r\nL 148.749625 141.463219 \r\nL 148.749625 119.719219 \r\n\" style=\"fill:#501d4c;\"/>\r\n    <path clip-path=\"url(#pb6e5e131ea)\" d=\"M 175.533625 119.719219 \r\nL 202.317625 119.719219 \r\nL 202.317625 141.463219 \r\nL 175.533625 141.463219 \r\nL 175.533625 119.719219 \r\n\" style=\"fill:#5c1e51;\"/>\r\n    <path clip-path=\"url(#pb6e5e131ea)\" d=\"M 202.317625 119.719219 \r\nL 229.101625 119.719219 \r\nL 229.101625 141.463219 \r\nL 202.317625 141.463219 \r\nL 202.317625 119.719219 \r\n\" style=\"fill:#f6bf9d;\"/>\r\n    <path clip-path=\"url(#pb6e5e131ea)\" d=\"M 229.101625 119.719219 \r\nL 255.885625 119.719219 \r\nL 255.885625 141.463219 \r\nL 229.101625 141.463219 \r\nL 229.101625 119.719219 \r\n\" style=\"fill:#ef5840;\"/>\r\n    <path clip-path=\"url(#pb6e5e131ea)\" d=\"M 255.885625 119.719219 \r\nL 282.669625 119.719219 \r\nL 282.669625 141.463219 \r\nL 255.885625 141.463219 \r\nL 255.885625 119.719219 \r\n\" style=\"fill:#faebdd;\"/>\r\n    <path clip-path=\"url(#pb6e5e131ea)\" d=\"M 282.669625 119.719219 \r\nL 309.453625 119.719219 \r\nL 309.453625 141.463219 \r\nL 282.669625 141.463219 \r\nL 282.669625 119.719219 \r\n\" style=\"fill:#b71657;\"/>\r\n    <path clip-path=\"url(#pb6e5e131ea)\" d=\"M 309.453625 119.719219 \r\nL 336.237625 119.719219 \r\nL 336.237625 141.463219 \r\nL 309.453625 141.463219 \r\nL 309.453625 119.719219 \r\n\" style=\"fill:#f05e42;\"/>\r\n    <path clip-path=\"url(#pb6e5e131ea)\" d=\"M 336.237625 119.719219 \r\nL 363.021625 119.719219 \r\nL 363.021625 141.463219 \r\nL 336.237625 141.463219 \r\nL 336.237625 119.719219 \r\n\" style=\"fill:#611f53;\"/>\r\n    <path clip-path=\"url(#pb6e5e131ea)\" d=\"M 363.021625 119.719219 \r\nL 389.805625 119.719219 \r\nL 389.805625 141.463219 \r\nL 363.021625 141.463219 \r\nL 363.021625 119.719219 \r\n\" style=\"fill:#821e5a;\"/>\r\n    <path clip-path=\"url(#pb6e5e131ea)\" d=\"M 121.965625 141.463219 \r\nL 148.749625 141.463219 \r\nL 148.749625 163.207219 \r\nL 121.965625 163.207219 \r\nL 121.965625 141.463219 \r\n\" style=\"fill:#591e50;\"/>\r\n    <path clip-path=\"url(#pb6e5e131ea)\" d=\"M 148.749625 141.463219 \r\nL 175.533625 141.463219 \r\nL 175.533625 163.207219 \r\nL 148.749625 163.207219 \r\nL 148.749625 141.463219 \r\n\" style=\"fill:#541e4e;\"/>\r\n    <path clip-path=\"url(#pb6e5e131ea)\" d=\"M 175.533625 141.463219 \r\nL 202.317625 141.463219 \r\nL 202.317625 163.207219 \r\nL 175.533625 163.207219 \r\nL 175.533625 141.463219 \r\n\" style=\"fill:#501d4c;\"/>\r\n    <path clip-path=\"url(#pb6e5e131ea)\" d=\"M 202.317625 141.463219 \r\nL 229.101625 141.463219 \r\nL 229.101625 163.207219 \r\nL 202.317625 163.207219 \r\nL 202.317625 141.463219 \r\n\" style=\"fill:#c11754;\"/>\r\n    <path clip-path=\"url(#pb6e5e131ea)\" d=\"M 229.101625 141.463219 \r\nL 255.885625 141.463219 \r\nL 255.885625 163.207219 \r\nL 229.101625 163.207219 \r\nL 229.101625 141.463219 \r\n\" style=\"fill:#661f54;\"/>\r\n    <path clip-path=\"url(#pb6e5e131ea)\" d=\"M 255.885625 141.463219 \r\nL 282.669625 141.463219 \r\nL 282.669625 163.207219 \r\nL 255.885625 163.207219 \r\nL 255.885625 141.463219 \r\n\" style=\"fill:#b71657;\"/>\r\n    <path clip-path=\"url(#pb6e5e131ea)\" d=\"M 282.669625 141.463219 \r\nL 309.453625 141.463219 \r\nL 309.453625 163.207219 \r\nL 282.669625 163.207219 \r\nL 282.669625 141.463219 \r\n\" style=\"fill:#faebdd;\"/>\r\n    <path clip-path=\"url(#pb6e5e131ea)\" d=\"M 309.453625 141.463219 \r\nL 336.237625 141.463219 \r\nL 336.237625 163.207219 \r\nL 309.453625 163.207219 \r\nL 309.453625 141.463219 \r\n\" style=\"fill:#e43841;\"/>\r\n    <path clip-path=\"url(#pb6e5e131ea)\" d=\"M 336.237625 141.463219 \r\nL 363.021625 141.463219 \r\nL 363.021625 163.207219 \r\nL 336.237625 163.207219 \r\nL 336.237625 141.463219 \r\n\" style=\"fill:#561e4f;\"/>\r\n    <path clip-path=\"url(#pb6e5e131ea)\" d=\"M 363.021625 141.463219 \r\nL 389.805625 141.463219 \r\nL 389.805625 163.207219 \r\nL 363.021625 163.207219 \r\nL 363.021625 141.463219 \r\n\" style=\"fill:#6d1f56;\"/>\r\n    <path clip-path=\"url(#pb6e5e131ea)\" d=\"M 121.965625 163.207219 \r\nL 148.749625 163.207219 \r\nL 148.749625 184.951219 \r\nL 121.965625 184.951219 \r\nL 121.965625 163.207219 \r\n\" style=\"fill:#4e1d4b;\"/>\r\n    <path clip-path=\"url(#pb6e5e131ea)\" d=\"M 148.749625 163.207219 \r\nL 175.533625 163.207219 \r\nL 175.533625 184.951219 \r\nL 148.749625 184.951219 \r\nL 148.749625 163.207219 \r\n\" style=\"fill:#531e4d;\"/>\r\n    <path clip-path=\"url(#pb6e5e131ea)\" d=\"M 175.533625 163.207219 \r\nL 202.317625 163.207219 \r\nL 202.317625 184.951219 \r\nL 175.533625 184.951219 \r\nL 175.533625 163.207219 \r\n\" style=\"fill:#561e4f;\"/>\r\n    <path clip-path=\"url(#pb6e5e131ea)\" d=\"M 202.317625 163.207219 \r\nL 229.101625 163.207219 \r\nL 229.101625 184.951219 \r\nL 202.317625 184.951219 \r\nL 202.317625 163.207219 \r\n\" style=\"fill:#f37651;\"/>\r\n    <path clip-path=\"url(#pb6e5e131ea)\" d=\"M 229.101625 163.207219 \r\nL 255.885625 163.207219 \r\nL 255.885625 184.951219 \r\nL 229.101625 184.951219 \r\nL 229.101625 163.207219 \r\n\" style=\"fill:#6e1f57;\"/>\r\n    <path clip-path=\"url(#pb6e5e131ea)\" d=\"M 255.885625 163.207219 \r\nL 282.669625 163.207219 \r\nL 282.669625 184.951219 \r\nL 255.885625 184.951219 \r\nL 255.885625 163.207219 \r\n\" style=\"fill:#f05e42;\"/>\r\n    <path clip-path=\"url(#pb6e5e131ea)\" d=\"M 282.669625 163.207219 \r\nL 309.453625 163.207219 \r\nL 309.453625 184.951219 \r\nL 282.669625 184.951219 \r\nL 282.669625 163.207219 \r\n\" style=\"fill:#e43841;\"/>\r\n    <path clip-path=\"url(#pb6e5e131ea)\" d=\"M 309.453625 163.207219 \r\nL 336.237625 163.207219 \r\nL 336.237625 184.951219 \r\nL 309.453625 184.951219 \r\nL 309.453625 163.207219 \r\n\" style=\"fill:#faebdd;\"/>\r\n    <path clip-path=\"url(#pb6e5e131ea)\" d=\"M 336.237625 163.207219 \r\nL 363.021625 163.207219 \r\nL 363.021625 184.951219 \r\nL 336.237625 184.951219 \r\nL 336.237625 163.207219 \r\n\" style=\"fill:#611f53;\"/>\r\n    <path clip-path=\"url(#pb6e5e131ea)\" d=\"M 363.021625 163.207219 \r\nL 389.805625 163.207219 \r\nL 389.805625 184.951219 \r\nL 363.021625 184.951219 \r\nL 363.021625 163.207219 \r\n\" style=\"fill:#e33641;\"/>\r\n    <path clip-path=\"url(#pb6e5e131ea)\" d=\"M 121.965625 184.951219 \r\nL 148.749625 184.951219 \r\nL 148.749625 206.695219 \r\nL 121.965625 206.695219 \r\nL 121.965625 184.951219 \r\n\" style=\"fill:#731f58;\"/>\r\n    <path clip-path=\"url(#pb6e5e131ea)\" d=\"M 148.749625 184.951219 \r\nL 175.533625 184.951219 \r\nL 175.533625 206.695219 \r\nL 148.749625 206.695219 \r\nL 148.749625 184.951219 \r\n\" style=\"fill:#03051a;\"/>\r\n    <path clip-path=\"url(#pb6e5e131ea)\" d=\"M 175.533625 184.951219 \r\nL 202.317625 184.951219 \r\nL 202.317625 206.695219 \r\nL 175.533625 206.695219 \r\nL 175.533625 184.951219 \r\n\" style=\"fill:#c51852;\"/>\r\n    <path clip-path=\"url(#pb6e5e131ea)\" d=\"M 202.317625 184.951219 \r\nL 229.101625 184.951219 \r\nL 229.101625 206.695219 \r\nL 202.317625 206.695219 \r\nL 202.317625 184.951219 \r\n\" style=\"fill:#611f53;\"/>\r\n    <path clip-path=\"url(#pb6e5e131ea)\" d=\"M 229.101625 184.951219 \r\nL 255.885625 184.951219 \r\nL 255.885625 206.695219 \r\nL 229.101625 206.695219 \r\nL 229.101625 184.951219 \r\n\" style=\"fill:#5b1e51;\"/>\r\n    <path clip-path=\"url(#pb6e5e131ea)\" d=\"M 255.885625 184.951219 \r\nL 282.669625 184.951219 \r\nL 282.669625 206.695219 \r\nL 255.885625 206.695219 \r\nL 255.885625 184.951219 \r\n\" style=\"fill:#611f53;\"/>\r\n    <path clip-path=\"url(#pb6e5e131ea)\" d=\"M 282.669625 184.951219 \r\nL 309.453625 184.951219 \r\nL 309.453625 206.695219 \r\nL 282.669625 206.695219 \r\nL 282.669625 184.951219 \r\n\" style=\"fill:#561e4f;\"/>\r\n    <path clip-path=\"url(#pb6e5e131ea)\" d=\"M 309.453625 184.951219 \r\nL 336.237625 184.951219 \r\nL 336.237625 206.695219 \r\nL 309.453625 206.695219 \r\nL 309.453625 184.951219 \r\n\" style=\"fill:#611f53;\"/>\r\n    <path clip-path=\"url(#pb6e5e131ea)\" d=\"M 336.237625 184.951219 \r\nL 363.021625 184.951219 \r\nL 363.021625 206.695219 \r\nL 336.237625 206.695219 \r\nL 336.237625 184.951219 \r\n\" style=\"fill:#faebdd;\"/>\r\n    <path clip-path=\"url(#pb6e5e131ea)\" d=\"M 363.021625 184.951219 \r\nL 389.805625 184.951219 \r\nL 389.805625 206.695219 \r\nL 363.021625 206.695219 \r\nL 363.021625 184.951219 \r\n\" style=\"fill:#591e50;\"/>\r\n    <path clip-path=\"url(#pb6e5e131ea)\" d=\"M 121.965625 206.695219 \r\nL 148.749625 206.695219 \r\nL 148.749625 228.439219 \r\nL 121.965625 228.439219 \r\nL 121.965625 206.695219 \r\n\" style=\"fill:#481c48;\"/>\r\n    <path clip-path=\"url(#pb6e5e131ea)\" d=\"M 148.749625 206.695219 \r\nL 175.533625 206.695219 \r\nL 175.533625 228.439219 \r\nL 148.749625 228.439219 \r\nL 148.749625 206.695219 \r\n\" style=\"fill:#5e1f52;\"/>\r\n    <path clip-path=\"url(#pb6e5e131ea)\" d=\"M 175.533625 206.695219 \r\nL 202.317625 206.695219 \r\nL 202.317625 228.439219 \r\nL 175.533625 228.439219 \r\nL 175.533625 206.695219 \r\n\" style=\"fill:#501d4c;\"/>\r\n    <path clip-path=\"url(#pb6e5e131ea)\" d=\"M 202.317625 206.695219 \r\nL 229.101625 206.695219 \r\nL 229.101625 228.439219 \r\nL 202.317625 228.439219 \r\nL 202.317625 206.695219 \r\n\" style=\"fill:#821e5a;\"/>\r\n    <path clip-path=\"url(#pb6e5e131ea)\" d=\"M 229.101625 206.695219 \r\nL 255.885625 206.695219 \r\nL 255.885625 228.439219 \r\nL 229.101625 228.439219 \r\nL 229.101625 206.695219 \r\n\" style=\"fill:#681f55;\"/>\r\n    <path clip-path=\"url(#pb6e5e131ea)\" d=\"M 255.885625 206.695219 \r\nL 282.669625 206.695219 \r\nL 282.669625 228.439219 \r\nL 255.885625 228.439219 \r\nL 255.885625 206.695219 \r\n\" style=\"fill:#821e5a;\"/>\r\n    <path clip-path=\"url(#pb6e5e131ea)\" d=\"M 282.669625 206.695219 \r\nL 309.453625 206.695219 \r\nL 309.453625 228.439219 \r\nL 282.669625 228.439219 \r\nL 282.669625 206.695219 \r\n\" style=\"fill:#6d1f56;\"/>\r\n    <path clip-path=\"url(#pb6e5e131ea)\" d=\"M 309.453625 206.695219 \r\nL 336.237625 206.695219 \r\nL 336.237625 228.439219 \r\nL 309.453625 228.439219 \r\nL 309.453625 206.695219 \r\n\" style=\"fill:#e33641;\"/>\r\n    <path clip-path=\"url(#pb6e5e131ea)\" d=\"M 336.237625 206.695219 \r\nL 363.021625 206.695219 \r\nL 363.021625 228.439219 \r\nL 336.237625 228.439219 \r\nL 336.237625 206.695219 \r\n\" style=\"fill:#591e50;\"/>\r\n    <path clip-path=\"url(#pb6e5e131ea)\" d=\"M 363.021625 206.695219 \r\nL 389.805625 206.695219 \r\nL 389.805625 228.439219 \r\nL 363.021625 228.439219 \r\nL 363.021625 206.695219 \r\n\" style=\"fill:#faebdd;\"/>\r\n   </g>\r\n   <g id=\"matplotlib.axis_1\">\r\n    <g id=\"xtick_1\">\r\n     <g id=\"line2d_1\">\r\n      <defs>\r\n       <path d=\"M 0 0 \r\nL 0 3.5 \r\n\" id=\"m6fc730f989\" style=\"stroke:#000000;stroke-width:0.8;\"/>\r\n      </defs>\r\n      <g>\r\n       <use style=\"stroke:#000000;stroke-width:0.8;\" x=\"135.357625\" xlink:href=\"#m6fc730f989\" y=\"228.439219\"/>\r\n      </g>\r\n     </g>\r\n     <g id=\"text_1\">\r\n      <!-- BLOCK -->\r\n      <g transform=\"translate(138.117 268.922031)rotate(-90)scale(0.1 -0.1)\">\r\n       <defs>\r\n        <path d=\"M 19.671875 34.8125 \r\nL 19.671875 8.109375 \r\nL 35.5 8.109375 \r\nQ 43.453125 8.109375 47.28125 11.40625 \r\nQ 51.125 14.703125 51.125 21.484375 \r\nQ 51.125 28.328125 47.28125 31.5625 \r\nQ 43.453125 34.8125 35.5 34.8125 \r\nz\r\nM 19.671875 64.796875 \r\nL 19.671875 42.828125 \r\nL 34.28125 42.828125 \r\nQ 41.5 42.828125 45.03125 45.53125 \r\nQ 48.578125 48.25 48.578125 53.8125 \r\nQ 48.578125 59.328125 45.03125 62.0625 \r\nQ 41.5 64.796875 34.28125 64.796875 \r\nz\r\nM 9.8125 72.90625 \r\nL 35.015625 72.90625 \r\nQ 46.296875 72.90625 52.390625 68.21875 \r\nQ 58.5 63.53125 58.5 54.890625 \r\nQ 58.5 48.1875 55.375 44.234375 \r\nQ 52.25 40.28125 46.1875 39.3125 \r\nQ 53.46875 37.75 57.5 32.78125 \r\nQ 61.53125 27.828125 61.53125 20.40625 \r\nQ 61.53125 10.640625 54.890625 5.3125 \r\nQ 48.25 0 35.984375 0 \r\nL 9.8125 0 \r\nz\r\n\" id=\"DejaVuSans-66\"/>\r\n        <path d=\"M 9.8125 72.90625 \r\nL 19.671875 72.90625 \r\nL 19.671875 8.296875 \r\nL 55.171875 8.296875 \r\nL 55.171875 0 \r\nL 9.8125 0 \r\nz\r\n\" id=\"DejaVuSans-76\"/>\r\n        <path d=\"M 39.40625 66.21875 \r\nQ 28.65625 66.21875 22.328125 58.203125 \r\nQ 16.015625 50.203125 16.015625 36.375 \r\nQ 16.015625 22.609375 22.328125 14.59375 \r\nQ 28.65625 6.59375 39.40625 6.59375 \r\nQ 50.140625 6.59375 56.421875 14.59375 \r\nQ 62.703125 22.609375 62.703125 36.375 \r\nQ 62.703125 50.203125 56.421875 58.203125 \r\nQ 50.140625 66.21875 39.40625 66.21875 \r\nz\r\nM 39.40625 74.21875 \r\nQ 54.734375 74.21875 63.90625 63.9375 \r\nQ 73.09375 53.65625 73.09375 36.375 \r\nQ 73.09375 19.140625 63.90625 8.859375 \r\nQ 54.734375 -1.421875 39.40625 -1.421875 \r\nQ 24.03125 -1.421875 14.8125 8.828125 \r\nQ 5.609375 19.09375 5.609375 36.375 \r\nQ 5.609375 53.65625 14.8125 63.9375 \r\nQ 24.03125 74.21875 39.40625 74.21875 \r\nz\r\n\" id=\"DejaVuSans-79\"/>\r\n        <path d=\"M 64.40625 67.28125 \r\nL 64.40625 56.890625 \r\nQ 59.421875 61.53125 53.78125 63.8125 \r\nQ 48.140625 66.109375 41.796875 66.109375 \r\nQ 29.296875 66.109375 22.65625 58.46875 \r\nQ 16.015625 50.828125 16.015625 36.375 \r\nQ 16.015625 21.96875 22.65625 14.328125 \r\nQ 29.296875 6.6875 41.796875 6.6875 \r\nQ 48.140625 6.6875 53.78125 8.984375 \r\nQ 59.421875 11.28125 64.40625 15.921875 \r\nL 64.40625 5.609375 \r\nQ 59.234375 2.09375 53.4375 0.328125 \r\nQ 47.65625 -1.421875 41.21875 -1.421875 \r\nQ 24.65625 -1.421875 15.125 8.703125 \r\nQ 5.609375 18.84375 5.609375 36.375 \r\nQ 5.609375 53.953125 15.125 64.078125 \r\nQ 24.65625 74.21875 41.21875 74.21875 \r\nQ 47.75 74.21875 53.53125 72.484375 \r\nQ 59.328125 70.75 64.40625 67.28125 \r\nz\r\n\" id=\"DejaVuSans-67\"/>\r\n        <path d=\"M 9.8125 72.90625 \r\nL 19.671875 72.90625 \r\nL 19.671875 42.09375 \r\nL 52.390625 72.90625 \r\nL 65.09375 72.90625 \r\nL 28.90625 38.921875 \r\nL 67.671875 0 \r\nL 54.6875 0 \r\nL 19.671875 35.109375 \r\nL 19.671875 0 \r\nL 9.8125 0 \r\nz\r\n\" id=\"DejaVuSans-75\"/>\r\n       </defs>\r\n       <use xlink:href=\"#DejaVuSans-66\"/>\r\n       <use x=\"68.603516\" xlink:href=\"#DejaVuSans-76\"/>\r\n       <use x=\"120.691406\" xlink:href=\"#DejaVuSans-79\"/>\r\n       <use x=\"199.402344\" xlink:href=\"#DejaVuSans-67\"/>\r\n       <use x=\"269.226562\" xlink:href=\"#DejaVuSans-75\"/>\r\n      </g>\r\n     </g>\r\n    </g>\r\n    <g id=\"xtick_2\">\r\n     <g id=\"line2d_2\">\r\n      <g>\r\n       <use style=\"stroke:#000000;stroke-width:0.8;\" x=\"162.141625\" xlink:href=\"#m6fc730f989\" y=\"228.439219\"/>\r\n      </g>\r\n     </g>\r\n     <g id=\"text_2\">\r\n      <!-- LOT -->\r\n      <g transform=\"translate(164.901 254.628281)rotate(-90)scale(0.1 -0.1)\">\r\n       <defs>\r\n        <path d=\"M -0.296875 72.90625 \r\nL 61.375 72.90625 \r\nL 61.375 64.59375 \r\nL 35.5 64.59375 \r\nL 35.5 0 \r\nL 25.59375 0 \r\nL 25.59375 64.59375 \r\nL -0.296875 64.59375 \r\nz\r\n\" id=\"DejaVuSans-84\"/>\r\n       </defs>\r\n       <use xlink:href=\"#DejaVuSans-76\"/>\r\n       <use x=\"52.087891\" xlink:href=\"#DejaVuSans-79\"/>\r\n       <use x=\"130.798828\" xlink:href=\"#DejaVuSans-84\"/>\r\n      </g>\r\n     </g>\r\n    </g>\r\n    <g id=\"xtick_3\">\r\n     <g id=\"line2d_3\">\r\n      <g>\r\n       <use style=\"stroke:#000000;stroke-width:0.8;\" x=\"188.925625\" xlink:href=\"#m6fc730f989\" y=\"228.439219\"/>\r\n      </g>\r\n     </g>\r\n     <g id=\"text_3\">\r\n      <!-- ZIP CODE -->\r\n      <g transform=\"translate(191.685 283.320469)rotate(-90)scale(0.1 -0.1)\">\r\n       <defs>\r\n        <path d=\"M 5.609375 72.90625 \r\nL 62.890625 72.90625 \r\nL 62.890625 65.375 \r\nL 16.796875 8.296875 \r\nL 64.015625 8.296875 \r\nL 64.015625 0 \r\nL 4.5 0 \r\nL 4.5 7.515625 \r\nL 50.59375 64.59375 \r\nL 5.609375 64.59375 \r\nz\r\n\" id=\"DejaVuSans-90\"/>\r\n        <path d=\"M 9.8125 72.90625 \r\nL 19.671875 72.90625 \r\nL 19.671875 0 \r\nL 9.8125 0 \r\nz\r\n\" id=\"DejaVuSans-73\"/>\r\n        <path d=\"M 19.671875 64.796875 \r\nL 19.671875 37.40625 \r\nL 32.078125 37.40625 \r\nQ 38.96875 37.40625 42.71875 40.96875 \r\nQ 46.484375 44.53125 46.484375 51.125 \r\nQ 46.484375 57.671875 42.71875 61.234375 \r\nQ 38.96875 64.796875 32.078125 64.796875 \r\nz\r\nM 9.8125 72.90625 \r\nL 32.078125 72.90625 \r\nQ 44.34375 72.90625 50.609375 67.359375 \r\nQ 56.890625 61.8125 56.890625 51.125 \r\nQ 56.890625 40.328125 50.609375 34.8125 \r\nQ 44.34375 29.296875 32.078125 29.296875 \r\nL 19.671875 29.296875 \r\nL 19.671875 0 \r\nL 9.8125 0 \r\nz\r\n\" id=\"DejaVuSans-80\"/>\r\n        <path id=\"DejaVuSans-32\"/>\r\n        <path d=\"M 19.671875 64.796875 \r\nL 19.671875 8.109375 \r\nL 31.59375 8.109375 \r\nQ 46.6875 8.109375 53.6875 14.9375 \r\nQ 60.6875 21.78125 60.6875 36.53125 \r\nQ 60.6875 51.171875 53.6875 57.984375 \r\nQ 46.6875 64.796875 31.59375 64.796875 \r\nz\r\nM 9.8125 72.90625 \r\nL 30.078125 72.90625 \r\nQ 51.265625 72.90625 61.171875 64.09375 \r\nQ 71.09375 55.28125 71.09375 36.53125 \r\nQ 71.09375 17.671875 61.125 8.828125 \r\nQ 51.171875 0 30.078125 0 \r\nL 9.8125 0 \r\nz\r\n\" id=\"DejaVuSans-68\"/>\r\n        <path d=\"M 9.8125 72.90625 \r\nL 55.90625 72.90625 \r\nL 55.90625 64.59375 \r\nL 19.671875 64.59375 \r\nL 19.671875 43.015625 \r\nL 54.390625 43.015625 \r\nL 54.390625 34.71875 \r\nL 19.671875 34.71875 \r\nL 19.671875 8.296875 \r\nL 56.78125 8.296875 \r\nL 56.78125 0 \r\nL 9.8125 0 \r\nz\r\n\" id=\"DejaVuSans-69\"/>\r\n       </defs>\r\n       <use xlink:href=\"#DejaVuSans-90\"/>\r\n       <use x=\"68.505859\" xlink:href=\"#DejaVuSans-73\"/>\r\n       <use x=\"97.998047\" xlink:href=\"#DejaVuSans-80\"/>\r\n       <use x=\"158.300781\" xlink:href=\"#DejaVuSans-32\"/>\r\n       <use x=\"190.087891\" xlink:href=\"#DejaVuSans-67\"/>\r\n       <use x=\"259.912109\" xlink:href=\"#DejaVuSans-79\"/>\r\n       <use x=\"338.623047\" xlink:href=\"#DejaVuSans-68\"/>\r\n       <use x=\"415.625\" xlink:href=\"#DejaVuSans-69\"/>\r\n      </g>\r\n     </g>\r\n    </g>\r\n    <g id=\"xtick_4\">\r\n     <g id=\"line2d_4\">\r\n      <g>\r\n       <use style=\"stroke:#000000;stroke-width:0.8;\" x=\"215.709625\" xlink:href=\"#m6fc730f989\" y=\"228.439219\"/>\r\n      </g>\r\n     </g>\r\n     <g id=\"text_4\">\r\n      <!-- RESIDENTIAL UNITS -->\r\n      <g transform=\"translate(218.469 334.359531)rotate(-90)scale(0.1 -0.1)\">\r\n       <defs>\r\n        <path d=\"M 44.390625 34.1875 \r\nQ 47.5625 33.109375 50.5625 29.59375 \r\nQ 53.5625 26.078125 56.59375 19.921875 \r\nL 66.609375 0 \r\nL 56 0 \r\nL 46.6875 18.703125 \r\nQ 43.0625 26.03125 39.671875 28.421875 \r\nQ 36.28125 30.8125 30.421875 30.8125 \r\nL 19.671875 30.8125 \r\nL 19.671875 0 \r\nL 9.8125 0 \r\nL 9.8125 72.90625 \r\nL 32.078125 72.90625 \r\nQ 44.578125 72.90625 50.734375 67.671875 \r\nQ 56.890625 62.453125 56.890625 51.90625 \r\nQ 56.890625 45.015625 53.6875 40.46875 \r\nQ 50.484375 35.9375 44.390625 34.1875 \r\nz\r\nM 19.671875 64.796875 \r\nL 19.671875 38.921875 \r\nL 32.078125 38.921875 \r\nQ 39.203125 38.921875 42.84375 42.21875 \r\nQ 46.484375 45.515625 46.484375 51.90625 \r\nQ 46.484375 58.296875 42.84375 61.546875 \r\nQ 39.203125 64.796875 32.078125 64.796875 \r\nz\r\n\" id=\"DejaVuSans-82\"/>\r\n        <path d=\"M 53.515625 70.515625 \r\nL 53.515625 60.890625 \r\nQ 47.90625 63.578125 42.921875 64.890625 \r\nQ 37.9375 66.21875 33.296875 66.21875 \r\nQ 25.25 66.21875 20.875 63.09375 \r\nQ 16.5 59.96875 16.5 54.203125 \r\nQ 16.5 49.359375 19.40625 46.890625 \r\nQ 22.3125 44.4375 30.421875 42.921875 \r\nL 36.375 41.703125 \r\nQ 47.40625 39.59375 52.65625 34.296875 \r\nQ 57.90625 29 57.90625 20.125 \r\nQ 57.90625 9.515625 50.796875 4.046875 \r\nQ 43.703125 -1.421875 29.984375 -1.421875 \r\nQ 24.8125 -1.421875 18.96875 -0.25 \r\nQ 13.140625 0.921875 6.890625 3.21875 \r\nL 6.890625 13.375 \r\nQ 12.890625 10.015625 18.65625 8.296875 \r\nQ 24.421875 6.59375 29.984375 6.59375 \r\nQ 38.421875 6.59375 43.015625 9.90625 \r\nQ 47.609375 13.234375 47.609375 19.390625 \r\nQ 47.609375 24.75 44.3125 27.78125 \r\nQ 41.015625 30.8125 33.5 32.328125 \r\nL 27.484375 33.5 \r\nQ 16.453125 35.6875 11.515625 40.375 \r\nQ 6.59375 45.0625 6.59375 53.421875 \r\nQ 6.59375 63.09375 13.40625 68.65625 \r\nQ 20.21875 74.21875 32.171875 74.21875 \r\nQ 37.3125 74.21875 42.625 73.28125 \r\nQ 47.953125 72.359375 53.515625 70.515625 \r\nz\r\n\" id=\"DejaVuSans-83\"/>\r\n        <path d=\"M 9.8125 72.90625 \r\nL 23.09375 72.90625 \r\nL 55.421875 11.921875 \r\nL 55.421875 72.90625 \r\nL 64.984375 72.90625 \r\nL 64.984375 0 \r\nL 51.703125 0 \r\nL 19.390625 60.984375 \r\nL 19.390625 0 \r\nL 9.8125 0 \r\nz\r\n\" id=\"DejaVuSans-78\"/>\r\n        <path d=\"M 34.1875 63.1875 \r\nL 20.796875 26.90625 \r\nL 47.609375 26.90625 \r\nz\r\nM 28.609375 72.90625 \r\nL 39.796875 72.90625 \r\nL 67.578125 0 \r\nL 57.328125 0 \r\nL 50.6875 18.703125 \r\nL 17.828125 18.703125 \r\nL 11.1875 0 \r\nL 0.78125 0 \r\nz\r\n\" id=\"DejaVuSans-65\"/>\r\n        <path d=\"M 8.6875 72.90625 \r\nL 18.609375 72.90625 \r\nL 18.609375 28.609375 \r\nQ 18.609375 16.890625 22.84375 11.734375 \r\nQ 27.09375 6.59375 36.625 6.59375 \r\nQ 46.09375 6.59375 50.34375 11.734375 \r\nQ 54.59375 16.890625 54.59375 28.609375 \r\nL 54.59375 72.90625 \r\nL 64.5 72.90625 \r\nL 64.5 27.390625 \r\nQ 64.5 13.140625 57.4375 5.859375 \r\nQ 50.390625 -1.421875 36.625 -1.421875 \r\nQ 22.796875 -1.421875 15.734375 5.859375 \r\nQ 8.6875 13.140625 8.6875 27.390625 \r\nz\r\n\" id=\"DejaVuSans-85\"/>\r\n       </defs>\r\n       <use xlink:href=\"#DejaVuSans-82\"/>\r\n       <use x=\"69.482422\" xlink:href=\"#DejaVuSans-69\"/>\r\n       <use x=\"132.666016\" xlink:href=\"#DejaVuSans-83\"/>\r\n       <use x=\"196.142578\" xlink:href=\"#DejaVuSans-73\"/>\r\n       <use x=\"225.634766\" xlink:href=\"#DejaVuSans-68\"/>\r\n       <use x=\"302.636719\" xlink:href=\"#DejaVuSans-69\"/>\r\n       <use x=\"365.820312\" xlink:href=\"#DejaVuSans-78\"/>\r\n       <use x=\"440.625\" xlink:href=\"#DejaVuSans-84\"/>\r\n       <use x=\"501.708984\" xlink:href=\"#DejaVuSans-73\"/>\r\n       <use x=\"531.201172\" xlink:href=\"#DejaVuSans-65\"/>\r\n       <use x=\"599.609375\" xlink:href=\"#DejaVuSans-76\"/>\r\n       <use x=\"655.322266\" xlink:href=\"#DejaVuSans-32\"/>\r\n       <use x=\"687.109375\" xlink:href=\"#DejaVuSans-85\"/>\r\n       <use x=\"760.302734\" xlink:href=\"#DejaVuSans-78\"/>\r\n       <use x=\"835.107422\" xlink:href=\"#DejaVuSans-73\"/>\r\n       <use x=\"864.599609\" xlink:href=\"#DejaVuSans-84\"/>\r\n       <use x=\"925.683594\" xlink:href=\"#DejaVuSans-83\"/>\r\n      </g>\r\n     </g>\r\n    </g>\r\n    <g id=\"xtick_5\">\r\n     <g id=\"line2d_5\">\r\n      <g>\r\n       <use style=\"stroke:#000000;stroke-width:0.8;\" x=\"242.493625\" xlink:href=\"#m6fc730f989\" y=\"228.439219\"/>\r\n      </g>\r\n     </g>\r\n     <g id=\"text_5\">\r\n      <!-- COMMERCIAL UNITS -->\r\n      <g transform=\"translate(245.253 336.047031)rotate(-90)scale(0.1 -0.1)\">\r\n       <defs>\r\n        <path d=\"M 9.8125 72.90625 \r\nL 24.515625 72.90625 \r\nL 43.109375 23.296875 \r\nL 61.8125 72.90625 \r\nL 76.515625 72.90625 \r\nL 76.515625 0 \r\nL 66.890625 0 \r\nL 66.890625 64.015625 \r\nL 48.09375 14.015625 \r\nL 38.1875 14.015625 \r\nL 19.390625 64.015625 \r\nL 19.390625 0 \r\nL 9.8125 0 \r\nz\r\n\" id=\"DejaVuSans-77\"/>\r\n       </defs>\r\n       <use xlink:href=\"#DejaVuSans-67\"/>\r\n       <use x=\"69.824219\" xlink:href=\"#DejaVuSans-79\"/>\r\n       <use x=\"148.535156\" xlink:href=\"#DejaVuSans-77\"/>\r\n       <use x=\"234.814453\" xlink:href=\"#DejaVuSans-77\"/>\r\n       <use x=\"321.09375\" xlink:href=\"#DejaVuSans-69\"/>\r\n       <use x=\"384.277344\" xlink:href=\"#DejaVuSans-82\"/>\r\n       <use x=\"448.759766\" xlink:href=\"#DejaVuSans-67\"/>\r\n       <use x=\"518.583984\" xlink:href=\"#DejaVuSans-73\"/>\r\n       <use x=\"548.076172\" xlink:href=\"#DejaVuSans-65\"/>\r\n       <use x=\"616.484375\" xlink:href=\"#DejaVuSans-76\"/>\r\n       <use x=\"672.197266\" xlink:href=\"#DejaVuSans-32\"/>\r\n       <use x=\"703.984375\" xlink:href=\"#DejaVuSans-85\"/>\r\n       <use x=\"777.177734\" xlink:href=\"#DejaVuSans-78\"/>\r\n       <use x=\"851.982422\" xlink:href=\"#DejaVuSans-73\"/>\r\n       <use x=\"881.474609\" xlink:href=\"#DejaVuSans-84\"/>\r\n       <use x=\"942.558594\" xlink:href=\"#DejaVuSans-83\"/>\r\n      </g>\r\n     </g>\r\n    </g>\r\n    <g id=\"xtick_6\">\r\n     <g id=\"line2d_6\">\r\n      <g>\r\n       <use style=\"stroke:#000000;stroke-width:0.8;\" x=\"269.277625\" xlink:href=\"#m6fc730f989\" y=\"228.439219\"/>\r\n      </g>\r\n     </g>\r\n     <g id=\"text_6\">\r\n      <!-- TOTAL UNITS -->\r\n      <g transform=\"translate(272.037 300.548594)rotate(-90)scale(0.1 -0.1)\">\r\n       <use xlink:href=\"#DejaVuSans-84\"/>\r\n       <use x=\"61.083984\" xlink:href=\"#DejaVuSans-79\"/>\r\n       <use x=\"139.794922\" xlink:href=\"#DejaVuSans-84\"/>\r\n       <use x=\"193.128906\" xlink:href=\"#DejaVuSans-65\"/>\r\n       <use x=\"261.537109\" xlink:href=\"#DejaVuSans-76\"/>\r\n       <use x=\"317.25\" xlink:href=\"#DejaVuSans-32\"/>\r\n       <use x=\"349.037109\" xlink:href=\"#DejaVuSans-85\"/>\r\n       <use x=\"422.230469\" xlink:href=\"#DejaVuSans-78\"/>\r\n       <use x=\"497.035156\" xlink:href=\"#DejaVuSans-73\"/>\r\n       <use x=\"526.527344\" xlink:href=\"#DejaVuSans-84\"/>\r\n       <use x=\"587.611328\" xlink:href=\"#DejaVuSans-83\"/>\r\n      </g>\r\n     </g>\r\n    </g>\r\n    <g id=\"xtick_7\">\r\n     <g id=\"line2d_7\">\r\n      <g>\r\n       <use style=\"stroke:#000000;stroke-width:0.8;\" x=\"296.061625\" xlink:href=\"#m6fc730f989\" y=\"228.439219\"/>\r\n      </g>\r\n     </g>\r\n     <g id=\"text_7\">\r\n      <!-- LAND SQUARE FEET -->\r\n      <g transform=\"translate(298.821 335.757969)rotate(-90)scale(0.1 -0.1)\">\r\n       <defs>\r\n        <path d=\"M 39.40625 66.21875 \r\nQ 28.65625 66.21875 22.328125 58.203125 \r\nQ 16.015625 50.203125 16.015625 36.375 \r\nQ 16.015625 22.609375 22.328125 14.59375 \r\nQ 28.65625 6.59375 39.40625 6.59375 \r\nQ 50.140625 6.59375 56.421875 14.59375 \r\nQ 62.703125 22.609375 62.703125 36.375 \r\nQ 62.703125 50.203125 56.421875 58.203125 \r\nQ 50.140625 66.21875 39.40625 66.21875 \r\nz\r\nM 53.21875 1.3125 \r\nL 66.21875 -12.890625 \r\nL 54.296875 -12.890625 \r\nL 43.5 -1.21875 \r\nQ 41.890625 -1.3125 41.03125 -1.359375 \r\nQ 40.1875 -1.421875 39.40625 -1.421875 \r\nQ 24.03125 -1.421875 14.8125 8.859375 \r\nQ 5.609375 19.140625 5.609375 36.375 \r\nQ 5.609375 53.65625 14.8125 63.9375 \r\nQ 24.03125 74.21875 39.40625 74.21875 \r\nQ 54.734375 74.21875 63.90625 63.9375 \r\nQ 73.09375 53.65625 73.09375 36.375 \r\nQ 73.09375 23.6875 67.984375 14.640625 \r\nQ 62.890625 5.609375 53.21875 1.3125 \r\nz\r\n\" id=\"DejaVuSans-81\"/>\r\n        <path d=\"M 9.8125 72.90625 \r\nL 51.703125 72.90625 \r\nL 51.703125 64.59375 \r\nL 19.671875 64.59375 \r\nL 19.671875 43.109375 \r\nL 48.578125 43.109375 \r\nL 48.578125 34.8125 \r\nL 19.671875 34.8125 \r\nL 19.671875 0 \r\nL 9.8125 0 \r\nz\r\n\" id=\"DejaVuSans-70\"/>\r\n       </defs>\r\n       <use xlink:href=\"#DejaVuSans-76\"/>\r\n       <use x=\"57.962891\" xlink:href=\"#DejaVuSans-65\"/>\r\n       <use x=\"126.371094\" xlink:href=\"#DejaVuSans-78\"/>\r\n       <use x=\"201.175781\" xlink:href=\"#DejaVuSans-68\"/>\r\n       <use x=\"278.177734\" xlink:href=\"#DejaVuSans-32\"/>\r\n       <use x=\"309.964844\" xlink:href=\"#DejaVuSans-83\"/>\r\n       <use x=\"373.441406\" xlink:href=\"#DejaVuSans-81\"/>\r\n       <use x=\"452.152344\" xlink:href=\"#DejaVuSans-85\"/>\r\n       <use x=\"525.345703\" xlink:href=\"#DejaVuSans-65\"/>\r\n       <use x=\"593.753906\" xlink:href=\"#DejaVuSans-82\"/>\r\n       <use x=\"663.236328\" xlink:href=\"#DejaVuSans-69\"/>\r\n       <use x=\"726.419922\" xlink:href=\"#DejaVuSans-32\"/>\r\n       <use x=\"758.207031\" xlink:href=\"#DejaVuSans-70\"/>\r\n       <use x=\"815.726562\" xlink:href=\"#DejaVuSans-69\"/>\r\n       <use x=\"878.910156\" xlink:href=\"#DejaVuSans-69\"/>\r\n       <use x=\"942.09375\" xlink:href=\"#DejaVuSans-84\"/>\r\n      </g>\r\n     </g>\r\n    </g>\r\n    <g id=\"xtick_8\">\r\n     <g id=\"line2d_8\">\r\n      <g>\r\n       <use style=\"stroke:#000000;stroke-width:0.8;\" x=\"322.845625\" xlink:href=\"#m6fc730f989\" y=\"228.439219\"/>\r\n      </g>\r\n     </g>\r\n     <g id=\"text_8\">\r\n      <!-- GROSS SQUARE FEET -->\r\n      <g transform=\"translate(325.605 343.204844)rotate(-90)scale(0.1 -0.1)\">\r\n       <defs>\r\n        <path d=\"M 59.515625 10.40625 \r\nL 59.515625 29.984375 \r\nL 43.40625 29.984375 \r\nL 43.40625 38.09375 \r\nL 69.28125 38.09375 \r\nL 69.28125 6.78125 \r\nQ 63.578125 2.734375 56.6875 0.65625 \r\nQ 49.8125 -1.421875 42 -1.421875 \r\nQ 24.90625 -1.421875 15.25 8.5625 \r\nQ 5.609375 18.5625 5.609375 36.375 \r\nQ 5.609375 54.25 15.25 64.234375 \r\nQ 24.90625 74.21875 42 74.21875 \r\nQ 49.125 74.21875 55.546875 72.453125 \r\nQ 61.96875 70.703125 67.390625 67.28125 \r\nL 67.390625 56.78125 \r\nQ 61.921875 61.421875 55.765625 63.765625 \r\nQ 49.609375 66.109375 42.828125 66.109375 \r\nQ 29.4375 66.109375 22.71875 58.640625 \r\nQ 16.015625 51.171875 16.015625 36.375 \r\nQ 16.015625 21.625 22.71875 14.15625 \r\nQ 29.4375 6.6875 42.828125 6.6875 \r\nQ 48.046875 6.6875 52.140625 7.59375 \r\nQ 56.25 8.5 59.515625 10.40625 \r\nz\r\n\" id=\"DejaVuSans-71\"/>\r\n       </defs>\r\n       <use xlink:href=\"#DejaVuSans-71\"/>\r\n       <use x=\"77.490234\" xlink:href=\"#DejaVuSans-82\"/>\r\n       <use x=\"146.972656\" xlink:href=\"#DejaVuSans-79\"/>\r\n       <use x=\"225.683594\" xlink:href=\"#DejaVuSans-83\"/>\r\n       <use x=\"289.160156\" xlink:href=\"#DejaVuSans-83\"/>\r\n       <use x=\"352.636719\" xlink:href=\"#DejaVuSans-32\"/>\r\n       <use x=\"384.423828\" xlink:href=\"#DejaVuSans-83\"/>\r\n       <use x=\"447.900391\" xlink:href=\"#DejaVuSans-81\"/>\r\n       <use x=\"526.611328\" xlink:href=\"#DejaVuSans-85\"/>\r\n       <use x=\"599.804688\" xlink:href=\"#DejaVuSans-65\"/>\r\n       <use x=\"668.212891\" xlink:href=\"#DejaVuSans-82\"/>\r\n       <use x=\"737.695312\" xlink:href=\"#DejaVuSans-69\"/>\r\n       <use x=\"800.878906\" xlink:href=\"#DejaVuSans-32\"/>\r\n       <use x=\"832.666016\" xlink:href=\"#DejaVuSans-70\"/>\r\n       <use x=\"890.185547\" xlink:href=\"#DejaVuSans-69\"/>\r\n       <use x=\"953.369141\" xlink:href=\"#DejaVuSans-69\"/>\r\n       <use x=\"1016.552734\" xlink:href=\"#DejaVuSans-84\"/>\r\n      </g>\r\n     </g>\r\n    </g>\r\n    <g id=\"xtick_9\">\r\n     <g id=\"line2d_9\">\r\n      <g>\r\n       <use style=\"stroke:#000000;stroke-width:0.8;\" x=\"349.629625\" xlink:href=\"#m6fc730f989\" y=\"228.439219\"/>\r\n      </g>\r\n     </g>\r\n     <g id=\"text_9\">\r\n      <!-- YEAR BUILT -->\r\n      <g transform=\"translate(352.389 292.267344)rotate(-90)scale(0.1 -0.1)\">\r\n       <defs>\r\n        <path d=\"M -0.203125 72.90625 \r\nL 10.40625 72.90625 \r\nL 30.609375 42.921875 \r\nL 50.6875 72.90625 \r\nL 61.28125 72.90625 \r\nL 35.5 34.71875 \r\nL 35.5 0 \r\nL 25.59375 0 \r\nL 25.59375 34.71875 \r\nz\r\n\" id=\"DejaVuSans-89\"/>\r\n       </defs>\r\n       <use xlink:href=\"#DejaVuSans-89\"/>\r\n       <use x=\"61.083984\" xlink:href=\"#DejaVuSans-69\"/>\r\n       <use x=\"124.267578\" xlink:href=\"#DejaVuSans-65\"/>\r\n       <use x=\"192.675781\" xlink:href=\"#DejaVuSans-82\"/>\r\n       <use x=\"262.158203\" xlink:href=\"#DejaVuSans-32\"/>\r\n       <use x=\"293.945312\" xlink:href=\"#DejaVuSans-66\"/>\r\n       <use x=\"362.548828\" xlink:href=\"#DejaVuSans-85\"/>\r\n       <use x=\"435.742188\" xlink:href=\"#DejaVuSans-73\"/>\r\n       <use x=\"465.234375\" xlink:href=\"#DejaVuSans-76\"/>\r\n       <use x=\"507.197266\" xlink:href=\"#DejaVuSans-84\"/>\r\n      </g>\r\n     </g>\r\n    </g>\r\n    <g id=\"xtick_10\">\r\n     <g id=\"line2d_10\">\r\n      <g>\r\n       <use style=\"stroke:#000000;stroke-width:0.8;\" x=\"376.413625\" xlink:href=\"#m6fc730f989\" y=\"228.439219\"/>\r\n      </g>\r\n     </g>\r\n     <g id=\"text_10\">\r\n      <!-- SALE PRICE -->\r\n      <g transform=\"translate(379.173 293.114219)rotate(-90)scale(0.1 -0.1)\">\r\n       <use xlink:href=\"#DejaVuSans-83\"/>\r\n       <use x=\"65.351562\" xlink:href=\"#DejaVuSans-65\"/>\r\n       <use x=\"133.759766\" xlink:href=\"#DejaVuSans-76\"/>\r\n       <use x=\"189.472656\" xlink:href=\"#DejaVuSans-69\"/>\r\n       <use x=\"252.65625\" xlink:href=\"#DejaVuSans-32\"/>\r\n       <use x=\"284.443359\" xlink:href=\"#DejaVuSans-80\"/>\r\n       <use x=\"344.746094\" xlink:href=\"#DejaVuSans-82\"/>\r\n       <use x=\"414.228516\" xlink:href=\"#DejaVuSans-73\"/>\r\n       <use x=\"443.720703\" xlink:href=\"#DejaVuSans-67\"/>\r\n       <use x=\"513.544922\" xlink:href=\"#DejaVuSans-69\"/>\r\n      </g>\r\n     </g>\r\n    </g>\r\n   </g>\r\n   <g id=\"matplotlib.axis_2\">\r\n    <g id=\"ytick_1\">\r\n     <g id=\"line2d_11\">\r\n      <defs>\r\n       <path d=\"M 0 0 \r\nL -3.5 0 \r\n\" id=\"mea78a31758\" style=\"stroke:#000000;stroke-width:0.8;\"/>\r\n      </defs>\r\n      <g>\r\n       <use style=\"stroke:#000000;stroke-width:0.8;\" x=\"121.965625\" xlink:href=\"#mea78a31758\" y=\"21.871219\"/>\r\n      </g>\r\n     </g>\r\n     <g id=\"text_11\">\r\n      <!-- BLOCK -->\r\n      <g transform=\"translate(81.482812 25.670438)scale(0.1 -0.1)\">\r\n       <use xlink:href=\"#DejaVuSans-66\"/>\r\n       <use x=\"68.603516\" xlink:href=\"#DejaVuSans-76\"/>\r\n       <use x=\"120.691406\" xlink:href=\"#DejaVuSans-79\"/>\r\n       <use x=\"199.402344\" xlink:href=\"#DejaVuSans-67\"/>\r\n       <use x=\"269.226562\" xlink:href=\"#DejaVuSans-75\"/>\r\n      </g>\r\n     </g>\r\n    </g>\r\n    <g id=\"ytick_2\">\r\n     <g id=\"line2d_12\">\r\n      <g>\r\n       <use style=\"stroke:#000000;stroke-width:0.8;\" x=\"121.965625\" xlink:href=\"#mea78a31758\" y=\"43.615219\"/>\r\n      </g>\r\n     </g>\r\n     <g id=\"text_12\">\r\n      <!-- LOT -->\r\n      <g transform=\"translate(95.776562 47.414438)scale(0.1 -0.1)\">\r\n       <use xlink:href=\"#DejaVuSans-76\"/>\r\n       <use x=\"52.087891\" xlink:href=\"#DejaVuSans-79\"/>\r\n       <use x=\"130.798828\" xlink:href=\"#DejaVuSans-84\"/>\r\n      </g>\r\n     </g>\r\n    </g>\r\n    <g id=\"ytick_3\">\r\n     <g id=\"line2d_13\">\r\n      <g>\r\n       <use style=\"stroke:#000000;stroke-width:0.8;\" x=\"121.965625\" xlink:href=\"#mea78a31758\" y=\"65.359219\"/>\r\n      </g>\r\n     </g>\r\n     <g id=\"text_13\">\r\n      <!-- ZIP CODE -->\r\n      <g transform=\"translate(67.084375 69.158438)scale(0.1 -0.1)\">\r\n       <use xlink:href=\"#DejaVuSans-90\"/>\r\n       <use x=\"68.505859\" xlink:href=\"#DejaVuSans-73\"/>\r\n       <use x=\"97.998047\" xlink:href=\"#DejaVuSans-80\"/>\r\n       <use x=\"158.300781\" xlink:href=\"#DejaVuSans-32\"/>\r\n       <use x=\"190.087891\" xlink:href=\"#DejaVuSans-67\"/>\r\n       <use x=\"259.912109\" xlink:href=\"#DejaVuSans-79\"/>\r\n       <use x=\"338.623047\" xlink:href=\"#DejaVuSans-68\"/>\r\n       <use x=\"415.625\" xlink:href=\"#DejaVuSans-69\"/>\r\n      </g>\r\n     </g>\r\n    </g>\r\n    <g id=\"ytick_4\">\r\n     <g id=\"line2d_14\">\r\n      <g>\r\n       <use style=\"stroke:#000000;stroke-width:0.8;\" x=\"121.965625\" xlink:href=\"#mea78a31758\" y=\"87.103219\"/>\r\n      </g>\r\n     </g>\r\n     <g id=\"text_14\">\r\n      <!-- RESIDENTIAL UNITS -->\r\n      <g transform=\"translate(16.045312 90.902438)scale(0.1 -0.1)\">\r\n       <use xlink:href=\"#DejaVuSans-82\"/>\r\n       <use x=\"69.482422\" xlink:href=\"#DejaVuSans-69\"/>\r\n       <use x=\"132.666016\" xlink:href=\"#DejaVuSans-83\"/>\r\n       <use x=\"196.142578\" xlink:href=\"#DejaVuSans-73\"/>\r\n       <use x=\"225.634766\" xlink:href=\"#DejaVuSans-68\"/>\r\n       <use x=\"302.636719\" xlink:href=\"#DejaVuSans-69\"/>\r\n       <use x=\"365.820312\" xlink:href=\"#DejaVuSans-78\"/>\r\n       <use x=\"440.625\" xlink:href=\"#DejaVuSans-84\"/>\r\n       <use x=\"501.708984\" xlink:href=\"#DejaVuSans-73\"/>\r\n       <use x=\"531.201172\" xlink:href=\"#DejaVuSans-65\"/>\r\n       <use x=\"599.609375\" xlink:href=\"#DejaVuSans-76\"/>\r\n       <use x=\"655.322266\" xlink:href=\"#DejaVuSans-32\"/>\r\n       <use x=\"687.109375\" xlink:href=\"#DejaVuSans-85\"/>\r\n       <use x=\"760.302734\" xlink:href=\"#DejaVuSans-78\"/>\r\n       <use x=\"835.107422\" xlink:href=\"#DejaVuSans-73\"/>\r\n       <use x=\"864.599609\" xlink:href=\"#DejaVuSans-84\"/>\r\n       <use x=\"925.683594\" xlink:href=\"#DejaVuSans-83\"/>\r\n      </g>\r\n     </g>\r\n    </g>\r\n    <g id=\"ytick_5\">\r\n     <g id=\"line2d_15\">\r\n      <g>\r\n       <use style=\"stroke:#000000;stroke-width:0.8;\" x=\"121.965625\" xlink:href=\"#mea78a31758\" y=\"108.847219\"/>\r\n      </g>\r\n     </g>\r\n     <g id=\"text_15\">\r\n      <!-- COMMERCIAL UNITS -->\r\n      <g transform=\"translate(14.357812 112.646438)scale(0.1 -0.1)\">\r\n       <use xlink:href=\"#DejaVuSans-67\"/>\r\n       <use x=\"69.824219\" xlink:href=\"#DejaVuSans-79\"/>\r\n       <use x=\"148.535156\" xlink:href=\"#DejaVuSans-77\"/>\r\n       <use x=\"234.814453\" xlink:href=\"#DejaVuSans-77\"/>\r\n       <use x=\"321.09375\" xlink:href=\"#DejaVuSans-69\"/>\r\n       <use x=\"384.277344\" xlink:href=\"#DejaVuSans-82\"/>\r\n       <use x=\"448.759766\" xlink:href=\"#DejaVuSans-67\"/>\r\n       <use x=\"518.583984\" xlink:href=\"#DejaVuSans-73\"/>\r\n       <use x=\"548.076172\" xlink:href=\"#DejaVuSans-65\"/>\r\n       <use x=\"616.484375\" xlink:href=\"#DejaVuSans-76\"/>\r\n       <use x=\"672.197266\" xlink:href=\"#DejaVuSans-32\"/>\r\n       <use x=\"703.984375\" xlink:href=\"#DejaVuSans-85\"/>\r\n       <use x=\"777.177734\" xlink:href=\"#DejaVuSans-78\"/>\r\n       <use x=\"851.982422\" xlink:href=\"#DejaVuSans-73\"/>\r\n       <use x=\"881.474609\" xlink:href=\"#DejaVuSans-84\"/>\r\n       <use x=\"942.558594\" xlink:href=\"#DejaVuSans-83\"/>\r\n      </g>\r\n     </g>\r\n    </g>\r\n    <g id=\"ytick_6\">\r\n     <g id=\"line2d_16\">\r\n      <g>\r\n       <use style=\"stroke:#000000;stroke-width:0.8;\" x=\"121.965625\" xlink:href=\"#mea78a31758\" y=\"130.591219\"/>\r\n      </g>\r\n     </g>\r\n     <g id=\"text_16\">\r\n      <!-- TOTAL UNITS -->\r\n      <g transform=\"translate(49.85625 134.390438)scale(0.1 -0.1)\">\r\n       <use xlink:href=\"#DejaVuSans-84\"/>\r\n       <use x=\"61.083984\" xlink:href=\"#DejaVuSans-79\"/>\r\n       <use x=\"139.794922\" xlink:href=\"#DejaVuSans-84\"/>\r\n       <use x=\"193.128906\" xlink:href=\"#DejaVuSans-65\"/>\r\n       <use x=\"261.537109\" xlink:href=\"#DejaVuSans-76\"/>\r\n       <use x=\"317.25\" xlink:href=\"#DejaVuSans-32\"/>\r\n       <use x=\"349.037109\" xlink:href=\"#DejaVuSans-85\"/>\r\n       <use x=\"422.230469\" xlink:href=\"#DejaVuSans-78\"/>\r\n       <use x=\"497.035156\" xlink:href=\"#DejaVuSans-73\"/>\r\n       <use x=\"526.527344\" xlink:href=\"#DejaVuSans-84\"/>\r\n       <use x=\"587.611328\" xlink:href=\"#DejaVuSans-83\"/>\r\n      </g>\r\n     </g>\r\n    </g>\r\n    <g id=\"ytick_7\">\r\n     <g id=\"line2d_17\">\r\n      <g>\r\n       <use style=\"stroke:#000000;stroke-width:0.8;\" x=\"121.965625\" xlink:href=\"#mea78a31758\" y=\"152.335219\"/>\r\n      </g>\r\n     </g>\r\n     <g id=\"text_17\">\r\n      <!-- LAND SQUARE FEET -->\r\n      <g transform=\"translate(14.646875 156.134438)scale(0.1 -0.1)\">\r\n       <use xlink:href=\"#DejaVuSans-76\"/>\r\n       <use x=\"57.962891\" xlink:href=\"#DejaVuSans-65\"/>\r\n       <use x=\"126.371094\" xlink:href=\"#DejaVuSans-78\"/>\r\n       <use x=\"201.175781\" xlink:href=\"#DejaVuSans-68\"/>\r\n       <use x=\"278.177734\" xlink:href=\"#DejaVuSans-32\"/>\r\n       <use x=\"309.964844\" xlink:href=\"#DejaVuSans-83\"/>\r\n       <use x=\"373.441406\" xlink:href=\"#DejaVuSans-81\"/>\r\n       <use x=\"452.152344\" xlink:href=\"#DejaVuSans-85\"/>\r\n       <use x=\"525.345703\" xlink:href=\"#DejaVuSans-65\"/>\r\n       <use x=\"593.753906\" xlink:href=\"#DejaVuSans-82\"/>\r\n       <use x=\"663.236328\" xlink:href=\"#DejaVuSans-69\"/>\r\n       <use x=\"726.419922\" xlink:href=\"#DejaVuSans-32\"/>\r\n       <use x=\"758.207031\" xlink:href=\"#DejaVuSans-70\"/>\r\n       <use x=\"815.726562\" xlink:href=\"#DejaVuSans-69\"/>\r\n       <use x=\"878.910156\" xlink:href=\"#DejaVuSans-69\"/>\r\n       <use x=\"942.09375\" xlink:href=\"#DejaVuSans-84\"/>\r\n      </g>\r\n     </g>\r\n    </g>\r\n    <g id=\"ytick_8\">\r\n     <g id=\"line2d_18\">\r\n      <g>\r\n       <use style=\"stroke:#000000;stroke-width:0.8;\" x=\"121.965625\" xlink:href=\"#mea78a31758\" y=\"174.079219\"/>\r\n      </g>\r\n     </g>\r\n     <g id=\"text_18\">\r\n      <!-- GROSS SQUARE FEET -->\r\n      <g transform=\"translate(7.2 177.878438)scale(0.1 -0.1)\">\r\n       <use xlink:href=\"#DejaVuSans-71\"/>\r\n       <use x=\"77.490234\" xlink:href=\"#DejaVuSans-82\"/>\r\n       <use x=\"146.972656\" xlink:href=\"#DejaVuSans-79\"/>\r\n       <use x=\"225.683594\" xlink:href=\"#DejaVuSans-83\"/>\r\n       <use x=\"289.160156\" xlink:href=\"#DejaVuSans-83\"/>\r\n       <use x=\"352.636719\" xlink:href=\"#DejaVuSans-32\"/>\r\n       <use x=\"384.423828\" xlink:href=\"#DejaVuSans-83\"/>\r\n       <use x=\"447.900391\" xlink:href=\"#DejaVuSans-81\"/>\r\n       <use x=\"526.611328\" xlink:href=\"#DejaVuSans-85\"/>\r\n       <use x=\"599.804688\" xlink:href=\"#DejaVuSans-65\"/>\r\n       <use x=\"668.212891\" xlink:href=\"#DejaVuSans-82\"/>\r\n       <use x=\"737.695312\" xlink:href=\"#DejaVuSans-69\"/>\r\n       <use x=\"800.878906\" xlink:href=\"#DejaVuSans-32\"/>\r\n       <use x=\"832.666016\" xlink:href=\"#DejaVuSans-70\"/>\r\n       <use x=\"890.185547\" xlink:href=\"#DejaVuSans-69\"/>\r\n       <use x=\"953.369141\" xlink:href=\"#DejaVuSans-69\"/>\r\n       <use x=\"1016.552734\" xlink:href=\"#DejaVuSans-84\"/>\r\n      </g>\r\n     </g>\r\n    </g>\r\n    <g id=\"ytick_9\">\r\n     <g id=\"line2d_19\">\r\n      <g>\r\n       <use style=\"stroke:#000000;stroke-width:0.8;\" x=\"121.965625\" xlink:href=\"#mea78a31758\" y=\"195.823219\"/>\r\n      </g>\r\n     </g>\r\n     <g id=\"text_19\">\r\n      <!-- YEAR BUILT -->\r\n      <g transform=\"translate(58.1375 199.622438)scale(0.1 -0.1)\">\r\n       <use xlink:href=\"#DejaVuSans-89\"/>\r\n       <use x=\"61.083984\" xlink:href=\"#DejaVuSans-69\"/>\r\n       <use x=\"124.267578\" xlink:href=\"#DejaVuSans-65\"/>\r\n       <use x=\"192.675781\" xlink:href=\"#DejaVuSans-82\"/>\r\n       <use x=\"262.158203\" xlink:href=\"#DejaVuSans-32\"/>\r\n       <use x=\"293.945312\" xlink:href=\"#DejaVuSans-66\"/>\r\n       <use x=\"362.548828\" xlink:href=\"#DejaVuSans-85\"/>\r\n       <use x=\"435.742188\" xlink:href=\"#DejaVuSans-73\"/>\r\n       <use x=\"465.234375\" xlink:href=\"#DejaVuSans-76\"/>\r\n       <use x=\"507.197266\" xlink:href=\"#DejaVuSans-84\"/>\r\n      </g>\r\n     </g>\r\n    </g>\r\n    <g id=\"ytick_10\">\r\n     <g id=\"line2d_20\">\r\n      <g>\r\n       <use style=\"stroke:#000000;stroke-width:0.8;\" x=\"121.965625\" xlink:href=\"#mea78a31758\" y=\"217.567219\"/>\r\n      </g>\r\n     </g>\r\n     <g id=\"text_20\">\r\n      <!-- SALE PRICE -->\r\n      <g transform=\"translate(57.290625 221.366438)scale(0.1 -0.1)\">\r\n       <use xlink:href=\"#DejaVuSans-83\"/>\r\n       <use x=\"65.351562\" xlink:href=\"#DejaVuSans-65\"/>\r\n       <use x=\"133.759766\" xlink:href=\"#DejaVuSans-76\"/>\r\n       <use x=\"189.472656\" xlink:href=\"#DejaVuSans-69\"/>\r\n       <use x=\"252.65625\" xlink:href=\"#DejaVuSans-32\"/>\r\n       <use x=\"284.443359\" xlink:href=\"#DejaVuSans-80\"/>\r\n       <use x=\"344.746094\" xlink:href=\"#DejaVuSans-82\"/>\r\n       <use x=\"414.228516\" xlink:href=\"#DejaVuSans-73\"/>\r\n       <use x=\"443.720703\" xlink:href=\"#DejaVuSans-67\"/>\r\n       <use x=\"513.544922\" xlink:href=\"#DejaVuSans-69\"/>\r\n      </g>\r\n     </g>\r\n    </g>\r\n   </g>\r\n  </g>\r\n  <g id=\"axes_2\">\r\n   <g id=\"patch_3\">\r\n    <path clip-path=\"url(#p4050ca76b9)\" d=\"M 406.545625 228.439219 \r\nL 406.545625 227.589844 \r\nL 406.545625 11.848594 \r\nL 406.545625 10.999219 \r\nL 417.417625 10.999219 \r\nL 417.417625 11.848594 \r\nL 417.417625 227.589844 \r\nL 417.417625 228.439219 \r\nz\r\n\" style=\"fill:#ffffff;stroke:#ffffff;stroke-linejoin:miter;stroke-width:0.01;\"/>\r\n   </g>\r\n   <image height=\"217\" id=\"image01bb0d773a\" transform=\"scale(1 -1)translate(0 -217)\" width=\"10\" x=\"407\" xlink:href=\"data:image/png;base64,\r\niVBORw0KGgoAAAANSUhEUgAAAAoAAADZCAYAAAAZmKE8AAABW0lEQVR4nNWY2w3DMAzELEtdovvP2XYFGuDBTb4FnXl6JE7N6/1d4JmqInEngcvO2LVZ4NZhtg6Dz4ip/cr4PvIScsOpPT41zRho3CfA6DPDqXXpWbjN2JOotb9xKTULy2xcGjj+DkdhkRJiaVxCv3ET9sCM7c8MlU6U8P/P6Eu3nnGjT+EQNQw8aFwqTal9mLknzUuoN8VN6oA0S5mg/kJpf1yHShe1J9C4unSvD8wIjQycseC8TtPATQOx9EFGFHdCDTdAAoZLo7iDjL1h48Kr64E9PvUeCqP7mLAHZtzw/TFLl/YD4ZVrTc09abjET2BwRnqf0c8YkIbvLv5XAZ/xIBCekdtDqRf9W+hTF6Zudte8abjvY8EbdqSEuHvwFLJNGjGcLgBfGlPz3ePPtR7Ix/UeDM7YuHHvnfEB1FV6U9yk9lezDVP9kjMmGtf2sfxxvQfDhwtT2zA/ZM4qIwp+gDgAAAAASUVORK5CYII=\" y=\"-11\"/>\r\n   <g id=\"matplotlib.axis_3\"/>\r\n   <g id=\"matplotlib.axis_4\">\r\n    <g id=\"ytick_11\">\r\n     <g id=\"line2d_21\">\r\n      <defs>\r\n       <path d=\"M 0 0 \r\nL 3.5 0 \r\n\" id=\"maecea6f975\" style=\"stroke:#000000;stroke-width:0.8;\"/>\r\n      </defs>\r\n      <g>\r\n       <use style=\"stroke:#000000;stroke-width:0.8;\" x=\"417.417625\" xlink:href=\"#maecea6f975\" y=\"210.726307\"/>\r\n      </g>\r\n     </g>\r\n     <g id=\"text_21\">\r\n      <!-- −0.2 -->\r\n      <g transform=\"translate(424.417625 214.525526)scale(0.1 -0.1)\">\r\n       <defs>\r\n        <path d=\"M 10.59375 35.5 \r\nL 73.1875 35.5 \r\nL 73.1875 27.203125 \r\nL 10.59375 27.203125 \r\nz\r\n\" id=\"DejaVuSans-8722\"/>\r\n        <path d=\"M 31.78125 66.40625 \r\nQ 24.171875 66.40625 20.328125 58.90625 \r\nQ 16.5 51.421875 16.5 36.375 \r\nQ 16.5 21.390625 20.328125 13.890625 \r\nQ 24.171875 6.390625 31.78125 6.390625 \r\nQ 39.453125 6.390625 43.28125 13.890625 \r\nQ 47.125 21.390625 47.125 36.375 \r\nQ 47.125 51.421875 43.28125 58.90625 \r\nQ 39.453125 66.40625 31.78125 66.40625 \r\nz\r\nM 31.78125 74.21875 \r\nQ 44.046875 74.21875 50.515625 64.515625 \r\nQ 56.984375 54.828125 56.984375 36.375 \r\nQ 56.984375 17.96875 50.515625 8.265625 \r\nQ 44.046875 -1.421875 31.78125 -1.421875 \r\nQ 19.53125 -1.421875 13.0625 8.265625 \r\nQ 6.59375 17.96875 6.59375 36.375 \r\nQ 6.59375 54.828125 13.0625 64.515625 \r\nQ 19.53125 74.21875 31.78125 74.21875 \r\nz\r\n\" id=\"DejaVuSans-48\"/>\r\n        <path d=\"M 10.6875 12.40625 \r\nL 21 12.40625 \r\nL 21 0 \r\nL 10.6875 0 \r\nz\r\n\" id=\"DejaVuSans-46\"/>\r\n        <path d=\"M 19.1875 8.296875 \r\nL 53.609375 8.296875 \r\nL 53.609375 0 \r\nL 7.328125 0 \r\nL 7.328125 8.296875 \r\nQ 12.9375 14.109375 22.625 23.890625 \r\nQ 32.328125 33.6875 34.8125 36.53125 \r\nQ 39.546875 41.84375 41.421875 45.53125 \r\nQ 43.3125 49.21875 43.3125 52.78125 \r\nQ 43.3125 58.59375 39.234375 62.25 \r\nQ 35.15625 65.921875 28.609375 65.921875 \r\nQ 23.96875 65.921875 18.8125 64.3125 \r\nQ 13.671875 62.703125 7.8125 59.421875 \r\nL 7.8125 69.390625 \r\nQ 13.765625 71.78125 18.9375 73 \r\nQ 24.125 74.21875 28.421875 74.21875 \r\nQ 39.75 74.21875 46.484375 68.546875 \r\nQ 53.21875 62.890625 53.21875 53.421875 \r\nQ 53.21875 48.921875 51.53125 44.890625 \r\nQ 49.859375 40.875 45.40625 35.40625 \r\nQ 44.1875 33.984375 37.640625 27.21875 \r\nQ 31.109375 20.453125 19.1875 8.296875 \r\nz\r\n\" id=\"DejaVuSans-50\"/>\r\n       </defs>\r\n       <use xlink:href=\"#DejaVuSans-8722\"/>\r\n       <use x=\"83.789062\" xlink:href=\"#DejaVuSans-48\"/>\r\n       <use x=\"147.412109\" xlink:href=\"#DejaVuSans-46\"/>\r\n       <use x=\"179.199219\" xlink:href=\"#DejaVuSans-50\"/>\r\n      </g>\r\n     </g>\r\n    </g>\r\n    <g id=\"ytick_12\">\r\n     <g id=\"line2d_22\">\r\n      <g>\r\n       <use style=\"stroke:#000000;stroke-width:0.8;\" x=\"417.417625\" xlink:href=\"#maecea6f975\" y=\"177.438459\"/>\r\n      </g>\r\n     </g>\r\n     <g id=\"text_22\">\r\n      <!-- 0.0 -->\r\n      <g transform=\"translate(424.417625 181.237678)scale(0.1 -0.1)\">\r\n       <use xlink:href=\"#DejaVuSans-48\"/>\r\n       <use x=\"63.623047\" xlink:href=\"#DejaVuSans-46\"/>\r\n       <use x=\"95.410156\" xlink:href=\"#DejaVuSans-48\"/>\r\n      </g>\r\n     </g>\r\n    </g>\r\n    <g id=\"ytick_13\">\r\n     <g id=\"line2d_23\">\r\n      <g>\r\n       <use style=\"stroke:#000000;stroke-width:0.8;\" x=\"417.417625\" xlink:href=\"#maecea6f975\" y=\"144.150611\"/>\r\n      </g>\r\n     </g>\r\n     <g id=\"text_23\">\r\n      <!-- 0.2 -->\r\n      <g transform=\"translate(424.417625 147.94983)scale(0.1 -0.1)\">\r\n       <use xlink:href=\"#DejaVuSans-48\"/>\r\n       <use x=\"63.623047\" xlink:href=\"#DejaVuSans-46\"/>\r\n       <use x=\"95.410156\" xlink:href=\"#DejaVuSans-50\"/>\r\n      </g>\r\n     </g>\r\n    </g>\r\n    <g id=\"ytick_14\">\r\n     <g id=\"line2d_24\">\r\n      <g>\r\n       <use style=\"stroke:#000000;stroke-width:0.8;\" x=\"417.417625\" xlink:href=\"#maecea6f975\" y=\"110.862763\"/>\r\n      </g>\r\n     </g>\r\n     <g id=\"text_24\">\r\n      <!-- 0.4 -->\r\n      <g transform=\"translate(424.417625 114.661982)scale(0.1 -0.1)\">\r\n       <defs>\r\n        <path d=\"M 37.796875 64.3125 \r\nL 12.890625 25.390625 \r\nL 37.796875 25.390625 \r\nz\r\nM 35.203125 72.90625 \r\nL 47.609375 72.90625 \r\nL 47.609375 25.390625 \r\nL 58.015625 25.390625 \r\nL 58.015625 17.1875 \r\nL 47.609375 17.1875 \r\nL 47.609375 0 \r\nL 37.796875 0 \r\nL 37.796875 17.1875 \r\nL 4.890625 17.1875 \r\nL 4.890625 26.703125 \r\nz\r\n\" id=\"DejaVuSans-52\"/>\r\n       </defs>\r\n       <use xlink:href=\"#DejaVuSans-48\"/>\r\n       <use x=\"63.623047\" xlink:href=\"#DejaVuSans-46\"/>\r\n       <use x=\"95.410156\" xlink:href=\"#DejaVuSans-52\"/>\r\n      </g>\r\n     </g>\r\n    </g>\r\n    <g id=\"ytick_15\">\r\n     <g id=\"line2d_25\">\r\n      <g>\r\n       <use style=\"stroke:#000000;stroke-width:0.8;\" x=\"417.417625\" xlink:href=\"#maecea6f975\" y=\"77.574915\"/>\r\n      </g>\r\n     </g>\r\n     <g id=\"text_25\">\r\n      <!-- 0.6 -->\r\n      <g transform=\"translate(424.417625 81.374134)scale(0.1 -0.1)\">\r\n       <defs>\r\n        <path d=\"M 33.015625 40.375 \r\nQ 26.375 40.375 22.484375 35.828125 \r\nQ 18.609375 31.296875 18.609375 23.390625 \r\nQ 18.609375 15.53125 22.484375 10.953125 \r\nQ 26.375 6.390625 33.015625 6.390625 \r\nQ 39.65625 6.390625 43.53125 10.953125 \r\nQ 47.40625 15.53125 47.40625 23.390625 \r\nQ 47.40625 31.296875 43.53125 35.828125 \r\nQ 39.65625 40.375 33.015625 40.375 \r\nz\r\nM 52.59375 71.296875 \r\nL 52.59375 62.3125 \r\nQ 48.875 64.0625 45.09375 64.984375 \r\nQ 41.3125 65.921875 37.59375 65.921875 \r\nQ 27.828125 65.921875 22.671875 59.328125 \r\nQ 17.53125 52.734375 16.796875 39.40625 \r\nQ 19.671875 43.65625 24.015625 45.921875 \r\nQ 28.375 48.1875 33.59375 48.1875 \r\nQ 44.578125 48.1875 50.953125 41.515625 \r\nQ 57.328125 34.859375 57.328125 23.390625 \r\nQ 57.328125 12.15625 50.6875 5.359375 \r\nQ 44.046875 -1.421875 33.015625 -1.421875 \r\nQ 20.359375 -1.421875 13.671875 8.265625 \r\nQ 6.984375 17.96875 6.984375 36.375 \r\nQ 6.984375 53.65625 15.1875 63.9375 \r\nQ 23.390625 74.21875 37.203125 74.21875 \r\nQ 40.921875 74.21875 44.703125 73.484375 \r\nQ 48.484375 72.75 52.59375 71.296875 \r\nz\r\n\" id=\"DejaVuSans-54\"/>\r\n       </defs>\r\n       <use xlink:href=\"#DejaVuSans-48\"/>\r\n       <use x=\"63.623047\" xlink:href=\"#DejaVuSans-46\"/>\r\n       <use x=\"95.410156\" xlink:href=\"#DejaVuSans-54\"/>\r\n      </g>\r\n     </g>\r\n    </g>\r\n    <g id=\"ytick_16\">\r\n     <g id=\"line2d_26\">\r\n      <g>\r\n       <use style=\"stroke:#000000;stroke-width:0.8;\" x=\"417.417625\" xlink:href=\"#maecea6f975\" y=\"44.287067\"/>\r\n      </g>\r\n     </g>\r\n     <g id=\"text_26\">\r\n      <!-- 0.8 -->\r\n      <g transform=\"translate(424.417625 48.086286)scale(0.1 -0.1)\">\r\n       <defs>\r\n        <path d=\"M 31.78125 34.625 \r\nQ 24.75 34.625 20.71875 30.859375 \r\nQ 16.703125 27.09375 16.703125 20.515625 \r\nQ 16.703125 13.921875 20.71875 10.15625 \r\nQ 24.75 6.390625 31.78125 6.390625 \r\nQ 38.8125 6.390625 42.859375 10.171875 \r\nQ 46.921875 13.96875 46.921875 20.515625 \r\nQ 46.921875 27.09375 42.890625 30.859375 \r\nQ 38.875 34.625 31.78125 34.625 \r\nz\r\nM 21.921875 38.8125 \r\nQ 15.578125 40.375 12.03125 44.71875 \r\nQ 8.5 49.078125 8.5 55.328125 \r\nQ 8.5 64.0625 14.71875 69.140625 \r\nQ 20.953125 74.21875 31.78125 74.21875 \r\nQ 42.671875 74.21875 48.875 69.140625 \r\nQ 55.078125 64.0625 55.078125 55.328125 \r\nQ 55.078125 49.078125 51.53125 44.71875 \r\nQ 48 40.375 41.703125 38.8125 \r\nQ 48.828125 37.15625 52.796875 32.3125 \r\nQ 56.78125 27.484375 56.78125 20.515625 \r\nQ 56.78125 9.90625 50.3125 4.234375 \r\nQ 43.84375 -1.421875 31.78125 -1.421875 \r\nQ 19.734375 -1.421875 13.25 4.234375 \r\nQ 6.78125 9.90625 6.78125 20.515625 \r\nQ 6.78125 27.484375 10.78125 32.3125 \r\nQ 14.796875 37.15625 21.921875 38.8125 \r\nz\r\nM 18.3125 54.390625 \r\nQ 18.3125 48.734375 21.84375 45.5625 \r\nQ 25.390625 42.390625 31.78125 42.390625 \r\nQ 38.140625 42.390625 41.71875 45.5625 \r\nQ 45.3125 48.734375 45.3125 54.390625 \r\nQ 45.3125 60.0625 41.71875 63.234375 \r\nQ 38.140625 66.40625 31.78125 66.40625 \r\nQ 25.390625 66.40625 21.84375 63.234375 \r\nQ 18.3125 60.0625 18.3125 54.390625 \r\nz\r\n\" id=\"DejaVuSans-56\"/>\r\n       </defs>\r\n       <use xlink:href=\"#DejaVuSans-48\"/>\r\n       <use x=\"63.623047\" xlink:href=\"#DejaVuSans-46\"/>\r\n       <use x=\"95.410156\" xlink:href=\"#DejaVuSans-56\"/>\r\n      </g>\r\n     </g>\r\n    </g>\r\n    <g id=\"ytick_17\">\r\n     <g id=\"line2d_27\">\r\n      <g>\r\n       <use style=\"stroke:#000000;stroke-width:0.8;\" x=\"417.417625\" xlink:href=\"#maecea6f975\" y=\"10.999219\"/>\r\n      </g>\r\n     </g>\r\n     <g id=\"text_27\">\r\n      <!-- 1.0 -->\r\n      <g transform=\"translate(424.417625 14.798438)scale(0.1 -0.1)\">\r\n       <defs>\r\n        <path d=\"M 12.40625 8.296875 \r\nL 28.515625 8.296875 \r\nL 28.515625 63.921875 \r\nL 10.984375 60.40625 \r\nL 10.984375 69.390625 \r\nL 28.421875 72.90625 \r\nL 38.28125 72.90625 \r\nL 38.28125 8.296875 \r\nL 54.390625 8.296875 \r\nL 54.390625 0 \r\nL 12.40625 0 \r\nz\r\n\" id=\"DejaVuSans-49\"/>\r\n       </defs>\r\n       <use xlink:href=\"#DejaVuSans-49\"/>\r\n       <use x=\"63.623047\" xlink:href=\"#DejaVuSans-46\"/>\r\n       <use x=\"95.410156\" xlink:href=\"#DejaVuSans-48\"/>\r\n      </g>\r\n     </g>\r\n    </g>\r\n   </g>\r\n   <g id=\"patch_4\">\r\n    <path d=\"M 406.545625 228.439219 \r\nL 406.545625 227.589844 \r\nL 406.545625 11.848594 \r\nL 406.545625 10.999219 \r\nL 417.417625 10.999219 \r\nL 417.417625 11.848594 \r\nL 417.417625 227.589844 \r\nL 417.417625 228.439219 \r\nz\r\n\" style=\"fill:none;\"/>\r\n   </g>\r\n  </g>\r\n </g>\r\n <defs>\r\n  <clipPath id=\"pb6e5e131ea\">\r\n   <rect height=\"217.44\" width=\"267.84\" x=\"121.965625\" y=\"10.999219\"/>\r\n  </clipPath>\r\n  <clipPath id=\"p4050ca76b9\">\r\n   <rect height=\"217.44\" width=\"10.872\" x=\"406.545625\" y=\"10.999219\"/>\r\n  </clipPath>\r\n </defs>\r\n</svg>\r\n",
      "image/png": "[encoded data removed]"
     },
     "metadata": {
      "needs_background": "light"
     }
    }
   ],
   "source": [
    "# Finding correlation between the features\n",
    "\n",
    "corr_matrix = df.corr()\n",
    "sns.heatmap(corr_matrix)"
   ]
  },
  {
   "cell_type": "code",
   "execution_count": 17,
   "metadata": {},
   "outputs": [
    {
     "output_type": "execute_result",
     "data": {
      "text/plain": [
       "SALE PRICE           1.000000\n",
       "GROSS SQUARE FEET    0.449913\n",
       "TOTAL UNITS          0.126654\n",
       "RESIDENTIAL UNITS    0.122566\n",
       "LAND SQUARE FEET     0.060143\n",
       "COMMERCIAL UNITS     0.044535\n",
       "LOT                  0.012266\n",
       "YEAR BUILT          -0.003779\n",
       "ZIP CODE            -0.034110\n",
       "BLOCK               -0.061357\n",
       "Name: SALE PRICE, dtype: float64"
      ]
     },
     "metadata": {},
     "execution_count": 17
    }
   ],
   "source": [
    "# Numeric correlation\n",
    "corr_matrix['SALE PRICE'].sort_values(ascending=False)"
   ]
  },
  {
   "cell_type": "code",
   "execution_count": 18,
   "metadata": {},
   "outputs": [
    {
     "output_type": "execute_result",
     "data": {
      "text/plain": [
       "              BLOCK           LOT      ZIP CODE  RESIDENTIAL UNITS  \\\n",
       "count  69281.000000  69281.000000  69281.000000       69281.000000   \n",
       "mean    4200.305437    374.983473  10739.919458           1.870859   \n",
       "std     3434.828427    656.820333   1265.389144          14.317577   \n",
       "min        1.000000      1.000000      0.000000           0.000000   \n",
       "25%     1349.000000     21.000000  10306.000000           0.000000   \n",
       "50%     3377.000000     50.000000  11209.000000           1.000000   \n",
       "75%     6192.000000    879.000000  11249.000000           2.000000   \n",
       "max    16319.000000   9106.000000  11694.000000        1844.000000   \n",
       "\n",
       "       COMMERCIAL UNITS   TOTAL UNITS  LAND SQUARE FEET  GROSS SQUARE FEET  \\\n",
       "count      69281.000000  69281.000000      6.928100e+04       6.928100e+04   \n",
       "mean           0.164244      2.055109      3.643061e+03       3.640300e+03   \n",
       "std            9.018311     17.026435      3.322172e+04       2.427118e+04   \n",
       "min            0.000000      0.000000      0.000000e+00       0.000000e+00   \n",
       "25%            0.000000      0.000000      1.900000e+03       1.268000e+03   \n",
       "50%            0.000000      1.000000      2.970000e+03       2.400000e+03   \n",
       "75%            0.000000      2.000000      3.858418e+03       3.891878e+03   \n",
       "max         2261.000000   2261.000000      4.252327e+06       3.750565e+06   \n",
       "\n",
       "         YEAR BUILT    SALE PRICE  \n",
       "count  69281.000000  6.928100e+04  \n",
       "mean    1800.113451  1.286521e+06  \n",
       "std      519.752668  1.145690e+07  \n",
       "min        0.000000  0.000000e+00  \n",
       "25%     1920.000000  2.350000e+05  \n",
       "50%     1938.000000  5.350000e+05  \n",
       "75%     1965.000000  9.500000e+05  \n",
       "max     2017.000000  2.210000e+09  "
      ],
      "text/html": "<div>\n<style scoped>\n    .dataframe tbody tr th:only-of-type {\n        vertical-align: middle;\n    }\n\n    .dataframe tbody tr th {\n        vertical-align: top;\n    }\n\n    .dataframe thead th {\n        text-align: right;\n    }\n</style>\n<table border=\"1\" class=\"dataframe\">\n  <thead>\n    <tr style=\"text-align: right;\">\n      <th></th>\n      <th>BLOCK</th>\n      <th>LOT</th>\n      <th>ZIP CODE</th>\n      <th>RESIDENTIAL UNITS</th>\n      <th>COMMERCIAL UNITS</th>\n      <th>TOTAL UNITS</th>\n      <th>LAND SQUARE FEET</th>\n      <th>GROSS SQUARE FEET</th>\n      <th>YEAR BUILT</th>\n      <th>SALE PRICE</th>\n    </tr>\n  </thead>\n  <tbody>\n    <tr>\n      <th>count</th>\n      <td>69281.000000</td>\n      <td>69281.000000</td>\n      <td>69281.000000</td>\n      <td>69281.000000</td>\n      <td>69281.000000</td>\n      <td>69281.000000</td>\n      <td>6.928100e+04</td>\n      <td>6.928100e+04</td>\n      <td>69281.000000</td>\n      <td>6.928100e+04</td>\n    </tr>\n    <tr>\n      <th>mean</th>\n      <td>4200.305437</td>\n      <td>374.983473</td>\n      <td>10739.919458</td>\n      <td>1.870859</td>\n      <td>0.164244</td>\n      <td>2.055109</td>\n      <td>3.643061e+03</td>\n      <td>3.640300e+03</td>\n      <td>1800.113451</td>\n      <td>1.286521e+06</td>\n    </tr>\n    <tr>\n      <th>std</th>\n      <td>3434.828427</td>\n      <td>656.820333</td>\n      <td>1265.389144</td>\n      <td>14.317577</td>\n      <td>9.018311</td>\n      <td>17.026435</td>\n      <td>3.322172e+04</td>\n      <td>2.427118e+04</td>\n      <td>519.752668</td>\n      <td>1.145690e+07</td>\n    </tr>\n    <tr>\n      <th>min</th>\n      <td>1.000000</td>\n      <td>1.000000</td>\n      <td>0.000000</td>\n      <td>0.000000</td>\n      <td>0.000000</td>\n      <td>0.000000</td>\n      <td>0.000000e+00</td>\n      <td>0.000000e+00</td>\n      <td>0.000000</td>\n      <td>0.000000e+00</td>\n    </tr>\n    <tr>\n      <th>25%</th>\n      <td>1349.000000</td>\n      <td>21.000000</td>\n      <td>10306.000000</td>\n      <td>0.000000</td>\n      <td>0.000000</td>\n      <td>0.000000</td>\n      <td>1.900000e+03</td>\n      <td>1.268000e+03</td>\n      <td>1920.000000</td>\n      <td>2.350000e+05</td>\n    </tr>\n    <tr>\n      <th>50%</th>\n      <td>3377.000000</td>\n      <td>50.000000</td>\n      <td>11209.000000</td>\n      <td>1.000000</td>\n      <td>0.000000</td>\n      <td>1.000000</td>\n      <td>2.970000e+03</td>\n      <td>2.400000e+03</td>\n      <td>1938.000000</td>\n      <td>5.350000e+05</td>\n    </tr>\n    <tr>\n      <th>75%</th>\n      <td>6192.000000</td>\n      <td>879.000000</td>\n      <td>11249.000000</td>\n      <td>2.000000</td>\n      <td>0.000000</td>\n      <td>2.000000</td>\n      <td>3.858418e+03</td>\n      <td>3.891878e+03</td>\n      <td>1965.000000</td>\n      <td>9.500000e+05</td>\n    </tr>\n    <tr>\n      <th>max</th>\n      <td>16319.000000</td>\n      <td>9106.000000</td>\n      <td>11694.000000</td>\n      <td>1844.000000</td>\n      <td>2261.000000</td>\n      <td>2261.000000</td>\n      <td>4.252327e+06</td>\n      <td>3.750565e+06</td>\n      <td>2017.000000</td>\n      <td>2.210000e+09</td>\n    </tr>\n  </tbody>\n</table>\n</div>"
     },
     "metadata": {},
     "execution_count": 18
    }
   ],
   "source": [
    "# Storing the numeric data\n",
    "numeric_data=df.select_dtypes(include=[np.number])\n",
    "numeric_data.describe()"
   ]
  },
  {
   "cell_type": "code",
   "execution_count": 19,
   "metadata": {},
   "outputs": [
    {
     "output_type": "execute_result",
     "data": {
      "text/plain": [
       "     TOTAL UNITS  SALE PRICE\n",
       "1              1       30435\n",
       "0              0       17563\n",
       "2              2       12931\n",
       "3              3        4415\n",
       "4              4        1256\n",
       "..           ...         ...\n",
       "114          136           1\n",
       "113          135           1\n",
       "112          132           1\n",
       "111          130           1\n",
       "168         2261           1\n",
       "\n",
       "[169 rows x 2 columns]"
      ],
      "text/html": "<div>\n<style scoped>\n    .dataframe tbody tr th:only-of-type {\n        vertical-align: middle;\n    }\n\n    .dataframe tbody tr th {\n        vertical-align: top;\n    }\n\n    .dataframe thead th {\n        text-align: right;\n    }\n</style>\n<table border=\"1\" class=\"dataframe\">\n  <thead>\n    <tr style=\"text-align: right;\">\n      <th></th>\n      <th>TOTAL UNITS</th>\n      <th>SALE PRICE</th>\n    </tr>\n  </thead>\n  <tbody>\n    <tr>\n      <th>1</th>\n      <td>1</td>\n      <td>30435</td>\n    </tr>\n    <tr>\n      <th>0</th>\n      <td>0</td>\n      <td>17563</td>\n    </tr>\n    <tr>\n      <th>2</th>\n      <td>2</td>\n      <td>12931</td>\n    </tr>\n    <tr>\n      <th>3</th>\n      <td>3</td>\n      <td>4415</td>\n    </tr>\n    <tr>\n      <th>4</th>\n      <td>4</td>\n      <td>1256</td>\n    </tr>\n    <tr>\n      <th>...</th>\n      <td>...</td>\n      <td>...</td>\n    </tr>\n    <tr>\n      <th>114</th>\n      <td>136</td>\n      <td>1</td>\n    </tr>\n    <tr>\n      <th>113</th>\n      <td>135</td>\n      <td>1</td>\n    </tr>\n    <tr>\n      <th>112</th>\n      <td>132</td>\n      <td>1</td>\n    </tr>\n    <tr>\n      <th>111</th>\n      <td>130</td>\n      <td>1</td>\n    </tr>\n    <tr>\n      <th>168</th>\n      <td>2261</td>\n      <td>1</td>\n    </tr>\n  </tbody>\n</table>\n<p>169 rows × 2 columns</p>\n</div>"
     },
     "metadata": {},
     "execution_count": 19
    }
   ],
   "source": [
    "# Checking Total Units, Commercial Units, Residential Units\n",
    "df[[\"TOTAL UNITS\", \"SALE PRICE\"]].groupby(['TOTAL UNITS'], as_index=False).count().sort_values(by='SALE PRICE', ascending=False)"
   ]
  },
  {
   "cell_type": "code",
   "execution_count": 21,
   "metadata": {},
   "outputs": [
    {
     "output_type": "execute_result",
     "data": {
      "text/plain": [
       "      BOROUGH   NEIGHBORHOOD                      BUILDING CLASS CATEGORY  \\\n",
       "0           1  ALPHABET CITY  07 RENTALS - WALKUP APARTMENTS                \n",
       "3           1  ALPHABET CITY  07 RENTALS - WALKUP APARTMENTS                \n",
       "4           1  ALPHABET CITY  07 RENTALS - WALKUP APARTMENTS                \n",
       "6           1  ALPHABET CITY  07 RENTALS - WALKUP APARTMENTS                \n",
       "9           1  ALPHABET CITY  08 RENTALS - ELEVATOR APARTMENTS              \n",
       "...       ...            ...                                          ...   \n",
       "84543       5        WOODROW  02 TWO FAMILY DWELLINGS                       \n",
       "84544       5        WOODROW  02 TWO FAMILY DWELLINGS                       \n",
       "84545       5        WOODROW  02 TWO FAMILY DWELLINGS                       \n",
       "84546       5        WOODROW  22 STORE BUILDINGS                            \n",
       "84547       5        WOODROW  35 INDOOR PUBLIC AND CULTURAL FACILITIES      \n",
       "\n",
       "      TAX CLASS AT PRESENT  BLOCK  LOT BUILDING CLASS AT PRESENT  \\\n",
       "0                       2A    392    6                        C2   \n",
       "3                       2B    402   21                        C4   \n",
       "4                       2A    404   55                        C2   \n",
       "6                       2B    406   32                        C4   \n",
       "9                        2    387  153                        D9   \n",
       "...                    ...    ...  ...                       ...   \n",
       "84543                    1   7349   34                        B9   \n",
       "84544                    1   7349   78                        B9   \n",
       "84545                    1   7351   60                        B2   \n",
       "84546                    4   7100   28                        K6   \n",
       "84547                    4   7105  679                        P9   \n",
       "\n",
       "                      ADDRESS APARTMENT NUMBER  ZIP CODE  RESIDENTIAL UNITS  \\\n",
       "0                153 AVENUE B                      10009                  5   \n",
       "3         154 EAST 7TH STREET                      10009                 10   \n",
       "4      301 EAST 10TH   STREET                      10009                  6   \n",
       "6                210 AVENUE B                      10009                  8   \n",
       "9         629 EAST 5TH STREET                      10009                 24   \n",
       "...                       ...              ...       ...                ...   \n",
       "84543           37 QUAIL LANE                      10309                  2   \n",
       "84544        32 PHEASANT LANE                      10309                  2   \n",
       "84545        49 PITNEY AVENUE                      10309                  2   \n",
       "84546   2730 ARTHUR KILL ROAD                      10309                  0   \n",
       "84547       155 CLAY PIT ROAD                      10309                  0   \n",
       "\n",
       "       COMMERCIAL UNITS  TOTAL UNITS  LAND SQUARE FEET  GROSS SQUARE FEET  \\\n",
       "0                     0            5            1633.0             6440.0   \n",
       "3                     0           10            2272.0             6794.0   \n",
       "4                     0            6            2369.0             4615.0   \n",
       "6                     0            8            1750.0             4226.0   \n",
       "9                     0           24            4489.0            18523.0   \n",
       "...                 ...          ...               ...                ...   \n",
       "84543                 0            2            2400.0             2575.0   \n",
       "84544                 0            2            2498.0             2377.0   \n",
       "84545                 0            2            4000.0             1496.0   \n",
       "84546                 7            7          208033.0            64117.0   \n",
       "84547                 1            1           10796.0             2400.0   \n",
       "\n",
       "       YEAR BUILT TAX CLASS AT TIME OF SALE BUILDING CLASS AT TIME OF SALE  \\\n",
       "0            1900                         2                             C2   \n",
       "3            1913                         2                             C4   \n",
       "4            1900                         2                             C2   \n",
       "6            1920                         2                             C4   \n",
       "9            1920                         2                             D9   \n",
       "...           ...                       ...                            ...   \n",
       "84543        1998                         1                             B9   \n",
       "84544        1998                         1                             B9   \n",
       "84545        1925                         1                             B2   \n",
       "84546        2001                         4                             K6   \n",
       "84547        2006                         4                             P9   \n",
       "\n",
       "       SALE PRICE  \n",
       "0       6625000.0  \n",
       "3       3936272.0  \n",
       "4       8000000.0  \n",
       "6       3192840.0  \n",
       "9      16232000.0  \n",
       "...           ...  \n",
       "84543    450000.0  \n",
       "84544    550000.0  \n",
       "84545    460000.0  \n",
       "84546  11693337.0  \n",
       "84547     69300.0  \n",
       "\n",
       "[51717 rows x 19 columns]"
      ],
      "text/html": "<div>\n<style scoped>\n    .dataframe tbody tr th:only-of-type {\n        vertical-align: middle;\n    }\n\n    .dataframe tbody tr th {\n        vertical-align: top;\n    }\n\n    .dataframe thead th {\n        text-align: right;\n    }\n</style>\n<table border=\"1\" class=\"dataframe\">\n  <thead>\n    <tr style=\"text-align: right;\">\n      <th></th>\n      <th>BOROUGH</th>\n      <th>NEIGHBORHOOD</th>\n      <th>BUILDING CLASS CATEGORY</th>\n      <th>TAX CLASS AT PRESENT</th>\n      <th>BLOCK</th>\n      <th>LOT</th>\n      <th>BUILDING CLASS AT PRESENT</th>\n      <th>ADDRESS</th>\n      <th>APARTMENT NUMBER</th>\n      <th>ZIP CODE</th>\n      <th>RESIDENTIAL UNITS</th>\n      <th>COMMERCIAL UNITS</th>\n      <th>TOTAL UNITS</th>\n      <th>LAND SQUARE FEET</th>\n      <th>GROSS SQUARE FEET</th>\n      <th>YEAR BUILT</th>\n      <th>TAX CLASS AT TIME OF SALE</th>\n      <th>BUILDING CLASS AT TIME OF SALE</th>\n      <th>SALE PRICE</th>\n    </tr>\n  </thead>\n  <tbody>\n    <tr>\n      <th>0</th>\n      <td>1</td>\n      <td>ALPHABET CITY</td>\n      <td>07 RENTALS - WALKUP APARTMENTS</td>\n      <td>2A</td>\n      <td>392</td>\n      <td>6</td>\n      <td>C2</td>\n      <td>153 AVENUE B</td>\n      <td></td>\n      <td>10009</td>\n      <td>5</td>\n      <td>0</td>\n      <td>5</td>\n      <td>1633.0</td>\n      <td>6440.0</td>\n      <td>1900</td>\n      <td>2</td>\n      <td>C2</td>\n      <td>6625000.0</td>\n    </tr>\n    <tr>\n      <th>3</th>\n      <td>1</td>\n      <td>ALPHABET CITY</td>\n      <td>07 RENTALS - WALKUP APARTMENTS</td>\n      <td>2B</td>\n      <td>402</td>\n      <td>21</td>\n      <td>C4</td>\n      <td>154 EAST 7TH STREET</td>\n      <td></td>\n      <td>10009</td>\n      <td>10</td>\n      <td>0</td>\n      <td>10</td>\n      <td>2272.0</td>\n      <td>6794.0</td>\n      <td>1913</td>\n      <td>2</td>\n      <td>C4</td>\n      <td>3936272.0</td>\n    </tr>\n    <tr>\n      <th>4</th>\n      <td>1</td>\n      <td>ALPHABET CITY</td>\n      <td>07 RENTALS - WALKUP APARTMENTS</td>\n      <td>2A</td>\n      <td>404</td>\n      <td>55</td>\n      <td>C2</td>\n      <td>301 EAST 10TH   STREET</td>\n      <td></td>\n      <td>10009</td>\n      <td>6</td>\n      <td>0</td>\n      <td>6</td>\n      <td>2369.0</td>\n      <td>4615.0</td>\n      <td>1900</td>\n      <td>2</td>\n      <td>C2</td>\n      <td>8000000.0</td>\n    </tr>\n    <tr>\n      <th>6</th>\n      <td>1</td>\n      <td>ALPHABET CITY</td>\n      <td>07 RENTALS - WALKUP APARTMENTS</td>\n      <td>2B</td>\n      <td>406</td>\n      <td>32</td>\n      <td>C4</td>\n      <td>210 AVENUE B</td>\n      <td></td>\n      <td>10009</td>\n      <td>8</td>\n      <td>0</td>\n      <td>8</td>\n      <td>1750.0</td>\n      <td>4226.0</td>\n      <td>1920</td>\n      <td>2</td>\n      <td>C4</td>\n      <td>3192840.0</td>\n    </tr>\n    <tr>\n      <th>9</th>\n      <td>1</td>\n      <td>ALPHABET CITY</td>\n      <td>08 RENTALS - ELEVATOR APARTMENTS</td>\n      <td>2</td>\n      <td>387</td>\n      <td>153</td>\n      <td>D9</td>\n      <td>629 EAST 5TH STREET</td>\n      <td></td>\n      <td>10009</td>\n      <td>24</td>\n      <td>0</td>\n      <td>24</td>\n      <td>4489.0</td>\n      <td>18523.0</td>\n      <td>1920</td>\n      <td>2</td>\n      <td>D9</td>\n      <td>16232000.0</td>\n    </tr>\n    <tr>\n      <th>...</th>\n      <td>...</td>\n      <td>...</td>\n      <td>...</td>\n      <td>...</td>\n      <td>...</td>\n      <td>...</td>\n      <td>...</td>\n      <td>...</td>\n      <td>...</td>\n      <td>...</td>\n      <td>...</td>\n      <td>...</td>\n      <td>...</td>\n      <td>...</td>\n      <td>...</td>\n      <td>...</td>\n      <td>...</td>\n      <td>...</td>\n      <td>...</td>\n    </tr>\n    <tr>\n      <th>84543</th>\n      <td>5</td>\n      <td>WOODROW</td>\n      <td>02 TWO FAMILY DWELLINGS</td>\n      <td>1</td>\n      <td>7349</td>\n      <td>34</td>\n      <td>B9</td>\n      <td>37 QUAIL LANE</td>\n      <td></td>\n      <td>10309</td>\n      <td>2</td>\n      <td>0</td>\n      <td>2</td>\n      <td>2400.0</td>\n      <td>2575.0</td>\n      <td>1998</td>\n      <td>1</td>\n      <td>B9</td>\n      <td>450000.0</td>\n    </tr>\n    <tr>\n      <th>84544</th>\n      <td>5</td>\n      <td>WOODROW</td>\n      <td>02 TWO FAMILY DWELLINGS</td>\n      <td>1</td>\n      <td>7349</td>\n      <td>78</td>\n      <td>B9</td>\n      <td>32 PHEASANT LANE</td>\n      <td></td>\n      <td>10309</td>\n      <td>2</td>\n      <td>0</td>\n      <td>2</td>\n      <td>2498.0</td>\n      <td>2377.0</td>\n      <td>1998</td>\n      <td>1</td>\n      <td>B9</td>\n      <td>550000.0</td>\n    </tr>\n    <tr>\n      <th>84545</th>\n      <td>5</td>\n      <td>WOODROW</td>\n      <td>02 TWO FAMILY DWELLINGS</td>\n      <td>1</td>\n      <td>7351</td>\n      <td>60</td>\n      <td>B2</td>\n      <td>49 PITNEY AVENUE</td>\n      <td></td>\n      <td>10309</td>\n      <td>2</td>\n      <td>0</td>\n      <td>2</td>\n      <td>4000.0</td>\n      <td>1496.0</td>\n      <td>1925</td>\n      <td>1</td>\n      <td>B2</td>\n      <td>460000.0</td>\n    </tr>\n    <tr>\n      <th>84546</th>\n      <td>5</td>\n      <td>WOODROW</td>\n      <td>22 STORE BUILDINGS</td>\n      <td>4</td>\n      <td>7100</td>\n      <td>28</td>\n      <td>K6</td>\n      <td>2730 ARTHUR KILL ROAD</td>\n      <td></td>\n      <td>10309</td>\n      <td>0</td>\n      <td>7</td>\n      <td>7</td>\n      <td>208033.0</td>\n      <td>64117.0</td>\n      <td>2001</td>\n      <td>4</td>\n      <td>K6</td>\n      <td>11693337.0</td>\n    </tr>\n    <tr>\n      <th>84547</th>\n      <td>5</td>\n      <td>WOODROW</td>\n      <td>35 INDOOR PUBLIC AND CULTURAL FACILITIES</td>\n      <td>4</td>\n      <td>7105</td>\n      <td>679</td>\n      <td>P9</td>\n      <td>155 CLAY PIT ROAD</td>\n      <td></td>\n      <td>10309</td>\n      <td>0</td>\n      <td>1</td>\n      <td>1</td>\n      <td>10796.0</td>\n      <td>2400.0</td>\n      <td>2006</td>\n      <td>4</td>\n      <td>P9</td>\n      <td>69300.0</td>\n    </tr>\n  </tbody>\n</table>\n<p>51717 rows × 19 columns</p>\n</div>"
     },
     "metadata": {},
     "execution_count": 21
    }
   ],
   "source": [
    "df = df[(df['TOTAL UNITS'] > 0) & (df['TOTAL UNITS'] != 2261)]\n",
    "df"
   ]
  },
  {
   "cell_type": "code",
   "execution_count": 22,
   "metadata": {},
   "outputs": [
    {
     "output_type": "execute_result",
     "data": {
      "text/plain": [
       "(51717, 19)"
      ]
     },
     "metadata": {},
     "execution_count": 22
    }
   ],
   "source": [
    "df.shape"
   ]
  },
  {
   "cell_type": "code",
   "execution_count": 23,
   "metadata": {},
   "outputs": [],
   "source": [
    "# Remove observations that fall outside Sale Price caps\n",
    "\n",
    "df = df[(df['SALE PRICE'] > 100000) & (df['SALE PRICE'] < 5000000)]"
   ]
  },
  {
   "cell_type": "code",
   "execution_count": 24,
   "metadata": {},
   "outputs": [
    {
     "output_type": "execute_result",
     "data": {
      "text/plain": [
       "<AxesSubplot:xlabel='GROSS SQUARE FEET'>"
      ]
     },
     "metadata": {},
     "execution_count": 24
    },
    {
     "output_type": "display_data",
     "data": {
      "text/plain": "<Figure size 720x432 with 1 Axes>",
      "image/svg+xml": "<?xml version=\"1.0\" encoding=\"utf-8\" standalone=\"no\"?>\r\n<!DOCTYPE svg PUBLIC \"-//W3C//DTD SVG 1.1//EN\"\r\n  \"http://www.w3.org/Graphics/SVG/1.1/DTD/svg11.dtd\">\r\n<!-- Created with matplotlib (https://matplotlib.org/) -->\r\n<svg height=\"370.91625pt\" version=\"1.1\" viewBox=\"0 0 576.268357 370.91625\" width=\"576.268357pt\" xmlns=\"http://www.w3.org/2000/svg\" xmlns:xlink=\"http://www.w3.org/1999/xlink\">\r\n <metadata>\r\n  <rdf:RDF xmlns:cc=\"http://creativecommons.org/ns#\" xmlns:dc=\"http://purl.org/dc/elements/1.1/\" xmlns:rdf=\"http://www.w3.org/1999/02/22-rdf-syntax-ns#\">\r\n   <cc:Work>\r\n    <dc:type rdf:resource=\"http://purl.org/dc/dcmitype/StillImage\"/>\r\n    <dc:date>2021-01-17T18:05:37.631202</dc:date>\r\n    <dc:format>image/svg+xml</dc:format>\r\n    <dc:creator>\r\n     <cc:Agent>\r\n      <dc:title>Matplotlib v3.3.2, https://matplotlib.org/</dc:title>\r\n     </cc:Agent>\r\n    </dc:creator>\r\n   </cc:Work>\r\n  </rdf:RDF>\r\n </metadata>\r\n <defs>\r\n  <style type=\"text/css\">*{stroke-linecap:butt;stroke-linejoin:round;}</style>\r\n </defs>\r\n <g id=\"figure_1\">\r\n  <g id=\"patch_1\">\r\n   <path d=\"M 0 370.91625 \r\nL 576.268357 370.91625 \r\nL 576.268357 0 \r\nL 0 0 \r\nz\r\n\" style=\"fill:none;\"/>\r\n  </g>\r\n  <g id=\"axes_1\">\r\n   <g id=\"patch_2\">\r\n    <path d=\"M 10.7 333.36 \r\nL 568.7 333.36 \r\nL 568.7 7.2 \r\nL 10.7 7.2 \r\nz\r\n\" style=\"fill:#ffffff;\"/>\r\n   </g>\r\n   <g id=\"patch_3\">\r\n    <path clip-path=\"url(#p50a5c8c151)\" d=\"M 119.308392 39.816 \r\nL 119.308392 300.744 \r\nL 289.171817 300.744 \r\nL 289.171817 39.816 \r\nL 119.308392 39.816 \r\nz\r\n\" style=\"fill:#3274a1;stroke:#3f3f3f;stroke-linejoin:miter;stroke-width:1.5;\"/>\r\n   </g>\r\n   <g id=\"matplotlib.axis_1\">\r\n    <g id=\"xtick_1\">\r\n     <g id=\"line2d_1\">\r\n      <defs>\r\n       <path d=\"M 0 0 \r\nL 0 3.5 \r\n\" id=\"mbaaae438b5\" style=\"stroke:#000000;stroke-width:0.8;\"/>\r\n      </defs>\r\n      <g>\r\n       <use style=\"stroke:#000000;stroke-width:0.8;\" x=\"36.063636\" xlink:href=\"#mbaaae438b5\" y=\"333.36\"/>\r\n      </g>\r\n     </g>\r\n     <g id=\"text_1\">\r\n      <!-- 0 -->\r\n      <g transform=\"translate(32.882386 347.958438)scale(0.1 -0.1)\">\r\n       <defs>\r\n        <path d=\"M 31.78125 66.40625 \r\nQ 24.171875 66.40625 20.328125 58.90625 \r\nQ 16.5 51.421875 16.5 36.375 \r\nQ 16.5 21.390625 20.328125 13.890625 \r\nQ 24.171875 6.390625 31.78125 6.390625 \r\nQ 39.453125 6.390625 43.28125 13.890625 \r\nQ 47.125 21.390625 47.125 36.375 \r\nQ 47.125 51.421875 43.28125 58.90625 \r\nQ 39.453125 66.40625 31.78125 66.40625 \r\nz\r\nM 31.78125 74.21875 \r\nQ 44.046875 74.21875 50.515625 64.515625 \r\nQ 56.984375 54.828125 56.984375 36.375 \r\nQ 56.984375 17.96875 50.515625 8.265625 \r\nQ 44.046875 -1.421875 31.78125 -1.421875 \r\nQ 19.53125 -1.421875 13.0625 8.265625 \r\nQ 6.59375 17.96875 6.59375 36.375 \r\nQ 6.59375 54.828125 13.0625 64.515625 \r\nQ 19.53125 74.21875 31.78125 74.21875 \r\nz\r\n\" id=\"DejaVuSans-48\"/>\r\n       </defs>\r\n       <use xlink:href=\"#DejaVuSans-48\"/>\r\n      </g>\r\n     </g>\r\n    </g>\r\n    <g id=\"xtick_2\">\r\n     <g id=\"line2d_2\">\r\n      <g>\r\n       <use style=\"stroke:#000000;stroke-width:0.8;\" x=\"101.098601\" xlink:href=\"#mbaaae438b5\" y=\"333.36\"/>\r\n      </g>\r\n     </g>\r\n     <g id=\"text_2\">\r\n      <!-- 1000 -->\r\n      <g transform=\"translate(88.373601 347.958438)scale(0.1 -0.1)\">\r\n       <defs>\r\n        <path d=\"M 12.40625 8.296875 \r\nL 28.515625 8.296875 \r\nL 28.515625 63.921875 \r\nL 10.984375 60.40625 \r\nL 10.984375 69.390625 \r\nL 28.421875 72.90625 \r\nL 38.28125 72.90625 \r\nL 38.28125 8.296875 \r\nL 54.390625 8.296875 \r\nL 54.390625 0 \r\nL 12.40625 0 \r\nz\r\n\" id=\"DejaVuSans-49\"/>\r\n       </defs>\r\n       <use xlink:href=\"#DejaVuSans-49\"/>\r\n       <use x=\"63.623047\" xlink:href=\"#DejaVuSans-48\"/>\r\n       <use x=\"127.246094\" xlink:href=\"#DejaVuSans-48\"/>\r\n       <use x=\"190.869141\" xlink:href=\"#DejaVuSans-48\"/>\r\n      </g>\r\n     </g>\r\n    </g>\r\n    <g id=\"xtick_3\">\r\n     <g id=\"line2d_3\">\r\n      <g>\r\n       <use style=\"stroke:#000000;stroke-width:0.8;\" x=\"166.133566\" xlink:href=\"#mbaaae438b5\" y=\"333.36\"/>\r\n      </g>\r\n     </g>\r\n     <g id=\"text_3\">\r\n      <!-- 2000 -->\r\n      <g transform=\"translate(153.408566 347.958438)scale(0.1 -0.1)\">\r\n       <defs>\r\n        <path d=\"M 19.1875 8.296875 \r\nL 53.609375 8.296875 \r\nL 53.609375 0 \r\nL 7.328125 0 \r\nL 7.328125 8.296875 \r\nQ 12.9375 14.109375 22.625 23.890625 \r\nQ 32.328125 33.6875 34.8125 36.53125 \r\nQ 39.546875 41.84375 41.421875 45.53125 \r\nQ 43.3125 49.21875 43.3125 52.78125 \r\nQ 43.3125 58.59375 39.234375 62.25 \r\nQ 35.15625 65.921875 28.609375 65.921875 \r\nQ 23.96875 65.921875 18.8125 64.3125 \r\nQ 13.671875 62.703125 7.8125 59.421875 \r\nL 7.8125 69.390625 \r\nQ 13.765625 71.78125 18.9375 73 \r\nQ 24.125 74.21875 28.421875 74.21875 \r\nQ 39.75 74.21875 46.484375 68.546875 \r\nQ 53.21875 62.890625 53.21875 53.421875 \r\nQ 53.21875 48.921875 51.53125 44.890625 \r\nQ 49.859375 40.875 45.40625 35.40625 \r\nQ 44.1875 33.984375 37.640625 27.21875 \r\nQ 31.109375 20.453125 19.1875 8.296875 \r\nz\r\n\" id=\"DejaVuSans-50\"/>\r\n       </defs>\r\n       <use xlink:href=\"#DejaVuSans-50\"/>\r\n       <use x=\"63.623047\" xlink:href=\"#DejaVuSans-48\"/>\r\n       <use x=\"127.246094\" xlink:href=\"#DejaVuSans-48\"/>\r\n       <use x=\"190.869141\" xlink:href=\"#DejaVuSans-48\"/>\r\n      </g>\r\n     </g>\r\n    </g>\r\n    <g id=\"xtick_4\">\r\n     <g id=\"line2d_4\">\r\n      <g>\r\n       <use style=\"stroke:#000000;stroke-width:0.8;\" x=\"231.168531\" xlink:href=\"#mbaaae438b5\" y=\"333.36\"/>\r\n      </g>\r\n     </g>\r\n     <g id=\"text_4\">\r\n      <!-- 3000 -->\r\n      <g transform=\"translate(218.443531 347.958438)scale(0.1 -0.1)\">\r\n       <defs>\r\n        <path d=\"M 40.578125 39.3125 \r\nQ 47.65625 37.796875 51.625 33 \r\nQ 55.609375 28.21875 55.609375 21.1875 \r\nQ 55.609375 10.40625 48.1875 4.484375 \r\nQ 40.765625 -1.421875 27.09375 -1.421875 \r\nQ 22.515625 -1.421875 17.65625 -0.515625 \r\nQ 12.796875 0.390625 7.625 2.203125 \r\nL 7.625 11.71875 \r\nQ 11.71875 9.328125 16.59375 8.109375 \r\nQ 21.484375 6.890625 26.8125 6.890625 \r\nQ 36.078125 6.890625 40.9375 10.546875 \r\nQ 45.796875 14.203125 45.796875 21.1875 \r\nQ 45.796875 27.640625 41.28125 31.265625 \r\nQ 36.765625 34.90625 28.71875 34.90625 \r\nL 20.21875 34.90625 \r\nL 20.21875 43.015625 \r\nL 29.109375 43.015625 \r\nQ 36.375 43.015625 40.234375 45.921875 \r\nQ 44.09375 48.828125 44.09375 54.296875 \r\nQ 44.09375 59.90625 40.109375 62.90625 \r\nQ 36.140625 65.921875 28.71875 65.921875 \r\nQ 24.65625 65.921875 20.015625 65.03125 \r\nQ 15.375 64.15625 9.8125 62.3125 \r\nL 9.8125 71.09375 \r\nQ 15.4375 72.65625 20.34375 73.4375 \r\nQ 25.25 74.21875 29.59375 74.21875 \r\nQ 40.828125 74.21875 47.359375 69.109375 \r\nQ 53.90625 64.015625 53.90625 55.328125 \r\nQ 53.90625 49.265625 50.4375 45.09375 \r\nQ 46.96875 40.921875 40.578125 39.3125 \r\nz\r\n\" id=\"DejaVuSans-51\"/>\r\n       </defs>\r\n       <use xlink:href=\"#DejaVuSans-51\"/>\r\n       <use x=\"63.623047\" xlink:href=\"#DejaVuSans-48\"/>\r\n       <use x=\"127.246094\" xlink:href=\"#DejaVuSans-48\"/>\r\n       <use x=\"190.869141\" xlink:href=\"#DejaVuSans-48\"/>\r\n      </g>\r\n     </g>\r\n    </g>\r\n    <g id=\"xtick_5\">\r\n     <g id=\"line2d_5\">\r\n      <g>\r\n       <use style=\"stroke:#000000;stroke-width:0.8;\" x=\"296.203497\" xlink:href=\"#mbaaae438b5\" y=\"333.36\"/>\r\n      </g>\r\n     </g>\r\n     <g id=\"text_5\">\r\n      <!-- 4000 -->\r\n      <g transform=\"translate(283.478497 347.958438)scale(0.1 -0.1)\">\r\n       <defs>\r\n        <path d=\"M 37.796875 64.3125 \r\nL 12.890625 25.390625 \r\nL 37.796875 25.390625 \r\nz\r\nM 35.203125 72.90625 \r\nL 47.609375 72.90625 \r\nL 47.609375 25.390625 \r\nL 58.015625 25.390625 \r\nL 58.015625 17.1875 \r\nL 47.609375 17.1875 \r\nL 47.609375 0 \r\nL 37.796875 0 \r\nL 37.796875 17.1875 \r\nL 4.890625 17.1875 \r\nL 4.890625 26.703125 \r\nz\r\n\" id=\"DejaVuSans-52\"/>\r\n       </defs>\r\n       <use xlink:href=\"#DejaVuSans-52\"/>\r\n       <use x=\"63.623047\" xlink:href=\"#DejaVuSans-48\"/>\r\n       <use x=\"127.246094\" xlink:href=\"#DejaVuSans-48\"/>\r\n       <use x=\"190.869141\" xlink:href=\"#DejaVuSans-48\"/>\r\n      </g>\r\n     </g>\r\n    </g>\r\n    <g id=\"xtick_6\">\r\n     <g id=\"line2d_6\">\r\n      <g>\r\n       <use style=\"stroke:#000000;stroke-width:0.8;\" x=\"361.238462\" xlink:href=\"#mbaaae438b5\" y=\"333.36\"/>\r\n      </g>\r\n     </g>\r\n     <g id=\"text_6\">\r\n      <!-- 5000 -->\r\n      <g transform=\"translate(348.513462 347.958438)scale(0.1 -0.1)\">\r\n       <defs>\r\n        <path d=\"M 10.796875 72.90625 \r\nL 49.515625 72.90625 \r\nL 49.515625 64.59375 \r\nL 19.828125 64.59375 \r\nL 19.828125 46.734375 \r\nQ 21.96875 47.46875 24.109375 47.828125 \r\nQ 26.265625 48.1875 28.421875 48.1875 \r\nQ 40.625 48.1875 47.75 41.5 \r\nQ 54.890625 34.8125 54.890625 23.390625 \r\nQ 54.890625 11.625 47.5625 5.09375 \r\nQ 40.234375 -1.421875 26.90625 -1.421875 \r\nQ 22.3125 -1.421875 17.546875 -0.640625 \r\nQ 12.796875 0.140625 7.71875 1.703125 \r\nL 7.71875 11.625 \r\nQ 12.109375 9.234375 16.796875 8.0625 \r\nQ 21.484375 6.890625 26.703125 6.890625 \r\nQ 35.15625 6.890625 40.078125 11.328125 \r\nQ 45.015625 15.765625 45.015625 23.390625 \r\nQ 45.015625 31 40.078125 35.4375 \r\nQ 35.15625 39.890625 26.703125 39.890625 \r\nQ 22.75 39.890625 18.8125 39.015625 \r\nQ 14.890625 38.140625 10.796875 36.28125 \r\nz\r\n\" id=\"DejaVuSans-53\"/>\r\n       </defs>\r\n       <use xlink:href=\"#DejaVuSans-53\"/>\r\n       <use x=\"63.623047\" xlink:href=\"#DejaVuSans-48\"/>\r\n       <use x=\"127.246094\" xlink:href=\"#DejaVuSans-48\"/>\r\n       <use x=\"190.869141\" xlink:href=\"#DejaVuSans-48\"/>\r\n      </g>\r\n     </g>\r\n    </g>\r\n    <g id=\"xtick_7\">\r\n     <g id=\"line2d_7\">\r\n      <g>\r\n       <use style=\"stroke:#000000;stroke-width:0.8;\" x=\"426.273427\" xlink:href=\"#mbaaae438b5\" y=\"333.36\"/>\r\n      </g>\r\n     </g>\r\n     <g id=\"text_7\">\r\n      <!-- 6000 -->\r\n      <g transform=\"translate(413.548427 347.958438)scale(0.1 -0.1)\">\r\n       <defs>\r\n        <path d=\"M 33.015625 40.375 \r\nQ 26.375 40.375 22.484375 35.828125 \r\nQ 18.609375 31.296875 18.609375 23.390625 \r\nQ 18.609375 15.53125 22.484375 10.953125 \r\nQ 26.375 6.390625 33.015625 6.390625 \r\nQ 39.65625 6.390625 43.53125 10.953125 \r\nQ 47.40625 15.53125 47.40625 23.390625 \r\nQ 47.40625 31.296875 43.53125 35.828125 \r\nQ 39.65625 40.375 33.015625 40.375 \r\nz\r\nM 52.59375 71.296875 \r\nL 52.59375 62.3125 \r\nQ 48.875 64.0625 45.09375 64.984375 \r\nQ 41.3125 65.921875 37.59375 65.921875 \r\nQ 27.828125 65.921875 22.671875 59.328125 \r\nQ 17.53125 52.734375 16.796875 39.40625 \r\nQ 19.671875 43.65625 24.015625 45.921875 \r\nQ 28.375 48.1875 33.59375 48.1875 \r\nQ 44.578125 48.1875 50.953125 41.515625 \r\nQ 57.328125 34.859375 57.328125 23.390625 \r\nQ 57.328125 12.15625 50.6875 5.359375 \r\nQ 44.046875 -1.421875 33.015625 -1.421875 \r\nQ 20.359375 -1.421875 13.671875 8.265625 \r\nQ 6.984375 17.96875 6.984375 36.375 \r\nQ 6.984375 53.65625 15.1875 63.9375 \r\nQ 23.390625 74.21875 37.203125 74.21875 \r\nQ 40.921875 74.21875 44.703125 73.484375 \r\nQ 48.484375 72.75 52.59375 71.296875 \r\nz\r\n\" id=\"DejaVuSans-54\"/>\r\n       </defs>\r\n       <use xlink:href=\"#DejaVuSans-54\"/>\r\n       <use x=\"63.623047\" xlink:href=\"#DejaVuSans-48\"/>\r\n       <use x=\"127.246094\" xlink:href=\"#DejaVuSans-48\"/>\r\n       <use x=\"190.869141\" xlink:href=\"#DejaVuSans-48\"/>\r\n      </g>\r\n     </g>\r\n    </g>\r\n    <g id=\"xtick_8\">\r\n     <g id=\"line2d_8\">\r\n      <g>\r\n       <use style=\"stroke:#000000;stroke-width:0.8;\" x=\"491.308392\" xlink:href=\"#mbaaae438b5\" y=\"333.36\"/>\r\n      </g>\r\n     </g>\r\n     <g id=\"text_8\">\r\n      <!-- 7000 -->\r\n      <g transform=\"translate(478.583392 347.958438)scale(0.1 -0.1)\">\r\n       <defs>\r\n        <path d=\"M 8.203125 72.90625 \r\nL 55.078125 72.90625 \r\nL 55.078125 68.703125 \r\nL 28.609375 0 \r\nL 18.3125 0 \r\nL 43.21875 64.59375 \r\nL 8.203125 64.59375 \r\nz\r\n\" id=\"DejaVuSans-55\"/>\r\n       </defs>\r\n       <use xlink:href=\"#DejaVuSans-55\"/>\r\n       <use x=\"63.623047\" xlink:href=\"#DejaVuSans-48\"/>\r\n       <use x=\"127.246094\" xlink:href=\"#DejaVuSans-48\"/>\r\n       <use x=\"190.869141\" xlink:href=\"#DejaVuSans-48\"/>\r\n      </g>\r\n     </g>\r\n    </g>\r\n    <g id=\"xtick_9\">\r\n     <g id=\"line2d_9\">\r\n      <g>\r\n       <use style=\"stroke:#000000;stroke-width:0.8;\" x=\"556.343357\" xlink:href=\"#mbaaae438b5\" y=\"333.36\"/>\r\n      </g>\r\n     </g>\r\n     <g id=\"text_9\">\r\n      <!-- 8000 -->\r\n      <g transform=\"translate(543.618357 347.958438)scale(0.1 -0.1)\">\r\n       <defs>\r\n        <path d=\"M 31.78125 34.625 \r\nQ 24.75 34.625 20.71875 30.859375 \r\nQ 16.703125 27.09375 16.703125 20.515625 \r\nQ 16.703125 13.921875 20.71875 10.15625 \r\nQ 24.75 6.390625 31.78125 6.390625 \r\nQ 38.8125 6.390625 42.859375 10.171875 \r\nQ 46.921875 13.96875 46.921875 20.515625 \r\nQ 46.921875 27.09375 42.890625 30.859375 \r\nQ 38.875 34.625 31.78125 34.625 \r\nz\r\nM 21.921875 38.8125 \r\nQ 15.578125 40.375 12.03125 44.71875 \r\nQ 8.5 49.078125 8.5 55.328125 \r\nQ 8.5 64.0625 14.71875 69.140625 \r\nQ 20.953125 74.21875 31.78125 74.21875 \r\nQ 42.671875 74.21875 48.875 69.140625 \r\nQ 55.078125 64.0625 55.078125 55.328125 \r\nQ 55.078125 49.078125 51.53125 44.71875 \r\nQ 48 40.375 41.703125 38.8125 \r\nQ 48.828125 37.15625 52.796875 32.3125 \r\nQ 56.78125 27.484375 56.78125 20.515625 \r\nQ 56.78125 9.90625 50.3125 4.234375 \r\nQ 43.84375 -1.421875 31.78125 -1.421875 \r\nQ 19.734375 -1.421875 13.25 4.234375 \r\nQ 6.78125 9.90625 6.78125 20.515625 \r\nQ 6.78125 27.484375 10.78125 32.3125 \r\nQ 14.796875 37.15625 21.921875 38.8125 \r\nz\r\nM 18.3125 54.390625 \r\nQ 18.3125 48.734375 21.84375 45.5625 \r\nQ 25.390625 42.390625 31.78125 42.390625 \r\nQ 38.140625 42.390625 41.71875 45.5625 \r\nQ 45.3125 48.734375 45.3125 54.390625 \r\nQ 45.3125 60.0625 41.71875 63.234375 \r\nQ 38.140625 66.40625 31.78125 66.40625 \r\nQ 25.390625 66.40625 21.84375 63.234375 \r\nQ 18.3125 60.0625 18.3125 54.390625 \r\nz\r\n\" id=\"DejaVuSans-56\"/>\r\n       </defs>\r\n       <use xlink:href=\"#DejaVuSans-56\"/>\r\n       <use x=\"63.623047\" xlink:href=\"#DejaVuSans-48\"/>\r\n       <use x=\"127.246094\" xlink:href=\"#DejaVuSans-48\"/>\r\n       <use x=\"190.869141\" xlink:href=\"#DejaVuSans-48\"/>\r\n      </g>\r\n     </g>\r\n    </g>\r\n    <g id=\"text_10\">\r\n     <!-- GROSS SQUARE FEET -->\r\n     <g transform=\"translate(235.817188 361.636562)scale(0.1 -0.1)\">\r\n      <defs>\r\n       <path d=\"M 59.515625 10.40625 \r\nL 59.515625 29.984375 \r\nL 43.40625 29.984375 \r\nL 43.40625 38.09375 \r\nL 69.28125 38.09375 \r\nL 69.28125 6.78125 \r\nQ 63.578125 2.734375 56.6875 0.65625 \r\nQ 49.8125 -1.421875 42 -1.421875 \r\nQ 24.90625 -1.421875 15.25 8.5625 \r\nQ 5.609375 18.5625 5.609375 36.375 \r\nQ 5.609375 54.25 15.25 64.234375 \r\nQ 24.90625 74.21875 42 74.21875 \r\nQ 49.125 74.21875 55.546875 72.453125 \r\nQ 61.96875 70.703125 67.390625 67.28125 \r\nL 67.390625 56.78125 \r\nQ 61.921875 61.421875 55.765625 63.765625 \r\nQ 49.609375 66.109375 42.828125 66.109375 \r\nQ 29.4375 66.109375 22.71875 58.640625 \r\nQ 16.015625 51.171875 16.015625 36.375 \r\nQ 16.015625 21.625 22.71875 14.15625 \r\nQ 29.4375 6.6875 42.828125 6.6875 \r\nQ 48.046875 6.6875 52.140625 7.59375 \r\nQ 56.25 8.5 59.515625 10.40625 \r\nz\r\n\" id=\"DejaVuSans-71\"/>\r\n       <path d=\"M 44.390625 34.1875 \r\nQ 47.5625 33.109375 50.5625 29.59375 \r\nQ 53.5625 26.078125 56.59375 19.921875 \r\nL 66.609375 0 \r\nL 56 0 \r\nL 46.6875 18.703125 \r\nQ 43.0625 26.03125 39.671875 28.421875 \r\nQ 36.28125 30.8125 30.421875 30.8125 \r\nL 19.671875 30.8125 \r\nL 19.671875 0 \r\nL 9.8125 0 \r\nL 9.8125 72.90625 \r\nL 32.078125 72.90625 \r\nQ 44.578125 72.90625 50.734375 67.671875 \r\nQ 56.890625 62.453125 56.890625 51.90625 \r\nQ 56.890625 45.015625 53.6875 40.46875 \r\nQ 50.484375 35.9375 44.390625 34.1875 \r\nz\r\nM 19.671875 64.796875 \r\nL 19.671875 38.921875 \r\nL 32.078125 38.921875 \r\nQ 39.203125 38.921875 42.84375 42.21875 \r\nQ 46.484375 45.515625 46.484375 51.90625 \r\nQ 46.484375 58.296875 42.84375 61.546875 \r\nQ 39.203125 64.796875 32.078125 64.796875 \r\nz\r\n\" id=\"DejaVuSans-82\"/>\r\n       <path d=\"M 39.40625 66.21875 \r\nQ 28.65625 66.21875 22.328125 58.203125 \r\nQ 16.015625 50.203125 16.015625 36.375 \r\nQ 16.015625 22.609375 22.328125 14.59375 \r\nQ 28.65625 6.59375 39.40625 6.59375 \r\nQ 50.140625 6.59375 56.421875 14.59375 \r\nQ 62.703125 22.609375 62.703125 36.375 \r\nQ 62.703125 50.203125 56.421875 58.203125 \r\nQ 50.140625 66.21875 39.40625 66.21875 \r\nz\r\nM 39.40625 74.21875 \r\nQ 54.734375 74.21875 63.90625 63.9375 \r\nQ 73.09375 53.65625 73.09375 36.375 \r\nQ 73.09375 19.140625 63.90625 8.859375 \r\nQ 54.734375 -1.421875 39.40625 -1.421875 \r\nQ 24.03125 -1.421875 14.8125 8.828125 \r\nQ 5.609375 19.09375 5.609375 36.375 \r\nQ 5.609375 53.65625 14.8125 63.9375 \r\nQ 24.03125 74.21875 39.40625 74.21875 \r\nz\r\n\" id=\"DejaVuSans-79\"/>\r\n       <path d=\"M 53.515625 70.515625 \r\nL 53.515625 60.890625 \r\nQ 47.90625 63.578125 42.921875 64.890625 \r\nQ 37.9375 66.21875 33.296875 66.21875 \r\nQ 25.25 66.21875 20.875 63.09375 \r\nQ 16.5 59.96875 16.5 54.203125 \r\nQ 16.5 49.359375 19.40625 46.890625 \r\nQ 22.3125 44.4375 30.421875 42.921875 \r\nL 36.375 41.703125 \r\nQ 47.40625 39.59375 52.65625 34.296875 \r\nQ 57.90625 29 57.90625 20.125 \r\nQ 57.90625 9.515625 50.796875 4.046875 \r\nQ 43.703125 -1.421875 29.984375 -1.421875 \r\nQ 24.8125 -1.421875 18.96875 -0.25 \r\nQ 13.140625 0.921875 6.890625 3.21875 \r\nL 6.890625 13.375 \r\nQ 12.890625 10.015625 18.65625 8.296875 \r\nQ 24.421875 6.59375 29.984375 6.59375 \r\nQ 38.421875 6.59375 43.015625 9.90625 \r\nQ 47.609375 13.234375 47.609375 19.390625 \r\nQ 47.609375 24.75 44.3125 27.78125 \r\nQ 41.015625 30.8125 33.5 32.328125 \r\nL 27.484375 33.5 \r\nQ 16.453125 35.6875 11.515625 40.375 \r\nQ 6.59375 45.0625 6.59375 53.421875 \r\nQ 6.59375 63.09375 13.40625 68.65625 \r\nQ 20.21875 74.21875 32.171875 74.21875 \r\nQ 37.3125 74.21875 42.625 73.28125 \r\nQ 47.953125 72.359375 53.515625 70.515625 \r\nz\r\n\" id=\"DejaVuSans-83\"/>\r\n       <path id=\"DejaVuSans-32\"/>\r\n       <path d=\"M 39.40625 66.21875 \r\nQ 28.65625 66.21875 22.328125 58.203125 \r\nQ 16.015625 50.203125 16.015625 36.375 \r\nQ 16.015625 22.609375 22.328125 14.59375 \r\nQ 28.65625 6.59375 39.40625 6.59375 \r\nQ 50.140625 6.59375 56.421875 14.59375 \r\nQ 62.703125 22.609375 62.703125 36.375 \r\nQ 62.703125 50.203125 56.421875 58.203125 \r\nQ 50.140625 66.21875 39.40625 66.21875 \r\nz\r\nM 53.21875 1.3125 \r\nL 66.21875 -12.890625 \r\nL 54.296875 -12.890625 \r\nL 43.5 -1.21875 \r\nQ 41.890625 -1.3125 41.03125 -1.359375 \r\nQ 40.1875 -1.421875 39.40625 -1.421875 \r\nQ 24.03125 -1.421875 14.8125 8.859375 \r\nQ 5.609375 19.140625 5.609375 36.375 \r\nQ 5.609375 53.65625 14.8125 63.9375 \r\nQ 24.03125 74.21875 39.40625 74.21875 \r\nQ 54.734375 74.21875 63.90625 63.9375 \r\nQ 73.09375 53.65625 73.09375 36.375 \r\nQ 73.09375 23.6875 67.984375 14.640625 \r\nQ 62.890625 5.609375 53.21875 1.3125 \r\nz\r\n\" id=\"DejaVuSans-81\"/>\r\n       <path d=\"M 8.6875 72.90625 \r\nL 18.609375 72.90625 \r\nL 18.609375 28.609375 \r\nQ 18.609375 16.890625 22.84375 11.734375 \r\nQ 27.09375 6.59375 36.625 6.59375 \r\nQ 46.09375 6.59375 50.34375 11.734375 \r\nQ 54.59375 16.890625 54.59375 28.609375 \r\nL 54.59375 72.90625 \r\nL 64.5 72.90625 \r\nL 64.5 27.390625 \r\nQ 64.5 13.140625 57.4375 5.859375 \r\nQ 50.390625 -1.421875 36.625 -1.421875 \r\nQ 22.796875 -1.421875 15.734375 5.859375 \r\nQ 8.6875 13.140625 8.6875 27.390625 \r\nz\r\n\" id=\"DejaVuSans-85\"/>\r\n       <path d=\"M 34.1875 63.1875 \r\nL 20.796875 26.90625 \r\nL 47.609375 26.90625 \r\nz\r\nM 28.609375 72.90625 \r\nL 39.796875 72.90625 \r\nL 67.578125 0 \r\nL 57.328125 0 \r\nL 50.6875 18.703125 \r\nL 17.828125 18.703125 \r\nL 11.1875 0 \r\nL 0.78125 0 \r\nz\r\n\" id=\"DejaVuSans-65\"/>\r\n       <path d=\"M 9.8125 72.90625 \r\nL 55.90625 72.90625 \r\nL 55.90625 64.59375 \r\nL 19.671875 64.59375 \r\nL 19.671875 43.015625 \r\nL 54.390625 43.015625 \r\nL 54.390625 34.71875 \r\nL 19.671875 34.71875 \r\nL 19.671875 8.296875 \r\nL 56.78125 8.296875 \r\nL 56.78125 0 \r\nL 9.8125 0 \r\nz\r\n\" id=\"DejaVuSans-69\"/>\r\n       <path d=\"M 9.8125 72.90625 \r\nL 51.703125 72.90625 \r\nL 51.703125 64.59375 \r\nL 19.671875 64.59375 \r\nL 19.671875 43.109375 \r\nL 48.578125 43.109375 \r\nL 48.578125 34.8125 \r\nL 19.671875 34.8125 \r\nL 19.671875 0 \r\nL 9.8125 0 \r\nz\r\n\" id=\"DejaVuSans-70\"/>\r\n       <path d=\"M -0.296875 72.90625 \r\nL 61.375 72.90625 \r\nL 61.375 64.59375 \r\nL 35.5 64.59375 \r\nL 35.5 0 \r\nL 25.59375 0 \r\nL 25.59375 64.59375 \r\nL -0.296875 64.59375 \r\nz\r\n\" id=\"DejaVuSans-84\"/>\r\n      </defs>\r\n      <use xlink:href=\"#DejaVuSans-71\"/>\r\n      <use x=\"77.490234\" xlink:href=\"#DejaVuSans-82\"/>\r\n      <use x=\"146.972656\" xlink:href=\"#DejaVuSans-79\"/>\r\n      <use x=\"225.683594\" xlink:href=\"#DejaVuSans-83\"/>\r\n      <use x=\"289.160156\" xlink:href=\"#DejaVuSans-83\"/>\r\n      <use x=\"352.636719\" xlink:href=\"#DejaVuSans-32\"/>\r\n      <use x=\"384.423828\" xlink:href=\"#DejaVuSans-83\"/>\r\n      <use x=\"447.900391\" xlink:href=\"#DejaVuSans-81\"/>\r\n      <use x=\"526.611328\" xlink:href=\"#DejaVuSans-85\"/>\r\n      <use x=\"599.804688\" xlink:href=\"#DejaVuSans-65\"/>\r\n      <use x=\"668.212891\" xlink:href=\"#DejaVuSans-82\"/>\r\n      <use x=\"737.695312\" xlink:href=\"#DejaVuSans-69\"/>\r\n      <use x=\"800.878906\" xlink:href=\"#DejaVuSans-32\"/>\r\n      <use x=\"832.666016\" xlink:href=\"#DejaVuSans-70\"/>\r\n      <use x=\"890.185547\" xlink:href=\"#DejaVuSans-69\"/>\r\n      <use x=\"953.369141\" xlink:href=\"#DejaVuSans-69\"/>\r\n      <use x=\"1016.552734\" xlink:href=\"#DejaVuSans-84\"/>\r\n     </g>\r\n    </g>\r\n   </g>\r\n   <g id=\"matplotlib.axis_2\">\r\n    <g id=\"ytick_1\">\r\n     <g id=\"line2d_10\">\r\n      <defs>\r\n       <path d=\"M 0 0 \r\nL -3.5 0 \r\n\" id=\"mbf8200d0fc\" style=\"stroke:#000000;stroke-width:0.8;\"/>\r\n      </defs>\r\n      <g>\r\n       <use style=\"stroke:#000000;stroke-width:0.8;\" x=\"10.7\" xlink:href=\"#mbf8200d0fc\" y=\"170.28\"/>\r\n      </g>\r\n     </g>\r\n    </g>\r\n   </g>\r\n   <g id=\"line2d_11\">\r\n    <path clip-path=\"url(#p50a5c8c151)\" d=\"M 119.308392 170.28 \r\nL 36.063636 170.28 \r\n\" style=\"fill:none;stroke:#3f3f3f;stroke-linecap:square;stroke-width:1.5;\"/>\r\n   </g>\r\n   <g id=\"line2d_12\">\r\n    <path clip-path=\"url(#p50a5c8c151)\" d=\"M 289.171817 170.28 \r\nL 543.336364 170.28 \r\n\" style=\"fill:none;stroke:#3f3f3f;stroke-linecap:square;stroke-width:1.5;\"/>\r\n   </g>\r\n   <g id=\"line2d_13\">\r\n    <path clip-path=\"url(#p50a5c8c151)\" d=\"M 36.063636 105.048 \r\nL 36.063636 235.512 \r\n\" style=\"fill:none;stroke:#3f3f3f;stroke-linecap:square;stroke-width:1.5;\"/>\r\n   </g>\r\n   <g id=\"line2d_14\">\r\n    <path clip-path=\"url(#p50a5c8c151)\" d=\"M 543.336364 105.048 \r\nL 543.336364 235.512 \r\n\" style=\"fill:none;stroke:#3f3f3f;stroke-linecap:square;stroke-width:1.5;\"/>\r\n   </g>\r\n   <g id=\"line2d_15\">\r\n    <path clip-path=\"url(#p50a5c8c151)\" d=\"M 166.133566 39.816 \r\nL 166.133566 300.744 \r\n\" style=\"fill:none;stroke:#3f3f3f;stroke-linecap:square;stroke-width:1.5;\"/>\r\n   </g>\r\n   <g id=\"patch_4\">\r\n    <path d=\"M 10.7 333.36 \r\nL 10.7 7.2 \r\n\" style=\"fill:none;stroke:#000000;stroke-linecap:square;stroke-linejoin:miter;stroke-width:0.8;\"/>\r\n   </g>\r\n   <g id=\"patch_5\">\r\n    <path d=\"M 568.7 333.36 \r\nL 568.7 7.2 \r\n\" style=\"fill:none;stroke:#000000;stroke-linecap:square;stroke-linejoin:miter;stroke-width:0.8;\"/>\r\n   </g>\r\n   <g id=\"patch_6\">\r\n    <path d=\"M 10.7 333.36 \r\nL 568.7 333.36 \r\n\" style=\"fill:none;stroke:#000000;stroke-linecap:square;stroke-linejoin:miter;stroke-width:0.8;\"/>\r\n   </g>\r\n   <g id=\"patch_7\">\r\n    <path d=\"M 10.7 7.2 \r\nL 568.7 7.2 \r\n\" style=\"fill:none;stroke:#000000;stroke-linecap:square;stroke-linejoin:miter;stroke-width:0.8;\"/>\r\n   </g>\r\n  </g>\r\n </g>\r\n <defs>\r\n  <clipPath id=\"p50a5c8c151\">\r\n   <rect height=\"326.16\" width=\"558\" x=\"10.7\" y=\"7.2\"/>\r\n  </clipPath>\r\n </defs>\r\n</svg>\r\n",
      "image/png": "[encoded data removed]"
     },
     "metadata": {
      "needs_background": "light"
     }
    }
   ],
   "source": [
    "# Square Feet Plots\n",
    "\n",
    "plt.figure(figsize=(10,6))\n",
    "sns.boxplot(x='GROSS SQUARE FEET', data=df,showfliers=False)"
   ]
  },
  {
   "cell_type": "code",
   "execution_count": 25,
   "metadata": {},
   "outputs": [
    {
     "output_type": "execute_result",
     "data": {
      "text/plain": [
       "<AxesSubplot:xlabel='LAND SQUARE FEET'>"
      ]
     },
     "metadata": {},
     "execution_count": 25
    },
    {
     "output_type": "display_data",
     "data": {
      "text/plain": "<Figure size 720x432 with 1 Axes>",
      "image/svg+xml": "<?xml version=\"1.0\" encoding=\"utf-8\" standalone=\"no\"?>\r\n<!DOCTYPE svg PUBLIC \"-//W3C//DTD SVG 1.1//EN\"\r\n  \"http://www.w3.org/Graphics/SVG/1.1/DTD/svg11.dtd\">\r\n<!-- Created with matplotlib (https://matplotlib.org/) -->\r\n<svg height=\"370.91625pt\" version=\"1.1\" viewBox=\"0 0 585.264101 370.91625\" width=\"585.264101pt\" xmlns=\"http://www.w3.org/2000/svg\" xmlns:xlink=\"http://www.w3.org/1999/xlink\">\r\n <metadata>\r\n  <rdf:RDF xmlns:cc=\"http://creativecommons.org/ns#\" xmlns:dc=\"http://purl.org/dc/elements/1.1/\" xmlns:rdf=\"http://www.w3.org/1999/02/22-rdf-syntax-ns#\">\r\n   <cc:Work>\r\n    <dc:type rdf:resource=\"http://purl.org/dc/dcmitype/StillImage\"/>\r\n    <dc:date>2021-01-17T18:05:40.217798</dc:date>\r\n    <dc:format>image/svg+xml</dc:format>\r\n    <dc:creator>\r\n     <cc:Agent>\r\n      <dc:title>Matplotlib v3.3.2, https://matplotlib.org/</dc:title>\r\n     </cc:Agent>\r\n    </dc:creator>\r\n   </cc:Work>\r\n  </rdf:RDF>\r\n </metadata>\r\n <defs>\r\n  <style type=\"text/css\">*{stroke-linecap:butt;stroke-linejoin:round;}</style>\r\n </defs>\r\n <g id=\"figure_1\">\r\n  <g id=\"patch_1\">\r\n   <path d=\"M 0 370.91625 \r\nL 585.264101 370.91625 \r\nL 585.264101 0 \r\nL 0 0 \r\nz\r\n\" style=\"fill:none;\"/>\r\n  </g>\r\n  <g id=\"axes_1\">\r\n   <g id=\"patch_2\">\r\n    <path d=\"M 10.7 333.36 \r\nL 568.7 333.36 \r\nL 568.7 7.2 \r\nL 10.7 7.2 \r\nz\r\n\" style=\"fill:#ffffff;\"/>\r\n   </g>\r\n   <g id=\"patch_3\">\r\n    <path clip-path=\"url(#pb5adf815b9)\" d=\"M 184.109545 39.816 \r\nL 184.109545 300.744 \r\nL 327.801636 300.744 \r\nL 327.801636 39.816 \r\nL 184.109545 39.816 \r\nz\r\n\" style=\"fill:#3274a1;stroke:#3f3f3f;stroke-linejoin:miter;stroke-width:1.5;\"/>\r\n   </g>\r\n   <g id=\"matplotlib.axis_1\">\r\n    <g id=\"xtick_1\">\r\n     <g id=\"line2d_1\">\r\n      <defs>\r\n       <path d=\"M 0 0 \r\nL 0 3.5 \r\n\" id=\"mec14261717\" style=\"stroke:#000000;stroke-width:0.8;\"/>\r\n      </defs>\r\n      <g>\r\n       <use style=\"stroke:#000000;stroke-width:0.8;\" x=\"36.063636\" xlink:href=\"#mec14261717\" y=\"333.36\"/>\r\n      </g>\r\n     </g>\r\n     <g id=\"text_1\">\r\n      <!-- 0 -->\r\n      <g transform=\"translate(32.882386 347.958438)scale(0.1 -0.1)\">\r\n       <defs>\r\n        <path d=\"M 31.78125 66.40625 \r\nQ 24.171875 66.40625 20.328125 58.90625 \r\nQ 16.5 51.421875 16.5 36.375 \r\nQ 16.5 21.390625 20.328125 13.890625 \r\nQ 24.171875 6.390625 31.78125 6.390625 \r\nQ 39.453125 6.390625 43.28125 13.890625 \r\nQ 47.125 21.390625 47.125 36.375 \r\nQ 47.125 51.421875 43.28125 58.90625 \r\nQ 39.453125 66.40625 31.78125 66.40625 \r\nz\r\nM 31.78125 74.21875 \r\nQ 44.046875 74.21875 50.515625 64.515625 \r\nQ 56.984375 54.828125 56.984375 36.375 \r\nQ 56.984375 17.96875 50.515625 8.265625 \r\nQ 44.046875 -1.421875 31.78125 -1.421875 \r\nQ 19.53125 -1.421875 13.0625 8.265625 \r\nQ 6.59375 17.96875 6.59375 36.375 \r\nQ 6.59375 54.828125 13.0625 64.515625 \r\nQ 19.53125 74.21875 31.78125 74.21875 \r\nz\r\n\" id=\"DejaVuSans-48\"/>\r\n       </defs>\r\n       <use xlink:href=\"#DejaVuSans-48\"/>\r\n      </g>\r\n     </g>\r\n    </g>\r\n    <g id=\"xtick_2\">\r\n     <g id=\"line2d_2\">\r\n      <g>\r\n       <use style=\"stroke:#000000;stroke-width:0.8;\" x=\"111.674417\" xlink:href=\"#mec14261717\" y=\"333.36\"/>\r\n      </g>\r\n     </g>\r\n     <g id=\"text_2\">\r\n      <!-- 1000 -->\r\n      <g transform=\"translate(98.949417 347.958438)scale(0.1 -0.1)\">\r\n       <defs>\r\n        <path d=\"M 12.40625 8.296875 \r\nL 28.515625 8.296875 \r\nL 28.515625 63.921875 \r\nL 10.984375 60.40625 \r\nL 10.984375 69.390625 \r\nL 28.421875 72.90625 \r\nL 38.28125 72.90625 \r\nL 38.28125 8.296875 \r\nL 54.390625 8.296875 \r\nL 54.390625 0 \r\nL 12.40625 0 \r\nz\r\n\" id=\"DejaVuSans-49\"/>\r\n       </defs>\r\n       <use xlink:href=\"#DejaVuSans-49\"/>\r\n       <use x=\"63.623047\" xlink:href=\"#DejaVuSans-48\"/>\r\n       <use x=\"127.246094\" xlink:href=\"#DejaVuSans-48\"/>\r\n       <use x=\"190.869141\" xlink:href=\"#DejaVuSans-48\"/>\r\n      </g>\r\n     </g>\r\n    </g>\r\n    <g id=\"xtick_3\">\r\n     <g id=\"line2d_3\">\r\n      <g>\r\n       <use style=\"stroke:#000000;stroke-width:0.8;\" x=\"187.285198\" xlink:href=\"#mec14261717\" y=\"333.36\"/>\r\n      </g>\r\n     </g>\r\n     <g id=\"text_3\">\r\n      <!-- 2000 -->\r\n      <g transform=\"translate(174.560198 347.958438)scale(0.1 -0.1)\">\r\n       <defs>\r\n        <path d=\"M 19.1875 8.296875 \r\nL 53.609375 8.296875 \r\nL 53.609375 0 \r\nL 7.328125 0 \r\nL 7.328125 8.296875 \r\nQ 12.9375 14.109375 22.625 23.890625 \r\nQ 32.328125 33.6875 34.8125 36.53125 \r\nQ 39.546875 41.84375 41.421875 45.53125 \r\nQ 43.3125 49.21875 43.3125 52.78125 \r\nQ 43.3125 58.59375 39.234375 62.25 \r\nQ 35.15625 65.921875 28.609375 65.921875 \r\nQ 23.96875 65.921875 18.8125 64.3125 \r\nQ 13.671875 62.703125 7.8125 59.421875 \r\nL 7.8125 69.390625 \r\nQ 13.765625 71.78125 18.9375 73 \r\nQ 24.125 74.21875 28.421875 74.21875 \r\nQ 39.75 74.21875 46.484375 68.546875 \r\nQ 53.21875 62.890625 53.21875 53.421875 \r\nQ 53.21875 48.921875 51.53125 44.890625 \r\nQ 49.859375 40.875 45.40625 35.40625 \r\nQ 44.1875 33.984375 37.640625 27.21875 \r\nQ 31.109375 20.453125 19.1875 8.296875 \r\nz\r\n\" id=\"DejaVuSans-50\"/>\r\n       </defs>\r\n       <use xlink:href=\"#DejaVuSans-50\"/>\r\n       <use x=\"63.623047\" xlink:href=\"#DejaVuSans-48\"/>\r\n       <use x=\"127.246094\" xlink:href=\"#DejaVuSans-48\"/>\r\n       <use x=\"190.869141\" xlink:href=\"#DejaVuSans-48\"/>\r\n      </g>\r\n     </g>\r\n    </g>\r\n    <g id=\"xtick_4\">\r\n     <g id=\"line2d_4\">\r\n      <g>\r\n       <use style=\"stroke:#000000;stroke-width:0.8;\" x=\"262.895978\" xlink:href=\"#mec14261717\" y=\"333.36\"/>\r\n      </g>\r\n     </g>\r\n     <g id=\"text_4\">\r\n      <!-- 3000 -->\r\n      <g transform=\"translate(250.170978 347.958438)scale(0.1 -0.1)\">\r\n       <defs>\r\n        <path d=\"M 40.578125 39.3125 \r\nQ 47.65625 37.796875 51.625 33 \r\nQ 55.609375 28.21875 55.609375 21.1875 \r\nQ 55.609375 10.40625 48.1875 4.484375 \r\nQ 40.765625 -1.421875 27.09375 -1.421875 \r\nQ 22.515625 -1.421875 17.65625 -0.515625 \r\nQ 12.796875 0.390625 7.625 2.203125 \r\nL 7.625 11.71875 \r\nQ 11.71875 9.328125 16.59375 8.109375 \r\nQ 21.484375 6.890625 26.8125 6.890625 \r\nQ 36.078125 6.890625 40.9375 10.546875 \r\nQ 45.796875 14.203125 45.796875 21.1875 \r\nQ 45.796875 27.640625 41.28125 31.265625 \r\nQ 36.765625 34.90625 28.71875 34.90625 \r\nL 20.21875 34.90625 \r\nL 20.21875 43.015625 \r\nL 29.109375 43.015625 \r\nQ 36.375 43.015625 40.234375 45.921875 \r\nQ 44.09375 48.828125 44.09375 54.296875 \r\nQ 44.09375 59.90625 40.109375 62.90625 \r\nQ 36.140625 65.921875 28.71875 65.921875 \r\nQ 24.65625 65.921875 20.015625 65.03125 \r\nQ 15.375 64.15625 9.8125 62.3125 \r\nL 9.8125 71.09375 \r\nQ 15.4375 72.65625 20.34375 73.4375 \r\nQ 25.25 74.21875 29.59375 74.21875 \r\nQ 40.828125 74.21875 47.359375 69.109375 \r\nQ 53.90625 64.015625 53.90625 55.328125 \r\nQ 53.90625 49.265625 50.4375 45.09375 \r\nQ 46.96875 40.921875 40.578125 39.3125 \r\nz\r\n\" id=\"DejaVuSans-51\"/>\r\n       </defs>\r\n       <use xlink:href=\"#DejaVuSans-51\"/>\r\n       <use x=\"63.623047\" xlink:href=\"#DejaVuSans-48\"/>\r\n       <use x=\"127.246094\" xlink:href=\"#DejaVuSans-48\"/>\r\n       <use x=\"190.869141\" xlink:href=\"#DejaVuSans-48\"/>\r\n      </g>\r\n     </g>\r\n    </g>\r\n    <g id=\"xtick_5\">\r\n     <g id=\"line2d_5\">\r\n      <g>\r\n       <use style=\"stroke:#000000;stroke-width:0.8;\" x=\"338.506759\" xlink:href=\"#mec14261717\" y=\"333.36\"/>\r\n      </g>\r\n     </g>\r\n     <g id=\"text_5\">\r\n      <!-- 4000 -->\r\n      <g transform=\"translate(325.781759 347.958438)scale(0.1 -0.1)\">\r\n       <defs>\r\n        <path d=\"M 37.796875 64.3125 \r\nL 12.890625 25.390625 \r\nL 37.796875 25.390625 \r\nz\r\nM 35.203125 72.90625 \r\nL 47.609375 72.90625 \r\nL 47.609375 25.390625 \r\nL 58.015625 25.390625 \r\nL 58.015625 17.1875 \r\nL 47.609375 17.1875 \r\nL 47.609375 0 \r\nL 37.796875 0 \r\nL 37.796875 17.1875 \r\nL 4.890625 17.1875 \r\nL 4.890625 26.703125 \r\nz\r\n\" id=\"DejaVuSans-52\"/>\r\n       </defs>\r\n       <use xlink:href=\"#DejaVuSans-52\"/>\r\n       <use x=\"63.623047\" xlink:href=\"#DejaVuSans-48\"/>\r\n       <use x=\"127.246094\" xlink:href=\"#DejaVuSans-48\"/>\r\n       <use x=\"190.869141\" xlink:href=\"#DejaVuSans-48\"/>\r\n      </g>\r\n     </g>\r\n    </g>\r\n    <g id=\"xtick_6\">\r\n     <g id=\"line2d_6\">\r\n      <g>\r\n       <use style=\"stroke:#000000;stroke-width:0.8;\" x=\"414.11754\" xlink:href=\"#mec14261717\" y=\"333.36\"/>\r\n      </g>\r\n     </g>\r\n     <g id=\"text_6\">\r\n      <!-- 5000 -->\r\n      <g transform=\"translate(401.39254 347.958438)scale(0.1 -0.1)\">\r\n       <defs>\r\n        <path d=\"M 10.796875 72.90625 \r\nL 49.515625 72.90625 \r\nL 49.515625 64.59375 \r\nL 19.828125 64.59375 \r\nL 19.828125 46.734375 \r\nQ 21.96875 47.46875 24.109375 47.828125 \r\nQ 26.265625 48.1875 28.421875 48.1875 \r\nQ 40.625 48.1875 47.75 41.5 \r\nQ 54.890625 34.8125 54.890625 23.390625 \r\nQ 54.890625 11.625 47.5625 5.09375 \r\nQ 40.234375 -1.421875 26.90625 -1.421875 \r\nQ 22.3125 -1.421875 17.546875 -0.640625 \r\nQ 12.796875 0.140625 7.71875 1.703125 \r\nL 7.71875 11.625 \r\nQ 12.109375 9.234375 16.796875 8.0625 \r\nQ 21.484375 6.890625 26.703125 6.890625 \r\nQ 35.15625 6.890625 40.078125 11.328125 \r\nQ 45.015625 15.765625 45.015625 23.390625 \r\nQ 45.015625 31 40.078125 35.4375 \r\nQ 35.15625 39.890625 26.703125 39.890625 \r\nQ 22.75 39.890625 18.8125 39.015625 \r\nQ 14.890625 38.140625 10.796875 36.28125 \r\nz\r\n\" id=\"DejaVuSans-53\"/>\r\n       </defs>\r\n       <use xlink:href=\"#DejaVuSans-53\"/>\r\n       <use x=\"63.623047\" xlink:href=\"#DejaVuSans-48\"/>\r\n       <use x=\"127.246094\" xlink:href=\"#DejaVuSans-48\"/>\r\n       <use x=\"190.869141\" xlink:href=\"#DejaVuSans-48\"/>\r\n      </g>\r\n     </g>\r\n    </g>\r\n    <g id=\"xtick_7\">\r\n     <g id=\"line2d_7\">\r\n      <g>\r\n       <use style=\"stroke:#000000;stroke-width:0.8;\" x=\"489.72832\" xlink:href=\"#mec14261717\" y=\"333.36\"/>\r\n      </g>\r\n     </g>\r\n     <g id=\"text_7\">\r\n      <!-- 6000 -->\r\n      <g transform=\"translate(477.00332 347.958438)scale(0.1 -0.1)\">\r\n       <defs>\r\n        <path d=\"M 33.015625 40.375 \r\nQ 26.375 40.375 22.484375 35.828125 \r\nQ 18.609375 31.296875 18.609375 23.390625 \r\nQ 18.609375 15.53125 22.484375 10.953125 \r\nQ 26.375 6.390625 33.015625 6.390625 \r\nQ 39.65625 6.390625 43.53125 10.953125 \r\nQ 47.40625 15.53125 47.40625 23.390625 \r\nQ 47.40625 31.296875 43.53125 35.828125 \r\nQ 39.65625 40.375 33.015625 40.375 \r\nz\r\nM 52.59375 71.296875 \r\nL 52.59375 62.3125 \r\nQ 48.875 64.0625 45.09375 64.984375 \r\nQ 41.3125 65.921875 37.59375 65.921875 \r\nQ 27.828125 65.921875 22.671875 59.328125 \r\nQ 17.53125 52.734375 16.796875 39.40625 \r\nQ 19.671875 43.65625 24.015625 45.921875 \r\nQ 28.375 48.1875 33.59375 48.1875 \r\nQ 44.578125 48.1875 50.953125 41.515625 \r\nQ 57.328125 34.859375 57.328125 23.390625 \r\nQ 57.328125 12.15625 50.6875 5.359375 \r\nQ 44.046875 -1.421875 33.015625 -1.421875 \r\nQ 20.359375 -1.421875 13.671875 8.265625 \r\nQ 6.984375 17.96875 6.984375 36.375 \r\nQ 6.984375 53.65625 15.1875 63.9375 \r\nQ 23.390625 74.21875 37.203125 74.21875 \r\nQ 40.921875 74.21875 44.703125 73.484375 \r\nQ 48.484375 72.75 52.59375 71.296875 \r\nz\r\n\" id=\"DejaVuSans-54\"/>\r\n       </defs>\r\n       <use xlink:href=\"#DejaVuSans-54\"/>\r\n       <use x=\"63.623047\" xlink:href=\"#DejaVuSans-48\"/>\r\n       <use x=\"127.246094\" xlink:href=\"#DejaVuSans-48\"/>\r\n       <use x=\"190.869141\" xlink:href=\"#DejaVuSans-48\"/>\r\n      </g>\r\n     </g>\r\n    </g>\r\n    <g id=\"xtick_8\">\r\n     <g id=\"line2d_8\">\r\n      <g>\r\n       <use style=\"stroke:#000000;stroke-width:0.8;\" x=\"565.339101\" xlink:href=\"#mec14261717\" y=\"333.36\"/>\r\n      </g>\r\n     </g>\r\n     <g id=\"text_8\">\r\n      <!-- 7000 -->\r\n      <g transform=\"translate(552.614101 347.958438)scale(0.1 -0.1)\">\r\n       <defs>\r\n        <path d=\"M 8.203125 72.90625 \r\nL 55.078125 72.90625 \r\nL 55.078125 68.703125 \r\nL 28.609375 0 \r\nL 18.3125 0 \r\nL 43.21875 64.59375 \r\nL 8.203125 64.59375 \r\nz\r\n\" id=\"DejaVuSans-55\"/>\r\n       </defs>\r\n       <use xlink:href=\"#DejaVuSans-55\"/>\r\n       <use x=\"63.623047\" xlink:href=\"#DejaVuSans-48\"/>\r\n       <use x=\"127.246094\" xlink:href=\"#DejaVuSans-48\"/>\r\n       <use x=\"190.869141\" xlink:href=\"#DejaVuSans-48\"/>\r\n      </g>\r\n     </g>\r\n    </g>\r\n    <g id=\"text_9\">\r\n     <!-- LAND SQUARE FEET -->\r\n     <g transform=\"translate(239.540625 361.636562)scale(0.1 -0.1)\">\r\n      <defs>\r\n       <path d=\"M 9.8125 72.90625 \r\nL 19.671875 72.90625 \r\nL 19.671875 8.296875 \r\nL 55.171875 8.296875 \r\nL 55.171875 0 \r\nL 9.8125 0 \r\nz\r\n\" id=\"DejaVuSans-76\"/>\r\n       <path d=\"M 34.1875 63.1875 \r\nL 20.796875 26.90625 \r\nL 47.609375 26.90625 \r\nz\r\nM 28.609375 72.90625 \r\nL 39.796875 72.90625 \r\nL 67.578125 0 \r\nL 57.328125 0 \r\nL 50.6875 18.703125 \r\nL 17.828125 18.703125 \r\nL 11.1875 0 \r\nL 0.78125 0 \r\nz\r\n\" id=\"DejaVuSans-65\"/>\r\n       <path d=\"M 9.8125 72.90625 \r\nL 23.09375 72.90625 \r\nL 55.421875 11.921875 \r\nL 55.421875 72.90625 \r\nL 64.984375 72.90625 \r\nL 64.984375 0 \r\nL 51.703125 0 \r\nL 19.390625 60.984375 \r\nL 19.390625 0 \r\nL 9.8125 0 \r\nz\r\n\" id=\"DejaVuSans-78\"/>\r\n       <path d=\"M 19.671875 64.796875 \r\nL 19.671875 8.109375 \r\nL 31.59375 8.109375 \r\nQ 46.6875 8.109375 53.6875 14.9375 \r\nQ 60.6875 21.78125 60.6875 36.53125 \r\nQ 60.6875 51.171875 53.6875 57.984375 \r\nQ 46.6875 64.796875 31.59375 64.796875 \r\nz\r\nM 9.8125 72.90625 \r\nL 30.078125 72.90625 \r\nQ 51.265625 72.90625 61.171875 64.09375 \r\nQ 71.09375 55.28125 71.09375 36.53125 \r\nQ 71.09375 17.671875 61.125 8.828125 \r\nQ 51.171875 0 30.078125 0 \r\nL 9.8125 0 \r\nz\r\n\" id=\"DejaVuSans-68\"/>\r\n       <path id=\"DejaVuSans-32\"/>\r\n       <path d=\"M 53.515625 70.515625 \r\nL 53.515625 60.890625 \r\nQ 47.90625 63.578125 42.921875 64.890625 \r\nQ 37.9375 66.21875 33.296875 66.21875 \r\nQ 25.25 66.21875 20.875 63.09375 \r\nQ 16.5 59.96875 16.5 54.203125 \r\nQ 16.5 49.359375 19.40625 46.890625 \r\nQ 22.3125 44.4375 30.421875 42.921875 \r\nL 36.375 41.703125 \r\nQ 47.40625 39.59375 52.65625 34.296875 \r\nQ 57.90625 29 57.90625 20.125 \r\nQ 57.90625 9.515625 50.796875 4.046875 \r\nQ 43.703125 -1.421875 29.984375 -1.421875 \r\nQ 24.8125 -1.421875 18.96875 -0.25 \r\nQ 13.140625 0.921875 6.890625 3.21875 \r\nL 6.890625 13.375 \r\nQ 12.890625 10.015625 18.65625 8.296875 \r\nQ 24.421875 6.59375 29.984375 6.59375 \r\nQ 38.421875 6.59375 43.015625 9.90625 \r\nQ 47.609375 13.234375 47.609375 19.390625 \r\nQ 47.609375 24.75 44.3125 27.78125 \r\nQ 41.015625 30.8125 33.5 32.328125 \r\nL 27.484375 33.5 \r\nQ 16.453125 35.6875 11.515625 40.375 \r\nQ 6.59375 45.0625 6.59375 53.421875 \r\nQ 6.59375 63.09375 13.40625 68.65625 \r\nQ 20.21875 74.21875 32.171875 74.21875 \r\nQ 37.3125 74.21875 42.625 73.28125 \r\nQ 47.953125 72.359375 53.515625 70.515625 \r\nz\r\n\" id=\"DejaVuSans-83\"/>\r\n       <path d=\"M 39.40625 66.21875 \r\nQ 28.65625 66.21875 22.328125 58.203125 \r\nQ 16.015625 50.203125 16.015625 36.375 \r\nQ 16.015625 22.609375 22.328125 14.59375 \r\nQ 28.65625 6.59375 39.40625 6.59375 \r\nQ 50.140625 6.59375 56.421875 14.59375 \r\nQ 62.703125 22.609375 62.703125 36.375 \r\nQ 62.703125 50.203125 56.421875 58.203125 \r\nQ 50.140625 66.21875 39.40625 66.21875 \r\nz\r\nM 53.21875 1.3125 \r\nL 66.21875 -12.890625 \r\nL 54.296875 -12.890625 \r\nL 43.5 -1.21875 \r\nQ 41.890625 -1.3125 41.03125 -1.359375 \r\nQ 40.1875 -1.421875 39.40625 -1.421875 \r\nQ 24.03125 -1.421875 14.8125 8.859375 \r\nQ 5.609375 19.140625 5.609375 36.375 \r\nQ 5.609375 53.65625 14.8125 63.9375 \r\nQ 24.03125 74.21875 39.40625 74.21875 \r\nQ 54.734375 74.21875 63.90625 63.9375 \r\nQ 73.09375 53.65625 73.09375 36.375 \r\nQ 73.09375 23.6875 67.984375 14.640625 \r\nQ 62.890625 5.609375 53.21875 1.3125 \r\nz\r\n\" id=\"DejaVuSans-81\"/>\r\n       <path d=\"M 8.6875 72.90625 \r\nL 18.609375 72.90625 \r\nL 18.609375 28.609375 \r\nQ 18.609375 16.890625 22.84375 11.734375 \r\nQ 27.09375 6.59375 36.625 6.59375 \r\nQ 46.09375 6.59375 50.34375 11.734375 \r\nQ 54.59375 16.890625 54.59375 28.609375 \r\nL 54.59375 72.90625 \r\nL 64.5 72.90625 \r\nL 64.5 27.390625 \r\nQ 64.5 13.140625 57.4375 5.859375 \r\nQ 50.390625 -1.421875 36.625 -1.421875 \r\nQ 22.796875 -1.421875 15.734375 5.859375 \r\nQ 8.6875 13.140625 8.6875 27.390625 \r\nz\r\n\" id=\"DejaVuSans-85\"/>\r\n       <path d=\"M 44.390625 34.1875 \r\nQ 47.5625 33.109375 50.5625 29.59375 \r\nQ 53.5625 26.078125 56.59375 19.921875 \r\nL 66.609375 0 \r\nL 56 0 \r\nL 46.6875 18.703125 \r\nQ 43.0625 26.03125 39.671875 28.421875 \r\nQ 36.28125 30.8125 30.421875 30.8125 \r\nL 19.671875 30.8125 \r\nL 19.671875 0 \r\nL 9.8125 0 \r\nL 9.8125 72.90625 \r\nL 32.078125 72.90625 \r\nQ 44.578125 72.90625 50.734375 67.671875 \r\nQ 56.890625 62.453125 56.890625 51.90625 \r\nQ 56.890625 45.015625 53.6875 40.46875 \r\nQ 50.484375 35.9375 44.390625 34.1875 \r\nz\r\nM 19.671875 64.796875 \r\nL 19.671875 38.921875 \r\nL 32.078125 38.921875 \r\nQ 39.203125 38.921875 42.84375 42.21875 \r\nQ 46.484375 45.515625 46.484375 51.90625 \r\nQ 46.484375 58.296875 42.84375 61.546875 \r\nQ 39.203125 64.796875 32.078125 64.796875 \r\nz\r\n\" id=\"DejaVuSans-82\"/>\r\n       <path d=\"M 9.8125 72.90625 \r\nL 55.90625 72.90625 \r\nL 55.90625 64.59375 \r\nL 19.671875 64.59375 \r\nL 19.671875 43.015625 \r\nL 54.390625 43.015625 \r\nL 54.390625 34.71875 \r\nL 19.671875 34.71875 \r\nL 19.671875 8.296875 \r\nL 56.78125 8.296875 \r\nL 56.78125 0 \r\nL 9.8125 0 \r\nz\r\n\" id=\"DejaVuSans-69\"/>\r\n       <path d=\"M 9.8125 72.90625 \r\nL 51.703125 72.90625 \r\nL 51.703125 64.59375 \r\nL 19.671875 64.59375 \r\nL 19.671875 43.109375 \r\nL 48.578125 43.109375 \r\nL 48.578125 34.8125 \r\nL 19.671875 34.8125 \r\nL 19.671875 0 \r\nL 9.8125 0 \r\nz\r\n\" id=\"DejaVuSans-70\"/>\r\n       <path d=\"M -0.296875 72.90625 \r\nL 61.375 72.90625 \r\nL 61.375 64.59375 \r\nL 35.5 64.59375 \r\nL 35.5 0 \r\nL 25.59375 0 \r\nL 25.59375 64.59375 \r\nL -0.296875 64.59375 \r\nz\r\n\" id=\"DejaVuSans-84\"/>\r\n      </defs>\r\n      <use xlink:href=\"#DejaVuSans-76\"/>\r\n      <use x=\"57.962891\" xlink:href=\"#DejaVuSans-65\"/>\r\n      <use x=\"126.371094\" xlink:href=\"#DejaVuSans-78\"/>\r\n      <use x=\"201.175781\" xlink:href=\"#DejaVuSans-68\"/>\r\n      <use x=\"278.177734\" xlink:href=\"#DejaVuSans-32\"/>\r\n      <use x=\"309.964844\" xlink:href=\"#DejaVuSans-83\"/>\r\n      <use x=\"373.441406\" xlink:href=\"#DejaVuSans-81\"/>\r\n      <use x=\"452.152344\" xlink:href=\"#DejaVuSans-85\"/>\r\n      <use x=\"525.345703\" xlink:href=\"#DejaVuSans-65\"/>\r\n      <use x=\"593.753906\" xlink:href=\"#DejaVuSans-82\"/>\r\n      <use x=\"663.236328\" xlink:href=\"#DejaVuSans-69\"/>\r\n      <use x=\"726.419922\" xlink:href=\"#DejaVuSans-32\"/>\r\n      <use x=\"758.207031\" xlink:href=\"#DejaVuSans-70\"/>\r\n      <use x=\"815.726562\" xlink:href=\"#DejaVuSans-69\"/>\r\n      <use x=\"878.910156\" xlink:href=\"#DejaVuSans-69\"/>\r\n      <use x=\"942.09375\" xlink:href=\"#DejaVuSans-84\"/>\r\n     </g>\r\n    </g>\r\n   </g>\r\n   <g id=\"matplotlib.axis_2\">\r\n    <g id=\"ytick_1\">\r\n     <g id=\"line2d_9\">\r\n      <defs>\r\n       <path d=\"M 0 0 \r\nL -3.5 0 \r\n\" id=\"m6201c63d2f\" style=\"stroke:#000000;stroke-width:0.8;\"/>\r\n      </defs>\r\n      <g>\r\n       <use style=\"stroke:#000000;stroke-width:0.8;\" x=\"10.7\" xlink:href=\"#m6201c63d2f\" y=\"170.28\"/>\r\n      </g>\r\n     </g>\r\n    </g>\r\n   </g>\r\n   <g id=\"line2d_10\">\r\n    <path clip-path=\"url(#pb5adf815b9)\" d=\"M 184.109545 170.28 \r\nL 36.063636 170.28 \r\n\" style=\"fill:none;stroke:#3f3f3f;stroke-linecap:square;stroke-width:1.5;\"/>\r\n   </g>\r\n   <g id=\"line2d_11\">\r\n    <path clip-path=\"url(#pb5adf815b9)\" d=\"M 327.801636 170.28 \r\nL 543.336364 170.28 \r\n\" style=\"fill:none;stroke:#3f3f3f;stroke-linecap:square;stroke-width:1.5;\"/>\r\n   </g>\r\n   <g id=\"line2d_12\">\r\n    <path clip-path=\"url(#pb5adf815b9)\" d=\"M 36.063636 105.048 \r\nL 36.063636 235.512 \r\n\" style=\"fill:none;stroke:#3f3f3f;stroke-linecap:square;stroke-width:1.5;\"/>\r\n   </g>\r\n   <g id=\"line2d_13\">\r\n    <path clip-path=\"url(#pb5adf815b9)\" d=\"M 543.336364 105.048 \r\nL 543.336364 235.512 \r\n\" style=\"fill:none;stroke:#3f3f3f;stroke-linecap:square;stroke-width:1.5;\"/>\r\n   </g>\r\n   <g id=\"line2d_14\">\r\n    <path clip-path=\"url(#pb5adf815b9)\" d=\"M 235.676097 39.816 \r\nL 235.676097 300.744 \r\n\" style=\"fill:none;stroke:#3f3f3f;stroke-linecap:square;stroke-width:1.5;\"/>\r\n   </g>\r\n   <g id=\"patch_4\">\r\n    <path d=\"M 10.7 333.36 \r\nL 10.7 7.2 \r\n\" style=\"fill:none;stroke:#000000;stroke-linecap:square;stroke-linejoin:miter;stroke-width:0.8;\"/>\r\n   </g>\r\n   <g id=\"patch_5\">\r\n    <path d=\"M 568.7 333.36 \r\nL 568.7 7.2 \r\n\" style=\"fill:none;stroke:#000000;stroke-linecap:square;stroke-linejoin:miter;stroke-width:0.8;\"/>\r\n   </g>\r\n   <g id=\"patch_6\">\r\n    <path d=\"M 10.7 333.36 \r\nL 568.7 333.36 \r\n\" style=\"fill:none;stroke:#000000;stroke-linecap:square;stroke-linejoin:miter;stroke-width:0.8;\"/>\r\n   </g>\r\n   <g id=\"patch_7\">\r\n    <path d=\"M 10.7 7.2 \r\nL 568.7 7.2 \r\n\" style=\"fill:none;stroke:#000000;stroke-linecap:square;stroke-linejoin:miter;stroke-width:0.8;\"/>\r\n   </g>\r\n  </g>\r\n </g>\r\n <defs>\r\n  <clipPath id=\"pb5adf815b9\">\r\n   <rect height=\"326.16\" width=\"558\" x=\"10.7\" y=\"7.2\"/>\r\n  </clipPath>\r\n </defs>\r\n</svg>\r\n",
      "image/png": "[encoded data removed]"
     },
     "metadata": {
      "needs_background": "light"
     }
    }
   ],
   "source": [
    "plt.figure(figsize=(10,6))\n",
    "sns.boxplot(x='LAND SQUARE FEET', data=df,showfliers=False)"
   ]
  },
  {
   "cell_type": "code",
   "execution_count": 26,
   "metadata": {},
   "outputs": [],
   "source": [
    "# Keeping only required rows based on area\n",
    "df = df[df['GROSS SQUARE FEET'] < 10000]\n",
    "df = df[df['LAND SQUARE FEET'] < 10000]"
   ]
  },
  {
   "cell_type": "code",
   "execution_count": 27,
   "metadata": {},
   "outputs": [
    {
     "output_type": "execute_result",
     "data": {
      "text/plain": [
       "(38342, 19)"
      ]
     },
     "metadata": {},
     "execution_count": 27
    }
   ],
   "source": [
    "df.shape"
   ]
  },
  {
   "cell_type": "code",
   "execution_count": 28,
   "metadata": {},
   "outputs": [],
   "source": [
    "del df['ADDRESS']\n",
    "del df['APARTMENT NUMBER']"
   ]
  },
  {
   "cell_type": "code",
   "execution_count": 29,
   "metadata": {},
   "outputs": [
    {
     "output_type": "stream",
     "name": "stdout",
     "text": [
      "<class 'pandas.core.frame.DataFrame'>\nInt64Index: 38342 entries, 3 to 84545\nData columns (total 17 columns):\n #   Column                          Non-Null Count  Dtype   \n---  ------                          --------------  -----   \n 0   BOROUGH                         38342 non-null  category\n 1   NEIGHBORHOOD                    38342 non-null  object  \n 2   BUILDING CLASS CATEGORY         38342 non-null  object  \n 3   TAX CLASS AT PRESENT            38342 non-null  category\n 4   BLOCK                           38342 non-null  int64   \n 5   LOT                             38342 non-null  int64   \n 6   BUILDING CLASS AT PRESENT       38342 non-null  object  \n 7   ZIP CODE                        38342 non-null  int64   \n 8   RESIDENTIAL UNITS               38342 non-null  int64   \n 9   COMMERCIAL UNITS                38342 non-null  int64   \n 10  TOTAL UNITS                     38342 non-null  int64   \n 11  LAND SQUARE FEET                38342 non-null  float64 \n 12  GROSS SQUARE FEET               38342 non-null  float64 \n 13  YEAR BUILT                      38342 non-null  int64   \n 14  TAX CLASS AT TIME OF SALE       38342 non-null  category\n 15  BUILDING CLASS AT TIME OF SALE  38342 non-null  object  \n 16  SALE PRICE                      38342 non-null  float64 \ndtypes: category(3), float64(3), int64(7), object(4)\nmemory usage: 4.5+ MB\n"
     ]
    }
   ],
   "source": [
    "df.info()"
   ]
  },
  {
   "cell_type": "code",
   "execution_count": 30,
   "metadata": {},
   "outputs": [
    {
     "output_type": "execute_result",
     "data": {
      "text/plain": [
       "Index(['BLOCK', 'LOT', 'ZIP CODE', 'RESIDENTIAL UNITS', 'COMMERCIAL UNITS',\n",
       "       'TOTAL UNITS', 'LAND SQUARE FEET', 'GROSS SQUARE FEET', 'YEAR BUILT',\n",
       "       'SALE PRICE'],\n",
       "      dtype='object')"
      ]
     },
     "metadata": {},
     "execution_count": 30
    }
   ],
   "source": [
    "numeric_data.columns"
   ]
  },
  {
   "cell_type": "code",
   "execution_count": 32,
   "metadata": {},
   "outputs": [],
   "source": [
    "# Transforming the numeric features using log(x + 1)\n",
    "\n",
    "from scipy.stats import skew\n",
    "skewed = df[numeric_data.columns].apply(lambda x: skew(x.dropna().astype(float)))\n",
    "skewed = skewed[skewed > 0.75]\n",
    "skewed = skewed.index\n",
    "df[skewed] = np.log1p(df[skewed])"
   ]
  },
  {
   "cell_type": "code",
   "execution_count": 33,
   "metadata": {},
   "outputs": [],
   "source": [
    "# Normalising the numerical columns\n",
    "\n",
    "from sklearn.preprocessing import StandardScaler\n",
    "scaler = StandardScaler()\n",
    "scaler.fit(df[numeric_data.columns])\n",
    "scaled = scaler.transform(df[numeric_data.columns])\n",
    "\n",
    "for i, col in enumerate(numeric_data.columns):\n",
    "       df[col] = scaled[:,i]"
   ]
  },
  {
   "cell_type": "code",
   "execution_count": 34,
   "metadata": {},
   "outputs": [
    {
     "output_type": "execute_result",
     "data": {
      "text/plain": [
       "   BOROUGH   NEIGHBORHOOD                      BUILDING CLASS CATEGORY  \\\n",
       "3        1  ALPHABET CITY  07 RENTALS - WALKUP APARTMENTS                \n",
       "6        1  ALPHABET CITY  07 RENTALS - WALKUP APARTMENTS                \n",
       "76       1  ALPHABET CITY  12 CONDOS - WALKUP APARTMENTS                 \n",
       "79       1  ALPHABET CITY  13 CONDOS - ELEVATOR APARTMENTS               \n",
       "80       1  ALPHABET CITY  13 CONDOS - ELEVATOR APARTMENTS               \n",
       "\n",
       "   TAX CLASS AT PRESENT     BLOCK       LOT BUILDING CLASS AT PRESENT  \\\n",
       "3                    2B -1.552838 -0.871424                        C4   \n",
       "6                    2B -1.545023 -0.654228                        C4   \n",
       "76                    2 -1.584890  1.174680                        R2   \n",
       "79                    2 -1.611925  1.175214                        R4   \n",
       "80                    2 -1.611925  1.175747                        R4   \n",
       "\n",
       "    ZIP CODE  RESIDENTIAL UNITS  COMMERCIAL UNITS  TOTAL UNITS  \\\n",
       "3  -1.442057           3.592461         -0.210487     4.083993   \n",
       "6  -1.442057           3.238031         -0.210487     3.668144   \n",
       "76 -1.442057          -0.463263         -0.210487    -0.674540   \n",
       "79 -1.442057          -0.463263         -0.210487    -0.674540   \n",
       "80 -1.442057          -0.463263         -0.210487    -0.674540   \n",
       "\n",
       "    LAND SQUARE FEET  GROSS SQUARE FEET  YEAR BUILT TAX CLASS AT TIME OF SALE  \\\n",
       "3          -0.332369           3.247655    0.176451                         2   \n",
       "6          -0.669316           1.421318    0.191071                         2   \n",
       "76          0.691653           1.183694   -3.818937                         2   \n",
       "79          0.691653           1.183694    0.191071                         2   \n",
       "80          0.691653           1.183694    0.191071                         2   \n",
       "\n",
       "   BUILDING CLASS AT TIME OF SALE  SALE PRICE  \n",
       "3                              C4    2.478171  \n",
       "6                              C4    2.174164  \n",
       "76                             R2   -0.206132  \n",
       "79                             R4    0.094653  \n",
       "80                             R4    0.113914  "
      ],
      "text/html": "<div>\n<style scoped>\n    .dataframe tbody tr th:only-of-type {\n        vertical-align: middle;\n    }\n\n    .dataframe tbody tr th {\n        vertical-align: top;\n    }\n\n    .dataframe thead th {\n        text-align: right;\n    }\n</style>\n<table border=\"1\" class=\"dataframe\">\n  <thead>\n    <tr style=\"text-align: right;\">\n      <th></th>\n      <th>BOROUGH</th>\n      <th>NEIGHBORHOOD</th>\n      <th>BUILDING CLASS CATEGORY</th>\n      <th>TAX CLASS AT PRESENT</th>\n      <th>BLOCK</th>\n      <th>LOT</th>\n      <th>BUILDING CLASS AT PRESENT</th>\n      <th>ZIP CODE</th>\n      <th>RESIDENTIAL UNITS</th>\n      <th>COMMERCIAL UNITS</th>\n      <th>TOTAL UNITS</th>\n      <th>LAND SQUARE FEET</th>\n      <th>GROSS SQUARE FEET</th>\n      <th>YEAR BUILT</th>\n      <th>TAX CLASS AT TIME OF SALE</th>\n      <th>BUILDING CLASS AT TIME OF SALE</th>\n      <th>SALE PRICE</th>\n    </tr>\n  </thead>\n  <tbody>\n    <tr>\n      <th>3</th>\n      <td>1</td>\n      <td>ALPHABET CITY</td>\n      <td>07 RENTALS - WALKUP APARTMENTS</td>\n      <td>2B</td>\n      <td>-1.552838</td>\n      <td>-0.871424</td>\n      <td>C4</td>\n      <td>-1.442057</td>\n      <td>3.592461</td>\n      <td>-0.210487</td>\n      <td>4.083993</td>\n      <td>-0.332369</td>\n      <td>3.247655</td>\n      <td>0.176451</td>\n      <td>2</td>\n      <td>C4</td>\n      <td>2.478171</td>\n    </tr>\n    <tr>\n      <th>6</th>\n      <td>1</td>\n      <td>ALPHABET CITY</td>\n      <td>07 RENTALS - WALKUP APARTMENTS</td>\n      <td>2B</td>\n      <td>-1.545023</td>\n      <td>-0.654228</td>\n      <td>C4</td>\n      <td>-1.442057</td>\n      <td>3.238031</td>\n      <td>-0.210487</td>\n      <td>3.668144</td>\n      <td>-0.669316</td>\n      <td>1.421318</td>\n      <td>0.191071</td>\n      <td>2</td>\n      <td>C4</td>\n      <td>2.174164</td>\n    </tr>\n    <tr>\n      <th>76</th>\n      <td>1</td>\n      <td>ALPHABET CITY</td>\n      <td>12 CONDOS - WALKUP APARTMENTS</td>\n      <td>2</td>\n      <td>-1.584890</td>\n      <td>1.174680</td>\n      <td>R2</td>\n      <td>-1.442057</td>\n      <td>-0.463263</td>\n      <td>-0.210487</td>\n      <td>-0.674540</td>\n      <td>0.691653</td>\n      <td>1.183694</td>\n      <td>-3.818937</td>\n      <td>2</td>\n      <td>R2</td>\n      <td>-0.206132</td>\n    </tr>\n    <tr>\n      <th>79</th>\n      <td>1</td>\n      <td>ALPHABET CITY</td>\n      <td>13 CONDOS - ELEVATOR APARTMENTS</td>\n      <td>2</td>\n      <td>-1.611925</td>\n      <td>1.175214</td>\n      <td>R4</td>\n      <td>-1.442057</td>\n      <td>-0.463263</td>\n      <td>-0.210487</td>\n      <td>-0.674540</td>\n      <td>0.691653</td>\n      <td>1.183694</td>\n      <td>0.191071</td>\n      <td>2</td>\n      <td>R4</td>\n      <td>0.094653</td>\n    </tr>\n    <tr>\n      <th>80</th>\n      <td>1</td>\n      <td>ALPHABET CITY</td>\n      <td>13 CONDOS - ELEVATOR APARTMENTS</td>\n      <td>2</td>\n      <td>-1.611925</td>\n      <td>1.175747</td>\n      <td>R4</td>\n      <td>-1.442057</td>\n      <td>-0.463263</td>\n      <td>-0.210487</td>\n      <td>-0.674540</td>\n      <td>0.691653</td>\n      <td>1.183694</td>\n      <td>0.191071</td>\n      <td>2</td>\n      <td>R4</td>\n      <td>0.113914</td>\n    </tr>\n  </tbody>\n</table>\n</div>"
     },
     "metadata": {},
     "execution_count": 34
    }
   ],
   "source": [
    "df.head()"
   ]
  },
  {
   "cell_type": "code",
   "execution_count": 35,
   "metadata": {},
   "outputs": [],
   "source": [
    "# Dropping columns not useful\n",
    "del df['BUILDING CLASS AT PRESENT']\n",
    "del df['BUILDING CLASS AT TIME OF SALE']\n",
    "del df['NEIGHBORHOOD']"
   ]
  },
  {
   "cell_type": "code",
   "execution_count": 36,
   "metadata": {},
   "outputs": [
    {
     "output_type": "execute_result",
     "data": {
      "text/plain": [
       "(38342, 14)"
      ]
     },
     "metadata": {},
     "execution_count": 36
    }
   ],
   "source": [
    "df.shape"
   ]
  },
  {
   "cell_type": "code",
   "execution_count": 37,
   "metadata": {},
   "outputs": [],
   "source": [
    "# Selecting the variables to be one-hot encoded\n",
    "one_hot_columns = ['BOROUGH', 'BUILDING CLASS CATEGORY','TAX CLASS AT PRESENT','TAX CLASS AT TIME OF SALE']"
   ]
  },
  {
   "cell_type": "code",
   "execution_count": 38,
   "metadata": {},
   "outputs": [
    {
     "output_type": "stream",
     "name": "stdout",
     "text": [
      "<class 'pandas.core.frame.DataFrame'>\nInt64Index: 38342 entries, 3 to 84545\nData columns (total 56 columns):\n #   Column                                                                Non-Null Count  Dtype\n---  ------                                                                --------------  -----\n 0   BOROUGH_1                                                             38342 non-null  uint8\n 1   BOROUGH_2                                                             38342 non-null  uint8\n 2   BOROUGH_3                                                             38342 non-null  uint8\n 3   BOROUGH_4                                                             38342 non-null  uint8\n 4   BOROUGH_5                                                             38342 non-null  uint8\n 5   BUILDING CLASS CATEGORY_01 ONE FAMILY DWELLINGS                       38342 non-null  uint8\n 6   BUILDING CLASS CATEGORY_02 TWO FAMILY DWELLINGS                       38342 non-null  uint8\n 7   BUILDING CLASS CATEGORY_03 THREE FAMILY DWELLINGS                     38342 non-null  uint8\n 8   BUILDING CLASS CATEGORY_04 TAX CLASS 1 CONDOS                         38342 non-null  uint8\n 9   BUILDING CLASS CATEGORY_05 TAX CLASS 1 VACANT LAND                    38342 non-null  uint8\n 10  BUILDING CLASS CATEGORY_06 TAX CLASS 1 - OTHER                        38342 non-null  uint8\n 11  BUILDING CLASS CATEGORY_07 RENTALS - WALKUP APARTMENTS                38342 non-null  uint8\n 12  BUILDING CLASS CATEGORY_08 RENTALS - ELEVATOR APARTMENTS              38342 non-null  uint8\n 13  BUILDING CLASS CATEGORY_11A CONDO-RENTALS                             38342 non-null  uint8\n 14  BUILDING CLASS CATEGORY_12 CONDOS - WALKUP APARTMENTS                 38342 non-null  uint8\n 15  BUILDING CLASS CATEGORY_13 CONDOS - ELEVATOR APARTMENTS               38342 non-null  uint8\n 16  BUILDING CLASS CATEGORY_14 RENTALS - 4-10 UNIT                        38342 non-null  uint8\n 17  BUILDING CLASS CATEGORY_15 CONDOS - 2-10 UNIT RESIDENTIAL             38342 non-null  uint8\n 18  BUILDING CLASS CATEGORY_16 CONDOS - 2-10 UNIT WITH COMMERCIAL UNIT    38342 non-null  uint8\n 19  BUILDING CLASS CATEGORY_21 OFFICE BUILDINGS                           38342 non-null  uint8\n 20  BUILDING CLASS CATEGORY_22 STORE BUILDINGS                            38342 non-null  uint8\n 21  BUILDING CLASS CATEGORY_23 LOFT BUILDINGS                             38342 non-null  uint8\n 22  BUILDING CLASS CATEGORY_26 OTHER HOTELS                               38342 non-null  uint8\n 23  BUILDING CLASS CATEGORY_27 FACTORIES                                  38342 non-null  uint8\n 24  BUILDING CLASS CATEGORY_28 COMMERCIAL CONDOS                          38342 non-null  uint8\n 25  BUILDING CLASS CATEGORY_29 COMMERCIAL GARAGES                         38342 non-null  uint8\n 26  BUILDING CLASS CATEGORY_30 WAREHOUSES                                 38342 non-null  uint8\n 27  BUILDING CLASS CATEGORY_31 COMMERCIAL VACANT LAND                     38342 non-null  uint8\n 28  BUILDING CLASS CATEGORY_32 HOSPITAL AND HEALTH FACILITIES             38342 non-null  uint8\n 29  BUILDING CLASS CATEGORY_33 EDUCATIONAL FACILITIES                     38342 non-null  uint8\n 30  BUILDING CLASS CATEGORY_35 INDOOR PUBLIC AND CULTURAL FACILITIES      38342 non-null  uint8\n 31  BUILDING CLASS CATEGORY_37 RELIGIOUS FACILITIES                       38342 non-null  uint8\n 32  BUILDING CLASS CATEGORY_38 ASYLUMS AND HOMES                          38342 non-null  uint8\n 33  BUILDING CLASS CATEGORY_41 TAX CLASS 4 - OTHER                        38342 non-null  uint8\n 34  BUILDING CLASS CATEGORY_42 CONDO CULTURAL/MEDICAL/EDUCATIONAL/ETC     38342 non-null  uint8\n 35  BUILDING CLASS CATEGORY_43 CONDO OFFICE BUILDINGS                     38342 non-null  uint8\n 36  BUILDING CLASS CATEGORY_44 CONDO PARKING                              38342 non-null  uint8\n 37  BUILDING CLASS CATEGORY_45 CONDO HOTELS                               38342 non-null  uint8\n 38  BUILDING CLASS CATEGORY_46 CONDO STORE BUILDINGS                      38342 non-null  uint8\n 39  BUILDING CLASS CATEGORY_47 CONDO NON-BUSINESS STORAGE                 38342 non-null  uint8\n 40  BUILDING CLASS CATEGORY_48 CONDO TERRACES/GARDENS/CABANAS             38342 non-null  uint8\n 41  TAX CLASS AT PRESENT_                                                 38342 non-null  uint8\n 42  TAX CLASS AT PRESENT_1                                                38342 non-null  uint8\n 43  TAX CLASS AT PRESENT_1A                                               38342 non-null  uint8\n 44  TAX CLASS AT PRESENT_1B                                               38342 non-null  uint8\n 45  TAX CLASS AT PRESENT_1C                                               38342 non-null  uint8\n 46  TAX CLASS AT PRESENT_2                                                38342 non-null  uint8\n 47  TAX CLASS AT PRESENT_2A                                               38342 non-null  uint8\n 48  TAX CLASS AT PRESENT_2B                                               38342 non-null  uint8\n 49  TAX CLASS AT PRESENT_2C                                               38342 non-null  uint8\n 50  TAX CLASS AT PRESENT_3                                                38342 non-null  uint8\n 51  TAX CLASS AT PRESENT_4                                                38342 non-null  uint8\n 52  TAX CLASS AT TIME OF SALE_1                                           38342 non-null  uint8\n 53  TAX CLASS AT TIME OF SALE_2                                           38342 non-null  uint8\n 54  TAX CLASS AT TIME OF SALE_3                                           38342 non-null  uint8\n 55  TAX CLASS AT TIME OF SALE_4                                           38342 non-null  uint8\ndtypes: uint8(56)\nmemory usage: 2.3 MB\n"
     ]
    }
   ],
   "source": [
    "# Convert categorical variables into dummy/indicator variables (i.e. one-hot encoding).\n",
    "\n",
    "one_hot_encoded = pd.get_dummies(df[one_hot_columns])\n",
    "one_hot_encoded.info(verbose=True, memory_usage=True, null_counts=True)"
   ]
  },
  {
   "cell_type": "code",
   "execution_count": 39,
   "metadata": {},
   "outputs": [],
   "source": [
    "# Replacing categorical columns with dummies\n",
    "\n",
    "fdf = df.drop(one_hot_columns,axis=1)\n",
    "fdf = pd.concat([fdf, one_hot_encoded] ,axis=1)"
   ]
  },
  {
   "cell_type": "code",
   "execution_count": 40,
   "metadata": {},
   "outputs": [
    {
     "output_type": "stream",
     "name": "stdout",
     "text": [
      "<class 'pandas.core.frame.DataFrame'>\nInt64Index: 38342 entries, 3 to 84545\nData columns (total 66 columns):\n #   Column                                                                Non-Null Count  Dtype  \n---  ------                                                                --------------  -----  \n 0   BLOCK                                                                 38342 non-null  float64\n 1   LOT                                                                   38342 non-null  float64\n 2   ZIP CODE                                                              38342 non-null  float64\n 3   RESIDENTIAL UNITS                                                     38342 non-null  float64\n 4   COMMERCIAL UNITS                                                      38342 non-null  float64\n 5   TOTAL UNITS                                                           38342 non-null  float64\n 6   LAND SQUARE FEET                                                      38342 non-null  float64\n 7   GROSS SQUARE FEET                                                     38342 non-null  float64\n 8   YEAR BUILT                                                            38342 non-null  float64\n 9   SALE PRICE                                                            38342 non-null  float64\n 10  BOROUGH_1                                                             38342 non-null  uint8  \n 11  BOROUGH_2                                                             38342 non-null  uint8  \n 12  BOROUGH_3                                                             38342 non-null  uint8  \n 13  BOROUGH_4                                                             38342 non-null  uint8  \n 14  BOROUGH_5                                                             38342 non-null  uint8  \n 15  BUILDING CLASS CATEGORY_01 ONE FAMILY DWELLINGS                       38342 non-null  uint8  \n 16  BUILDING CLASS CATEGORY_02 TWO FAMILY DWELLINGS                       38342 non-null  uint8  \n 17  BUILDING CLASS CATEGORY_03 THREE FAMILY DWELLINGS                     38342 non-null  uint8  \n 18  BUILDING CLASS CATEGORY_04 TAX CLASS 1 CONDOS                         38342 non-null  uint8  \n 19  BUILDING CLASS CATEGORY_05 TAX CLASS 1 VACANT LAND                    38342 non-null  uint8  \n 20  BUILDING CLASS CATEGORY_06 TAX CLASS 1 - OTHER                        38342 non-null  uint8  \n 21  BUILDING CLASS CATEGORY_07 RENTALS - WALKUP APARTMENTS                38342 non-null  uint8  \n 22  BUILDING CLASS CATEGORY_08 RENTALS - ELEVATOR APARTMENTS              38342 non-null  uint8  \n 23  BUILDING CLASS CATEGORY_11A CONDO-RENTALS                             38342 non-null  uint8  \n 24  BUILDING CLASS CATEGORY_12 CONDOS - WALKUP APARTMENTS                 38342 non-null  uint8  \n 25  BUILDING CLASS CATEGORY_13 CONDOS - ELEVATOR APARTMENTS               38342 non-null  uint8  \n 26  BUILDING CLASS CATEGORY_14 RENTALS - 4-10 UNIT                        38342 non-null  uint8  \n 27  BUILDING CLASS CATEGORY_15 CONDOS - 2-10 UNIT RESIDENTIAL             38342 non-null  uint8  \n 28  BUILDING CLASS CATEGORY_16 CONDOS - 2-10 UNIT WITH COMMERCIAL UNIT    38342 non-null  uint8  \n 29  BUILDING CLASS CATEGORY_21 OFFICE BUILDINGS                           38342 non-null  uint8  \n 30  BUILDING CLASS CATEGORY_22 STORE BUILDINGS                            38342 non-null  uint8  \n 31  BUILDING CLASS CATEGORY_23 LOFT BUILDINGS                             38342 non-null  uint8  \n 32  BUILDING CLASS CATEGORY_26 OTHER HOTELS                               38342 non-null  uint8  \n 33  BUILDING CLASS CATEGORY_27 FACTORIES                                  38342 non-null  uint8  \n 34  BUILDING CLASS CATEGORY_28 COMMERCIAL CONDOS                          38342 non-null  uint8  \n 35  BUILDING CLASS CATEGORY_29 COMMERCIAL GARAGES                         38342 non-null  uint8  \n 36  BUILDING CLASS CATEGORY_30 WAREHOUSES                                 38342 non-null  uint8  \n 37  BUILDING CLASS CATEGORY_31 COMMERCIAL VACANT LAND                     38342 non-null  uint8  \n 38  BUILDING CLASS CATEGORY_32 HOSPITAL AND HEALTH FACILITIES             38342 non-null  uint8  \n 39  BUILDING CLASS CATEGORY_33 EDUCATIONAL FACILITIES                     38342 non-null  uint8  \n 40  BUILDING CLASS CATEGORY_35 INDOOR PUBLIC AND CULTURAL FACILITIES      38342 non-null  uint8  \n 41  BUILDING CLASS CATEGORY_37 RELIGIOUS FACILITIES                       38342 non-null  uint8  \n 42  BUILDING CLASS CATEGORY_38 ASYLUMS AND HOMES                          38342 non-null  uint8  \n 43  BUILDING CLASS CATEGORY_41 TAX CLASS 4 - OTHER                        38342 non-null  uint8  \n 44  BUILDING CLASS CATEGORY_42 CONDO CULTURAL/MEDICAL/EDUCATIONAL/ETC     38342 non-null  uint8  \n 45  BUILDING CLASS CATEGORY_43 CONDO OFFICE BUILDINGS                     38342 non-null  uint8  \n 46  BUILDING CLASS CATEGORY_44 CONDO PARKING                              38342 non-null  uint8  \n 47  BUILDING CLASS CATEGORY_45 CONDO HOTELS                               38342 non-null  uint8  \n 48  BUILDING CLASS CATEGORY_46 CONDO STORE BUILDINGS                      38342 non-null  uint8  \n 49  BUILDING CLASS CATEGORY_47 CONDO NON-BUSINESS STORAGE                 38342 non-null  uint8  \n 50  BUILDING CLASS CATEGORY_48 CONDO TERRACES/GARDENS/CABANAS             38342 non-null  uint8  \n 51  TAX CLASS AT PRESENT_                                                 38342 non-null  uint8  \n 52  TAX CLASS AT PRESENT_1                                                38342 non-null  uint8  \n 53  TAX CLASS AT PRESENT_1A                                               38342 non-null  uint8  \n 54  TAX CLASS AT PRESENT_1B                                               38342 non-null  uint8  \n 55  TAX CLASS AT PRESENT_1C                                               38342 non-null  uint8  \n 56  TAX CLASS AT PRESENT_2                                                38342 non-null  uint8  \n 57  TAX CLASS AT PRESENT_2A                                               38342 non-null  uint8  \n 58  TAX CLASS AT PRESENT_2B                                               38342 non-null  uint8  \n 59  TAX CLASS AT PRESENT_2C                                               38342 non-null  uint8  \n 60  TAX CLASS AT PRESENT_3                                                38342 non-null  uint8  \n 61  TAX CLASS AT PRESENT_4                                                38342 non-null  uint8  \n 62  TAX CLASS AT TIME OF SALE_1                                           38342 non-null  uint8  \n 63  TAX CLASS AT TIME OF SALE_2                                           38342 non-null  uint8  \n 64  TAX CLASS AT TIME OF SALE_3                                           38342 non-null  uint8  \n 65  TAX CLASS AT TIME OF SALE_4                                           38342 non-null  uint8  \ndtypes: float64(10), uint8(56)\nmemory usage: 5.3 MB\n"
     ]
    }
   ],
   "source": [
    "fdf.info()"
   ]
  },
  {
   "cell_type": "code",
   "execution_count": 41,
   "metadata": {},
   "outputs": [
    {
     "output_type": "execute_result",
     "data": {
      "text/plain": [
       "       BLOCK       LOT  ZIP CODE  RESIDENTIAL UNITS  COMMERCIAL UNITS  \\\n",
       "3  -1.552838 -0.871424 -1.442057           3.592461         -0.210487   \n",
       "6  -1.545023 -0.654228 -1.442057           3.238031         -0.210487   \n",
       "76 -1.584890  1.174680 -1.442057          -0.463263         -0.210487   \n",
       "79 -1.611925  1.175214 -1.442057          -0.463263         -0.210487   \n",
       "80 -1.611925  1.175747 -1.442057          -0.463263         -0.210487   \n",
       "\n",
       "    TOTAL UNITS  LAND SQUARE FEET  GROSS SQUARE FEET  YEAR BUILT  SALE PRICE  \\\n",
       "3      4.083993         -0.332369           3.247655    0.176451    2.478171   \n",
       "6      3.668144         -0.669316           1.421318    0.191071    2.174164   \n",
       "76    -0.674540          0.691653           1.183694   -3.818937   -0.206132   \n",
       "79    -0.674540          0.691653           1.183694    0.191071    0.094653   \n",
       "80    -0.674540          0.691653           1.183694    0.191071    0.113914   \n",
       "\n",
       "    ...  TAX CLASS AT PRESENT_2  TAX CLASS AT PRESENT_2A  \\\n",
       "3   ...                       0                        0   \n",
       "6   ...                       0                        0   \n",
       "76  ...                       1                        0   \n",
       "79  ...                       1                        0   \n",
       "80  ...                       1                        0   \n",
       "\n",
       "    TAX CLASS AT PRESENT_2B  TAX CLASS AT PRESENT_2C  TAX CLASS AT PRESENT_3  \\\n",
       "3                         1                        0                       0   \n",
       "6                         1                        0                       0   \n",
       "76                        0                        0                       0   \n",
       "79                        0                        0                       0   \n",
       "80                        0                        0                       0   \n",
       "\n",
       "    TAX CLASS AT PRESENT_4  TAX CLASS AT TIME OF SALE_1  \\\n",
       "3                        0                            0   \n",
       "6                        0                            0   \n",
       "76                       0                            0   \n",
       "79                       0                            0   \n",
       "80                       0                            0   \n",
       "\n",
       "    TAX CLASS AT TIME OF SALE_2  TAX CLASS AT TIME OF SALE_3  \\\n",
       "3                             1                            0   \n",
       "6                             1                            0   \n",
       "76                            1                            0   \n",
       "79                            1                            0   \n",
       "80                            1                            0   \n",
       "\n",
       "    TAX CLASS AT TIME OF SALE_4  \n",
       "3                             0  \n",
       "6                             0  \n",
       "76                            0  \n",
       "79                            0  \n",
       "80                            0  \n",
       "\n",
       "[5 rows x 66 columns]"
      ],
      "text/html": "<div>\n<style scoped>\n    .dataframe tbody tr th:only-of-type {\n        vertical-align: middle;\n    }\n\n    .dataframe tbody tr th {\n        vertical-align: top;\n    }\n\n    .dataframe thead th {\n        text-align: right;\n    }\n</style>\n<table border=\"1\" class=\"dataframe\">\n  <thead>\n    <tr style=\"text-align: right;\">\n      <th></th>\n      <th>BLOCK</th>\n      <th>LOT</th>\n      <th>ZIP CODE</th>\n      <th>RESIDENTIAL UNITS</th>\n      <th>COMMERCIAL UNITS</th>\n      <th>TOTAL UNITS</th>\n      <th>LAND SQUARE FEET</th>\n      <th>GROSS SQUARE FEET</th>\n      <th>YEAR BUILT</th>\n      <th>SALE PRICE</th>\n      <th>...</th>\n      <th>TAX CLASS AT PRESENT_2</th>\n      <th>TAX CLASS AT PRESENT_2A</th>\n      <th>TAX CLASS AT PRESENT_2B</th>\n      <th>TAX CLASS AT PRESENT_2C</th>\n      <th>TAX CLASS AT PRESENT_3</th>\n      <th>TAX CLASS AT PRESENT_4</th>\n      <th>TAX CLASS AT TIME OF SALE_1</th>\n      <th>TAX CLASS AT TIME OF SALE_2</th>\n      <th>TAX CLASS AT TIME OF SALE_3</th>\n      <th>TAX CLASS AT TIME OF SALE_4</th>\n    </tr>\n  </thead>\n  <tbody>\n    <tr>\n      <th>3</th>\n      <td>-1.552838</td>\n      <td>-0.871424</td>\n      <td>-1.442057</td>\n      <td>3.592461</td>\n      <td>-0.210487</td>\n      <td>4.083993</td>\n      <td>-0.332369</td>\n      <td>3.247655</td>\n      <td>0.176451</td>\n      <td>2.478171</td>\n      <td>...</td>\n      <td>0</td>\n      <td>0</td>\n      <td>1</td>\n      <td>0</td>\n      <td>0</td>\n      <td>0</td>\n      <td>0</td>\n      <td>1</td>\n      <td>0</td>\n      <td>0</td>\n    </tr>\n    <tr>\n      <th>6</th>\n      <td>-1.545023</td>\n      <td>-0.654228</td>\n      <td>-1.442057</td>\n      <td>3.238031</td>\n      <td>-0.210487</td>\n      <td>3.668144</td>\n      <td>-0.669316</td>\n      <td>1.421318</td>\n      <td>0.191071</td>\n      <td>2.174164</td>\n      <td>...</td>\n      <td>0</td>\n      <td>0</td>\n      <td>1</td>\n      <td>0</td>\n      <td>0</td>\n      <td>0</td>\n      <td>0</td>\n      <td>1</td>\n      <td>0</td>\n      <td>0</td>\n    </tr>\n    <tr>\n      <th>76</th>\n      <td>-1.584890</td>\n      <td>1.174680</td>\n      <td>-1.442057</td>\n      <td>-0.463263</td>\n      <td>-0.210487</td>\n      <td>-0.674540</td>\n      <td>0.691653</td>\n      <td>1.183694</td>\n      <td>-3.818937</td>\n      <td>-0.206132</td>\n      <td>...</td>\n      <td>1</td>\n      <td>0</td>\n      <td>0</td>\n      <td>0</td>\n      <td>0</td>\n      <td>0</td>\n      <td>0</td>\n      <td>1</td>\n      <td>0</td>\n      <td>0</td>\n    </tr>\n    <tr>\n      <th>79</th>\n      <td>-1.611925</td>\n      <td>1.175214</td>\n      <td>-1.442057</td>\n      <td>-0.463263</td>\n      <td>-0.210487</td>\n      <td>-0.674540</td>\n      <td>0.691653</td>\n      <td>1.183694</td>\n      <td>0.191071</td>\n      <td>0.094653</td>\n      <td>...</td>\n      <td>1</td>\n      <td>0</td>\n      <td>0</td>\n      <td>0</td>\n      <td>0</td>\n      <td>0</td>\n      <td>0</td>\n      <td>1</td>\n      <td>0</td>\n      <td>0</td>\n    </tr>\n    <tr>\n      <th>80</th>\n      <td>-1.611925</td>\n      <td>1.175747</td>\n      <td>-1.442057</td>\n      <td>-0.463263</td>\n      <td>-0.210487</td>\n      <td>-0.674540</td>\n      <td>0.691653</td>\n      <td>1.183694</td>\n      <td>0.191071</td>\n      <td>0.113914</td>\n      <td>...</td>\n      <td>1</td>\n      <td>0</td>\n      <td>0</td>\n      <td>0</td>\n      <td>0</td>\n      <td>0</td>\n      <td>0</td>\n      <td>1</td>\n      <td>0</td>\n      <td>0</td>\n    </tr>\n  </tbody>\n</table>\n<p>5 rows × 66 columns</p>\n</div>"
     },
     "metadata": {},
     "execution_count": 41
    }
   ],
   "source": [
    "fdf.head()"
   ]
  },
  {
   "cell_type": "code",
   "execution_count": 42,
   "metadata": {},
   "outputs": [
    {
     "output_type": "execute_result",
     "data": {
      "text/plain": [
       "((38342, 65), (38342,))"
      ]
     },
     "metadata": {},
     "execution_count": 42
    }
   ],
   "source": [
    "Y_fdf = fdf['SALE PRICE']\n",
    "X_fdf = fdf.drop('SALE PRICE', axis=1)\n",
    "\n",
    "X_fdf.shape , Y_fdf.shape"
   ]
  },
  {
   "cell_type": "code",
   "execution_count": 43,
   "metadata": {},
   "outputs": [],
   "source": [
    "# Train Test Split\n",
    "\n",
    "from sklearn.model_selection import train_test_split \n",
    "X_train ,X_test, Y_train , Y_test = train_test_split(X_fdf , Y_fdf , test_size = 0.2 , random_state = 1)"
   ]
  },
  {
   "cell_type": "code",
   "execution_count": 44,
   "metadata": {},
   "outputs": [
    {
     "output_type": "execute_result",
     "data": {
      "text/plain": [
       "((30673, 65), (30673,))"
      ]
     },
     "metadata": {},
     "execution_count": 44
    }
   ],
   "source": [
    "# Training set\n",
    "\n",
    "X_train.shape , Y_train.shape"
   ]
  },
  {
   "cell_type": "code",
   "execution_count": 45,
   "metadata": {},
   "outputs": [
    {
     "output_type": "execute_result",
     "data": {
      "text/plain": [
       "((7669, 65), (7669,))"
      ]
     },
     "metadata": {},
     "execution_count": 45
    }
   ],
   "source": [
    "# Testing set\n",
    "\n",
    "X_test.shape , Y_test.shape"
   ]
  },
  {
   "cell_type": "code",
   "execution_count": 46,
   "metadata": {},
   "outputs": [],
   "source": [
    "# RMSE\n",
    "def rmse(y_test,y_pred):\n",
    "      return np.sqrt(mean_squared_error(y_test,y_pred))"
   ]
  },
  {
   "cell_type": "code",
   "execution_count": 47,
   "metadata": {},
   "outputs": [],
   "source": [
    "# Modelling the Data\n",
    "\n",
    "from sklearn.linear_model import LinearRegression \n",
    "from sklearn.linear_model import Lasso\n",
    "from sklearn.ensemble import RandomForestRegressor"
   ]
  },
  {
   "cell_type": "code",
   "execution_count": 48,
   "metadata": {},
   "outputs": [],
   "source": [
    "# Linear Regression\n",
    "\n",
    "lr = LinearRegression()\n",
    "lr.fit(X_train, Y_train)\n",
    "Y_pred_lr = lr.predict(X_test)"
   ]
  },
  {
   "cell_type": "code",
   "execution_count": 49,
   "metadata": {},
   "outputs": [
    {
     "output_type": "stream",
     "name": "stdout",
     "text": [
      "Linear Regression Mean Squared Error : 0.7608322854188411\n"
     ]
    }
   ],
   "source": [
    "print(\"Linear Regression Mean Squared Error : \"+str(rmse(Y_test, Y_pred_lr)))"
   ]
  },
  {
   "cell_type": "code",
   "execution_count": 50,
   "metadata": {},
   "outputs": [],
   "source": [
    "# Lasso Regression\n",
    "\n",
    "alpha=0.00099\n",
    "lasso_regr = Lasso(alpha=alpha,max_iter=50000)\n",
    "lasso_regr.fit(X_train, Y_train)\n",
    "Y_pred_lasso = lasso_regr.predict(X_test)"
   ]
  },
  {
   "cell_type": "code",
   "execution_count": 51,
   "metadata": {},
   "outputs": [
    {
     "output_type": "stream",
     "name": "stdout",
     "text": [
      "Lasso Regression Mean Squared Error : 0.7624527876466052\n"
     ]
    }
   ],
   "source": [
    "print(\"Lasso Regression Mean Squared Error : \"+str(rmse(Y_test, Y_pred_lasso)))"
   ]
  },
  {
   "cell_type": "code",
   "execution_count": 52,
   "metadata": {},
   "outputs": [],
   "source": [
    "# Random Forest Regression\n",
    "\n",
    "rfr = RandomForestRegressor(n_estimators = 100, random_state = 1)\n",
    "rfr.fit(X_train, Y_train)\n",
    "Y_pred_rf = rfr.predict(X_test)"
   ]
  },
  {
   "cell_type": "code",
   "execution_count": 53,
   "metadata": {},
   "outputs": [
    {
     "output_type": "stream",
     "name": "stdout",
     "text": [
      "Random Forest Regression Mean Squared Error : 0.5718830328425754\n"
     ]
    }
   ],
   "source": [
    "print(\"Random Forest Regression Mean Squared Error : \"+str(rmse(Y_test, Y_pred_rf)))"
   ]
  },
  {
   "cell_type": "code",
   "execution_count": 55,
   "metadata": {},
   "outputs": [
    {
     "output_type": "execute_result",
     "data": {
      "text/plain": [
       "0.42957522339351073"
      ]
     },
     "metadata": {},
     "execution_count": 55
    }
   ],
   "source": [
    "r2_score(Y_test, Y_pred_lr)"
   ]
  },
  {
   "cell_type": "code",
   "execution_count": 56,
   "metadata": {},
   "outputs": [
    {
     "output_type": "execute_result",
     "data": {
      "text/plain": [
       "0.4271427318835759"
      ]
     },
     "metadata": {},
     "execution_count": 56
    }
   ],
   "source": [
    "r2_score(Y_test, Y_pred_lasso)"
   ]
  },
  {
   "cell_type": "code",
   "execution_count": 57,
   "metadata": {},
   "outputs": [
    {
     "output_type": "execute_result",
     "data": {
      "text/plain": [
       "0.6777188254777636"
      ]
     },
     "metadata": {},
     "execution_count": 57
    }
   ],
   "source": [
    "r2_score(Y_test, Y_pred_rf)"
   ]
  },
  {
   "cell_type": "code",
   "execution_count": null,
   "metadata": {},
   "outputs": [],
   "source": []
  }
 ],
 "metadata": {
  "kernelspec": {
   "display_name": "Python 3",
   "language": "python",
   "name": "python3"
  },
  "language_info": {
   "codemirror_mode": {
    "name": "ipython",
    "version": 3
   },
   "file_extension": ".py",
   "mimetype": "text/x-python",
   "name": "python",
   "nbconvert_exporter": "python",
   "pygments_lexer": "ipython3",
   "version": "3.8.5-final"
  }
 },
 "nbformat": 4,
 "nbformat_minor": 2
}